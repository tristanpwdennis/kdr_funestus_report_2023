{
 "cells": [
  {
   "cell_type": "markdown",
   "metadata": {},
   "source": [
    "### Molecular docking\n",
    "\n",
    "Following instructions on: https://autodock-vina.readthedocs.io/en/latest/docking_python.html"
   ]
  },
  {
   "cell_type": "code",
   "execution_count": 5,
   "metadata": {},
   "outputs": [],
   "source": [
    "import pandas as pd\n",
    "import vina\n",
    "from rdkit import Chem\n",
    "from rdkit.Chem.rdMolTransforms import ComputeCentroid\n",
    "import itertools as it"
   ]
  },
  {
   "cell_type": "markdown",
   "metadata": {},
   "source": [
    "#### Prepare ligands"
   ]
  },
  {
   "cell_type": "code",
   "execution_count": 9,
   "metadata": {},
   "outputs": [
    {
     "name": "stdout",
     "output_type": "stream",
     "text": [
      "Traceback (most recent call last):\n",
      "  File \"/Users/dennistpw/miniconda3/envs/proteindocking/bin/mk_prepare_ligand.py\", line 286, in <module>\n",
      "    mol_supplier = parsers[ext](input_molecule_filename, removeHs=False) # input must have explicit H\n",
      "                   ^^^^^^^^^^^^^^^^^^^^^^^^^^^^^^^^^^^^^^^^^^^^^^^^^^^^^\n",
      "OSError: File error: Bad input file f../data/ligands/ligand_ddt.sdf\n",
      "Traceback (most recent call last):\n",
      "  File \"/Users/dennistpw/miniconda3/envs/proteindocking/bin/mk_prepare_ligand.py\", line 286, in <module>\n",
      "    mol_supplier = parsers[ext](input_molecule_filename, removeHs=False) # input must have explicit H\n",
      "                   ^^^^^^^^^^^^^^^^^^^^^^^^^^^^^^^^^^^^^^^^^^^^^^^^^^^^^\n",
      "OSError: File error: Bad input file f../data/ligands/ligand_permethrin.sdf\n",
      "Traceback (most recent call last):\n",
      "  File \"/Users/dennistpw/miniconda3/envs/proteindocking/bin/mk_prepare_ligand.py\", line 286, in <module>\n",
      "    mol_supplier = parsers[ext](input_molecule_filename, removeHs=False) # input must have explicit H\n",
      "                   ^^^^^^^^^^^^^^^^^^^^^^^^^^^^^^^^^^^^^^^^^^^^^^^^^^^^^\n",
      "OSError: File error: Bad input file f../data/ligands/ligand_deltamethrin.sdf\n"
     ]
    }
   ],
   "source": [
    "ligands = ['ddt', 'permethrin', 'deltamethrin']\n",
    "for ligand in ligands:\n",
    "    !mk_prepare_ligand.py -i f\"../data/ligands/ligand_{ligand}.sdf\" -o f\"../data/ligands/ligand_{ligand}.pdbqt\""
   ]
  },
  {
   "cell_type": "code",
   "execution_count": 4,
   "metadata": {},
   "outputs": [
    {
     "name": "stdout",
     "output_type": "stream",
     "text": [
      "adding gasteiger charges to peptide\n",
      "adding gasteiger charges to peptide\n",
      "adding gasteiger charges to peptide\n",
      "adding gasteiger charges to peptide\n",
      "adding gasteiger charges to peptide\n"
     ]
    }
   ],
   "source": [
    "receptors = ['AGAP004707-RD-995F', 'AGAP004707-RD-995S', 'AGAP004707-RD-WT','LOC125769886_t4-KDR','LOC125769886_t4-WT']\n",
    "for receptor in receptors:\n",
    "    !/Users/dennistpw/Downloads/ADFRsuite_x86_64Darwin_1.0/bin/prepare_receptor -r \"../data/receptors/{receptor}.pdb\" -o \"../data/receptors/{receptor}.pdbqt\" -A \"hydrogens\"\n"
   ]
  },
  {
   "cell_type": "markdown",
   "metadata": {},
   "source": [
    "### Prepare receptors"
   ]
  },
  {
   "cell_type": "code",
   "execution_count": 15,
   "metadata": {},
   "outputs": [
    {
     "name": "stdout",
     "output_type": "stream",
     "text": [
      "Traceback (most recent call last):\n",
      "  File \"prepare_gpf.py\", line 111, in <module>\n",
      "    gpfm.set_receptor(receptor_filename)\n",
      "  File \"/Users/dennistpw/Downloads/ADFRsuite_x86_64Darwin_1.0/CCSBpckgs/AutoDockTools/GridParameters.py\", line 1010, in set_receptor\n",
      "    self.gpo.set_receptor4(receptor_filename, types=receptor_types)\n",
      "  File \"/Users/dennistpw/Downloads/ADFRsuite_x86_64Darwin_1.0/CCSBpckgs/AutoDockTools/GridParameters.py\", line 663, in set_receptor4\n",
      "    self.receptor = Read(receptor_filename)[0]\n",
      "  File \"/Users/dennistpw/Downloads/ADFRsuite_x86_64Darwin_1.0/CCSBpckgs/MolKit/__init__.py\", line 21, in Read\n",
      "    raise AssertionError , \"%s does't exist\" %filename\n",
      "AssertionError: AGAP004707-RD-995F.pdbqt does't exist\n",
      "Traceback (most recent call last):\n",
      "  File \"prepare_gpf.py\", line 111, in <module>\n",
      "    gpfm.set_receptor(receptor_filename)\n",
      "  File \"/Users/dennistpw/Downloads/ADFRsuite_x86_64Darwin_1.0/CCSBpckgs/AutoDockTools/GridParameters.py\", line 1010, in set_receptor\n",
      "    self.gpo.set_receptor4(receptor_filename, types=receptor_types)\n",
      "  File \"/Users/dennistpw/Downloads/ADFRsuite_x86_64Darwin_1.0/CCSBpckgs/AutoDockTools/GridParameters.py\", line 663, in set_receptor4\n",
      "    self.receptor = Read(receptor_filename)[0]\n",
      "  File \"/Users/dennistpw/Downloads/ADFRsuite_x86_64Darwin_1.0/CCSBpckgs/MolKit/__init__.py\", line 21, in Read\n",
      "    raise AssertionError , \"%s does't exist\" %filename\n",
      "AssertionError: AGAP004707-RD-995S.pdbqt does't exist\n",
      "Traceback (most recent call last):\n",
      "  File \"prepare_gpf.py\", line 111, in <module>\n",
      "    gpfm.set_receptor(receptor_filename)\n",
      "  File \"/Users/dennistpw/Downloads/ADFRsuite_x86_64Darwin_1.0/CCSBpckgs/AutoDockTools/GridParameters.py\", line 1010, in set_receptor\n",
      "    self.gpo.set_receptor4(receptor_filename, types=receptor_types)\n",
      "  File \"/Users/dennistpw/Downloads/ADFRsuite_x86_64Darwin_1.0/CCSBpckgs/AutoDockTools/GridParameters.py\", line 663, in set_receptor4\n",
      "    self.receptor = Read(receptor_filename)[0]\n",
      "  File \"/Users/dennistpw/Downloads/ADFRsuite_x86_64Darwin_1.0/CCSBpckgs/MolKit/__init__.py\", line 21, in Read\n",
      "    raise AssertionError , \"%s does't exist\" %filename\n",
      "AssertionError: AGAP004707-RD-WT.pdbqt does't exist\n",
      "Traceback (most recent call last):\n",
      "  File \"prepare_gpf.py\", line 111, in <module>\n",
      "    gpfm.set_receptor(receptor_filename)\n",
      "  File \"/Users/dennistpw/Downloads/ADFRsuite_x86_64Darwin_1.0/CCSBpckgs/AutoDockTools/GridParameters.py\", line 1010, in set_receptor\n",
      "    self.gpo.set_receptor4(receptor_filename, types=receptor_types)\n",
      "  File \"/Users/dennistpw/Downloads/ADFRsuite_x86_64Darwin_1.0/CCSBpckgs/AutoDockTools/GridParameters.py\", line 663, in set_receptor4\n",
      "    self.receptor = Read(receptor_filename)[0]\n",
      "  File \"/Users/dennistpw/Downloads/ADFRsuite_x86_64Darwin_1.0/CCSBpckgs/MolKit/__init__.py\", line 21, in Read\n",
      "    raise AssertionError , \"%s does't exist\" %filename\n",
      "AssertionError: LOC125769886_t4-KDR.pdbqt does't exist\n",
      "Traceback (most recent call last):\n",
      "  File \"prepare_gpf.py\", line 111, in <module>\n",
      "    gpfm.set_receptor(receptor_filename)\n",
      "  File \"/Users/dennistpw/Downloads/ADFRsuite_x86_64Darwin_1.0/CCSBpckgs/AutoDockTools/GridParameters.py\", line 1010, in set_receptor\n",
      "    self.gpo.set_receptor4(receptor_filename, types=receptor_types)\n",
      "  File \"/Users/dennistpw/Downloads/ADFRsuite_x86_64Darwin_1.0/CCSBpckgs/AutoDockTools/GridParameters.py\", line 663, in set_receptor4\n",
      "    self.receptor = Read(receptor_filename)[0]\n",
      "  File \"/Users/dennistpw/Downloads/ADFRsuite_x86_64Darwin_1.0/CCSBpckgs/MolKit/__init__.py\", line 21, in Read\n",
      "    raise AssertionError , \"%s does't exist\" %filename\n",
      "AssertionError: LOC125769886_t4-WT.pdbqt does't exist\n",
      "Traceback (most recent call last):\n",
      "  File \"prepare_gpf.py\", line 111, in <module>\n",
      "    gpfm.set_receptor(receptor_filename)\n",
      "  File \"/Users/dennistpw/Downloads/ADFRsuite_x86_64Darwin_1.0/CCSBpckgs/AutoDockTools/GridParameters.py\", line 1010, in set_receptor\n",
      "    self.gpo.set_receptor4(receptor_filename, types=receptor_types)\n",
      "  File \"/Users/dennistpw/Downloads/ADFRsuite_x86_64Darwin_1.0/CCSBpckgs/AutoDockTools/GridParameters.py\", line 663, in set_receptor4\n",
      "    self.receptor = Read(receptor_filename)[0]\n",
      "  File \"/Users/dennistpw/Downloads/ADFRsuite_x86_64Darwin_1.0/CCSBpckgs/MolKit/__init__.py\", line 21, in Read\n",
      "    raise AssertionError , \"%s does't exist\" %filename\n",
      "AssertionError: AGAP004707-RD-995F.pdbqt does't exist\n",
      "Traceback (most recent call last):\n",
      "  File \"prepare_gpf.py\", line 111, in <module>\n",
      "    gpfm.set_receptor(receptor_filename)\n",
      "  File \"/Users/dennistpw/Downloads/ADFRsuite_x86_64Darwin_1.0/CCSBpckgs/AutoDockTools/GridParameters.py\", line 1010, in set_receptor\n",
      "    self.gpo.set_receptor4(receptor_filename, types=receptor_types)\n",
      "  File \"/Users/dennistpw/Downloads/ADFRsuite_x86_64Darwin_1.0/CCSBpckgs/AutoDockTools/GridParameters.py\", line 663, in set_receptor4\n",
      "    self.receptor = Read(receptor_filename)[0]\n",
      "  File \"/Users/dennistpw/Downloads/ADFRsuite_x86_64Darwin_1.0/CCSBpckgs/MolKit/__init__.py\", line 21, in Read\n",
      "    raise AssertionError , \"%s does't exist\" %filename\n",
      "AssertionError: AGAP004707-RD-995S.pdbqt does't exist\n",
      "Traceback (most recent call last):\n",
      "  File \"prepare_gpf.py\", line 111, in <module>\n",
      "    gpfm.set_receptor(receptor_filename)\n",
      "  File \"/Users/dennistpw/Downloads/ADFRsuite_x86_64Darwin_1.0/CCSBpckgs/AutoDockTools/GridParameters.py\", line 1010, in set_receptor\n",
      "    self.gpo.set_receptor4(receptor_filename, types=receptor_types)\n",
      "  File \"/Users/dennistpw/Downloads/ADFRsuite_x86_64Darwin_1.0/CCSBpckgs/AutoDockTools/GridParameters.py\", line 663, in set_receptor4\n",
      "    self.receptor = Read(receptor_filename)[0]\n",
      "  File \"/Users/dennistpw/Downloads/ADFRsuite_x86_64Darwin_1.0/CCSBpckgs/MolKit/__init__.py\", line 21, in Read\n",
      "    raise AssertionError , \"%s does't exist\" %filename\n",
      "AssertionError: AGAP004707-RD-WT.pdbqt does't exist\n",
      "Traceback (most recent call last):\n",
      "  File \"prepare_gpf.py\", line 111, in <module>\n",
      "    gpfm.set_receptor(receptor_filename)\n",
      "  File \"/Users/dennistpw/Downloads/ADFRsuite_x86_64Darwin_1.0/CCSBpckgs/AutoDockTools/GridParameters.py\", line 1010, in set_receptor\n",
      "    self.gpo.set_receptor4(receptor_filename, types=receptor_types)\n",
      "  File \"/Users/dennistpw/Downloads/ADFRsuite_x86_64Darwin_1.0/CCSBpckgs/AutoDockTools/GridParameters.py\", line 663, in set_receptor4\n",
      "    self.receptor = Read(receptor_filename)[0]\n",
      "  File \"/Users/dennistpw/Downloads/ADFRsuite_x86_64Darwin_1.0/CCSBpckgs/MolKit/__init__.py\", line 21, in Read\n",
      "    raise AssertionError , \"%s does't exist\" %filename\n",
      "AssertionError: LOC125769886_t4-KDR.pdbqt does't exist\n",
      "Traceback (most recent call last):\n",
      "  File \"prepare_gpf.py\", line 111, in <module>\n",
      "    gpfm.set_receptor(receptor_filename)\n",
      "  File \"/Users/dennistpw/Downloads/ADFRsuite_x86_64Darwin_1.0/CCSBpckgs/AutoDockTools/GridParameters.py\", line 1010, in set_receptor\n",
      "    self.gpo.set_receptor4(receptor_filename, types=receptor_types)\n",
      "  File \"/Users/dennistpw/Downloads/ADFRsuite_x86_64Darwin_1.0/CCSBpckgs/AutoDockTools/GridParameters.py\", line 663, in set_receptor4\n",
      "    self.receptor = Read(receptor_filename)[0]\n",
      "  File \"/Users/dennistpw/Downloads/ADFRsuite_x86_64Darwin_1.0/CCSBpckgs/MolKit/__init__.py\", line 21, in Read\n",
      "    raise AssertionError , \"%s does't exist\" %filename\n",
      "AssertionError: LOC125769886_t4-WT.pdbqt does't exist\n",
      "Traceback (most recent call last):\n",
      "  File \"prepare_gpf.py\", line 111, in <module>\n",
      "    gpfm.set_receptor(receptor_filename)\n",
      "  File \"/Users/dennistpw/Downloads/ADFRsuite_x86_64Darwin_1.0/CCSBpckgs/AutoDockTools/GridParameters.py\", line 1010, in set_receptor\n",
      "    self.gpo.set_receptor4(receptor_filename, types=receptor_types)\n",
      "  File \"/Users/dennistpw/Downloads/ADFRsuite_x86_64Darwin_1.0/CCSBpckgs/AutoDockTools/GridParameters.py\", line 663, in set_receptor4\n",
      "    self.receptor = Read(receptor_filename)[0]\n",
      "  File \"/Users/dennistpw/Downloads/ADFRsuite_x86_64Darwin_1.0/CCSBpckgs/MolKit/__init__.py\", line 21, in Read\n",
      "    raise AssertionError , \"%s does't exist\" %filename\n",
      "AssertionError: AGAP004707-RD-995F.pdbqt does't exist\n",
      "Traceback (most recent call last):\n",
      "  File \"prepare_gpf.py\", line 111, in <module>\n",
      "    gpfm.set_receptor(receptor_filename)\n",
      "  File \"/Users/dennistpw/Downloads/ADFRsuite_x86_64Darwin_1.0/CCSBpckgs/AutoDockTools/GridParameters.py\", line 1010, in set_receptor\n",
      "    self.gpo.set_receptor4(receptor_filename, types=receptor_types)\n",
      "  File \"/Users/dennistpw/Downloads/ADFRsuite_x86_64Darwin_1.0/CCSBpckgs/AutoDockTools/GridParameters.py\", line 663, in set_receptor4\n",
      "    self.receptor = Read(receptor_filename)[0]\n",
      "  File \"/Users/dennistpw/Downloads/ADFRsuite_x86_64Darwin_1.0/CCSBpckgs/MolKit/__init__.py\", line 21, in Read\n",
      "    raise AssertionError , \"%s does't exist\" %filename\n",
      "AssertionError: AGAP004707-RD-995S.pdbqt does't exist\n",
      "Traceback (most recent call last):\n",
      "  File \"prepare_gpf.py\", line 111, in <module>\n",
      "    gpfm.set_receptor(receptor_filename)\n",
      "  File \"/Users/dennistpw/Downloads/ADFRsuite_x86_64Darwin_1.0/CCSBpckgs/AutoDockTools/GridParameters.py\", line 1010, in set_receptor\n",
      "    self.gpo.set_receptor4(receptor_filename, types=receptor_types)\n",
      "  File \"/Users/dennistpw/Downloads/ADFRsuite_x86_64Darwin_1.0/CCSBpckgs/AutoDockTools/GridParameters.py\", line 663, in set_receptor4\n",
      "    self.receptor = Read(receptor_filename)[0]\n",
      "  File \"/Users/dennistpw/Downloads/ADFRsuite_x86_64Darwin_1.0/CCSBpckgs/MolKit/__init__.py\", line 21, in Read\n",
      "    raise AssertionError , \"%s does't exist\" %filename\n",
      "AssertionError: AGAP004707-RD-WT.pdbqt does't exist\n",
      "Traceback (most recent call last):\n",
      "  File \"prepare_gpf.py\", line 111, in <module>\n",
      "    gpfm.set_receptor(receptor_filename)\n",
      "  File \"/Users/dennistpw/Downloads/ADFRsuite_x86_64Darwin_1.0/CCSBpckgs/AutoDockTools/GridParameters.py\", line 1010, in set_receptor\n",
      "    self.gpo.set_receptor4(receptor_filename, types=receptor_types)\n",
      "  File \"/Users/dennistpw/Downloads/ADFRsuite_x86_64Darwin_1.0/CCSBpckgs/AutoDockTools/GridParameters.py\", line 663, in set_receptor4\n",
      "    self.receptor = Read(receptor_filename)[0]\n",
      "  File \"/Users/dennistpw/Downloads/ADFRsuite_x86_64Darwin_1.0/CCSBpckgs/MolKit/__init__.py\", line 21, in Read\n",
      "    raise AssertionError , \"%s does't exist\" %filename\n",
      "AssertionError: LOC125769886_t4-KDR.pdbqt does't exist\n",
      "Traceback (most recent call last):\n",
      "  File \"prepare_gpf.py\", line 111, in <module>\n",
      "    gpfm.set_receptor(receptor_filename)\n",
      "  File \"/Users/dennistpw/Downloads/ADFRsuite_x86_64Darwin_1.0/CCSBpckgs/AutoDockTools/GridParameters.py\", line 1010, in set_receptor\n",
      "    self.gpo.set_receptor4(receptor_filename, types=receptor_types)\n",
      "  File \"/Users/dennistpw/Downloads/ADFRsuite_x86_64Darwin_1.0/CCSBpckgs/AutoDockTools/GridParameters.py\", line 663, in set_receptor4\n",
      "    self.receptor = Read(receptor_filename)[0]\n",
      "  File \"/Users/dennistpw/Downloads/ADFRsuite_x86_64Darwin_1.0/CCSBpckgs/MolKit/__init__.py\", line 21, in Read\n",
      "    raise AssertionError , \"%s does't exist\" %filename\n",
      "AssertionError: LOC125769886_t4-WT.pdbqt does't exist\n"
     ]
    }
   ],
   "source": [
    "receptors = ['AGAP004707-RD-995F', 'AGAP004707-RD-995S', 'AGAP004707-RD-WT','LOC125769886_t4-KDR','LOC125769886_t4-WT']\n",
    "ligands = ['ddt', 'permethrin', 'deltamethrin']\n",
    "\n",
    "for lig in ligands:\n",
    "    for rec in receptors:\n",
    "        #!mkdir \"../data/{lig}_{rec}\"\n",
    "        ! /Users/dennistpw/Downloads/ADFRsuite_x86_64Darwin_1.0/bin/pythonsh ../../notebooks_scripts/prepare_gpf.py  -l \"../ligands/ligand_{lig}.pdbqt\" -r \"{rec}.pdbqt\" -y -o \"../data/{lig}_{rec}/{lig}_{rec}.gpf\"\n"
   ]
  },
  {
   "cell_type": "code",
   "execution_count": 11,
   "metadata": {},
   "outputs": [],
   "source": [
    "for idx, lig in ligands.iterrows():\n",
    "\n",
    "    liga = lig['filename']\n",
    "    prefix = lig['ligand']\n",
    "    #! ls \"/home/sanj/projects/coeae1f/results/protein_modelling/\"\n",
    "    ! pythonsh prepare_gpf.py -l ligands/{prefix}.pdbqt -r agap006227.pdbqt -y -o agap006227_{prefix}.gpf\n",
    "    ! autogrid4 -p agap006227_{prefix}.gpf -l agap006227_{prefix}.glg"
   ]
  },
  {
   "cell_type": "markdown",
   "metadata": {},
   "source": [
    "### Run Vina"
   ]
  },
  {
   "cell_type": "code",
   "execution_count": 2,
   "metadata": {},
   "outputs": [],
   "source": [
    "\n",
    "from vina import Vina\n",
    "v = Vina(sf_name='vina')"
   ]
  },
  {
   "cell_type": "code",
   "execution_count": 6,
   "metadata": {},
   "outputs": [
    {
     "name": "stdout",
     "output_type": "stream",
     "text": [
      "0.0 -6.2500000000131894e-06 -1.0408340855860843e-17\n",
      "4.18415625 -0.625 0.0\n",
      "8.69565217395553e-06 -4.347826086985005e-06 -4.347826086946389e-06\n",
      "5.240921739130434 0.3903478260869565 0.0\n",
      "3.846153846281525e-06 -7.692307692375167e-06 4.270088556250602e-18\n",
      "5.236453846153847 -0.0642307692307693 0.0\n",
      "-6.6666666666511295e-06 -6.666666666665007e-06 6.666666666673334e-06\n",
      "5.105966666666666 0.26342666666666664 0.0\n",
      "4.233421052631579 0.40052631578947356 0.0\n",
      "3.571428571420248e-06 -3.172065784643304e-17 -7.142857142822653e-06\n",
      "5.170435714285716 0.6776428571428573 0.0\n",
      "-5.882352941215007e-06 1.1764705882377768e-05 -1.1764705882338585e-05\n",
      "3.949464705882353 0.05199999999999999 0.0\n",
      "-5.263157894712889e-06 -1.0526315789472526e-05 -5.2631578947012025e-06\n",
      "5.600836842105264 0.6725210526315791 0.0\n",
      "-5.263157894771322e-06 5.263157894759636e-06 1.0526315789460838e-05\n",
      "5.919894736842107 -0.2885263157894737 0.0\n",
      "-1.2500000000044883e-05 4.166666666670833e-06 8.333333333313911e-06\n",
      "4.453729166666667 0.16666666666666666 0.0\n",
      "3.289549702593056e-17 -3.289549702593056e-17 1.1111111111085216e-05\n",
      "5.79451111111111 -0.07474074074074075 0.0\n",
      "-4.347826087100855e-06 -8.695652173908465e-06 4.347826086941562e-06\n"
     ]
    }
   ],
   "source": [
    "receptor = 'agap006227'\n",
    "v.set_receptor(f'{receptor}.pdbqt')\n",
    "\n",
    "for idx, lig in ligands.iterrows():\n",
    "    sdf = lig['filename']\n",
    "    ligand = lig['ligand']\n",
    "\n",
    "    lig = Chem.SDMolSupplier(f'/home/sanj/projects/coeae1f/results/protein_modelling/ligands/{sdf}', removeHs=False)[0]\n",
    "    centroid = ComputeCentroid(lig.GetConformer())\n",
    "    print(centroid.x, centroid.y, centroid.z)\n",
    "\n",
    "    with open(f\"{receptor}_{ligand}.config\", 'w') as outfile:\n",
    "        outfile.write(f\"center_x = {centroid.x}\\ncenter_y = {centroid.y}\\ncenter_z = {centroid.z}\\nsize_x = 20.0\\nsize_y = 20.0\\nsize_z = 20.0\")\n",
    "    \n",
    "    !vina --receptor {receptor}.pdbqt --ligand ligands/{ligand}.pdbqt  --config {receptor}_{ligand}.config --exhaustiveness=8 --out {receptor}_{ligand}.out.pdbqt > {receptor}_{ligand}.log"
   ]
  },
  {
   "cell_type": "code",
   "execution_count": null,
   "metadata": {},
   "outputs": [],
   "source": [
    "['AGAP004707-RD'] #vgsc gam wt\n"
   ]
  },
  {
   "cell_type": "code",
   "execution_count": null,
   "metadata": {},
   "outputs": [],
   "source": []
  },
  {
   "cell_type": "code",
   "execution_count": null,
   "metadata": {},
   "outputs": [],
   "source": []
  },
  {
   "cell_type": "code",
   "execution_count": null,
   "metadata": {},
   "outputs": [],
   "source": []
  },
  {
   "cell_type": "code",
   "execution_count": null,
   "metadata": {},
   "outputs": [],
   "source": []
  },
  {
   "cell_type": "code",
   "execution_count": null,
   "metadata": {},
   "outputs": [],
   "source": [
    "receptor = 'agap006227'\n",
    "v.set_receptor(f'{receptor}.pdbqt')\n",
    "\n",
    "receptor_center = [15.190, 53.903, 16.917]\n",
    "box_size = [20, 20, 20]\n",
    "\n",
    "for idx, lig in ligands.iterrows():\n",
    "\n",
    "    liga = lig['filename']\n",
    "    prefix = lig['ligand']\n",
    "\n",
    "    v.set_ligand_from_file(f'ligands/{prefix}.pdbqt')\n",
    "    v.compute_vina_maps(center=receptor_center, box_size=box_size)\n",
    "    # Score the current pose\n",
    "    energy = v.score()\n",
    "    print('Score before minimization: %.3f (kcal/mol)' % energy[0])\n",
    "\n",
    "    # Minimized locally the current pose\n",
    "    energy_minimized = v.optimize()\n",
    "    print('Score after minimization : %.3f (kcal/mol)' % energy_minimized[0])\n",
    "    v.write_pose(f'{receptor}_{prefix}.minimised.pdbqt', overwrite=True)\n",
    "\n",
    "    # Dock the ligand\n",
    "    v.dock(exhaustiveness=32, n_poses=20)\n",
    "    v.write_poses(f'{receptor}_{prefix}.fullout.pdbqt', n_poses=10, overwrite=True)\n"
   ]
  },
  {
   "cell_type": "code",
   "execution_count": null,
   "metadata": {},
   "outputs": [],
   "source": []
  }
 ],
 "metadata": {
  "interpreter": {
   "hash": "710100144729ec1057471750b60f3250df4296be7eb29e7e87fec32ed718ec4b"
  },
  "kernelspec": {
   "display_name": "Python 3.7.12 ('base')",
   "language": "python",
   "name": "python3"
  },
  "language_info": {
   "codemirror_mode": {
    "name": "ipython",
    "version": 3
   },
   "file_extension": ".py",
   "mimetype": "text/x-python",
   "name": "python",
   "nbconvert_exporter": "python",
   "pygments_lexer": "ipython3",
   "version": "3.12.2"
  },
  "orig_nbformat": 4
 },
 "nbformat": 4,
 "nbformat_minor": 2
}
