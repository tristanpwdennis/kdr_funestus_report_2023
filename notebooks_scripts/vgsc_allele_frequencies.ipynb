{
  "cells": [
    {
      "cell_type": "markdown",
      "metadata": {},
      "source": [
        "## *Vgsc* allele frequencies in Tanzanian *An. funestus*\n",
        "### Identification of knock-down resistance (*Kdr*) in Tanzanian *Anopheles. funestus*, 2023.\n",
        "### Tristan P.W. Dennis, Joel O. Odero 22.11.23"
      ]
    },
    {
      "cell_type": "code",
      "execution_count": 2,
      "metadata": {
        "colab": {
          "base_uri": "https://localhost:8080/"
        },
        "id": "8CteyiEVFnIJ",
        "outputId": "cf947f51-6b4d-4d21-c020-139d458b706a"
      },
      "outputs": [],
      "source": [
        "#import libs\n",
        "import numpy as np\n",
        "import pandas as pd\n",
        "import malariagen_data\n",
        "import allel\n",
        "import xarray as xr\n",
        "import malariagen_data\n",
        "import google.auth\n",
        "import os\n",
        "import re\n",
        "import warnings\n",
        "from typing import List\n",
        "import plotly.express as px\n",
        "import ipyleaflet\n",
        "import bokeh"
      ]
    },
    {
      "cell_type": "code",
      "execution_count": 3,
      "metadata": {
        "colab": {
          "base_uri": "https://localhost:8080/",
          "height": 211
        },
        "id": "AeE6y5D7KEq-",
        "outputId": "8ac39f2d-2bb9-4502-8e21-c50695ef8837"
      },
      "outputs": [
        {
          "data": {
            "application/javascript": "(function(root) {\n  function now() {\n    return new Date();\n  }\n\n  const force = true;\n\n  if (typeof root._bokeh_onload_callbacks === \"undefined\" || force === true) {\n    root._bokeh_onload_callbacks = [];\n    root._bokeh_is_loading = undefined;\n  }\n\nconst JS_MIME_TYPE = 'application/javascript';\n  const HTML_MIME_TYPE = 'text/html';\n  const EXEC_MIME_TYPE = 'application/vnd.bokehjs_exec.v0+json';\n  const CLASS_NAME = 'output_bokeh rendered_html';\n\n  /**\n   * Render data to the DOM node\n   */\n  function render(props, node) {\n    const script = document.createElement(\"script\");\n    node.appendChild(script);\n  }\n\n  /**\n   * Handle when an output is cleared or removed\n   */\n  function handleClearOutput(event, handle) {\n    const cell = handle.cell;\n\n    const id = cell.output_area._bokeh_element_id;\n    const server_id = cell.output_area._bokeh_server_id;\n    // Clean up Bokeh references\n    if (id != null && id in Bokeh.index) {\n      Bokeh.index[id].model.document.clear();\n      delete Bokeh.index[id];\n    }\n\n    if (server_id !== undefined) {\n      // Clean up Bokeh references\n      const cmd_clean = \"from bokeh.io.state import curstate; print(curstate().uuid_to_server['\" + server_id + \"'].get_sessions()[0].document.roots[0]._id)\";\n      cell.notebook.kernel.execute(cmd_clean, {\n        iopub: {\n          output: function(msg) {\n            const id = msg.content.text.trim();\n            if (id in Bokeh.index) {\n              Bokeh.index[id].model.document.clear();\n              delete Bokeh.index[id];\n            }\n          }\n        }\n      });\n      // Destroy server and session\n      const cmd_destroy = \"import bokeh.io.notebook as ion; ion.destroy_server('\" + server_id + \"')\";\n      cell.notebook.kernel.execute(cmd_destroy);\n    }\n  }\n\n  /**\n   * Handle when a new output is added\n   */\n  function handleAddOutput(event, handle) {\n    const output_area = handle.output_area;\n    const output = handle.output;\n\n    // limit handleAddOutput to display_data with EXEC_MIME_TYPE content only\n    if ((output.output_type != \"display_data\") || (!Object.prototype.hasOwnProperty.call(output.data, EXEC_MIME_TYPE))) {\n      return\n    }\n\n    const toinsert = output_area.element.find(\".\" + CLASS_NAME.split(' ')[0]);\n\n    if (output.metadata[EXEC_MIME_TYPE][\"id\"] !== undefined) {\n      toinsert[toinsert.length - 1].firstChild.textContent = output.data[JS_MIME_TYPE];\n      // store reference to embed id on output_area\n      output_area._bokeh_element_id = output.metadata[EXEC_MIME_TYPE][\"id\"];\n    }\n    if (output.metadata[EXEC_MIME_TYPE][\"server_id\"] !== undefined) {\n      const bk_div = document.createElement(\"div\");\n      bk_div.innerHTML = output.data[HTML_MIME_TYPE];\n      const script_attrs = bk_div.children[0].attributes;\n      for (let i = 0; i < script_attrs.length; i++) {\n        toinsert[toinsert.length - 1].firstChild.setAttribute(script_attrs[i].name, script_attrs[i].value);\n        toinsert[toinsert.length - 1].firstChild.textContent = bk_div.children[0].textContent\n      }\n      // store reference to server id on output_area\n      output_area._bokeh_server_id = output.metadata[EXEC_MIME_TYPE][\"server_id\"];\n    }\n  }\n\n  function register_renderer(events, OutputArea) {\n\n    function append_mime(data, metadata, element) {\n      // create a DOM node to render to\n      const toinsert = this.create_output_subarea(\n        metadata,\n        CLASS_NAME,\n        EXEC_MIME_TYPE\n      );\n      this.keyboard_manager.register_events(toinsert);\n      // Render to node\n      const props = {data: data, metadata: metadata[EXEC_MIME_TYPE]};\n      render(props, toinsert[toinsert.length - 1]);\n      element.append(toinsert);\n      return toinsert\n    }\n\n    /* Handle when an output is cleared or removed */\n    events.on('clear_output.CodeCell', handleClearOutput);\n    events.on('delete.Cell', handleClearOutput);\n\n    /* Handle when a new output is added */\n    events.on('output_added.OutputArea', handleAddOutput);\n\n    /**\n     * Register the mime type and append_mime function with output_area\n     */\n    OutputArea.prototype.register_mime_type(EXEC_MIME_TYPE, append_mime, {\n      /* Is output safe? */\n      safe: true,\n      /* Index of renderer in `output_area.display_order` */\n      index: 0\n    });\n  }\n\n  // register the mime type if in Jupyter Notebook environment and previously unregistered\n  if (root.Jupyter !== undefined) {\n    const events = require('base/js/events');\n    const OutputArea = require('notebook/js/outputarea').OutputArea;\n\n    if (OutputArea.prototype.mime_types().indexOf(EXEC_MIME_TYPE) == -1) {\n      register_renderer(events, OutputArea);\n    }\n  }\n  if (typeof (root._bokeh_timeout) === \"undefined\" || force === true) {\n    root._bokeh_timeout = Date.now() + 5000;\n    root._bokeh_failed_load = false;\n  }\n\n  const NB_LOAD_WARNING = {'data': {'text/html':\n     \"<div style='background-color: #fdd'>\\n\"+\n     \"<p>\\n\"+\n     \"BokehJS does not appear to have successfully loaded. If loading BokehJS from CDN, this \\n\"+\n     \"may be due to a slow or bad network connection. Possible fixes:\\n\"+\n     \"</p>\\n\"+\n     \"<ul>\\n\"+\n     \"<li>re-rerun `output_notebook()` to attempt to load from CDN again, or</li>\\n\"+\n     \"<li>use INLINE resources instead, as so:</li>\\n\"+\n     \"</ul>\\n\"+\n     \"<code>\\n\"+\n     \"from bokeh.resources import INLINE\\n\"+\n     \"output_notebook(resources=INLINE)\\n\"+\n     \"</code>\\n\"+\n     \"</div>\"}};\n\n  function display_loaded() {\n    const el = document.getElementById(null);\n    if (el != null) {\n      el.textContent = \"BokehJS is loading...\";\n    }\n    if (root.Bokeh !== undefined) {\n      if (el != null) {\n        el.textContent = \"BokehJS \" + root.Bokeh.version + \" successfully loaded.\";\n      }\n    } else if (Date.now() < root._bokeh_timeout) {\n      setTimeout(display_loaded, 100)\n    }\n  }\n\n  function run_callbacks() {\n    try {\n      root._bokeh_onload_callbacks.forEach(function(callback) {\n        if (callback != null)\n          callback();\n      });\n    } finally {\n      delete root._bokeh_onload_callbacks\n    }\n    console.debug(\"Bokeh: all callbacks have finished\");\n  }\n\n  function load_libs(css_urls, js_urls, callback) {\n    if (css_urls == null) css_urls = [];\n    if (js_urls == null) js_urls = [];\n\n    root._bokeh_onload_callbacks.push(callback);\n    if (root._bokeh_is_loading > 0) {\n      console.debug(\"Bokeh: BokehJS is being loaded, scheduling callback at\", now());\n      return null;\n    }\n    if (js_urls == null || js_urls.length === 0) {\n      run_callbacks();\n      return null;\n    }\n    console.debug(\"Bokeh: BokehJS not loaded, scheduling load and callback at\", now());\n    root._bokeh_is_loading = css_urls.length + js_urls.length;\n\n    function on_load() {\n      root._bokeh_is_loading--;\n      if (root._bokeh_is_loading === 0) {\n        console.debug(\"Bokeh: all BokehJS libraries/stylesheets loaded\");\n        run_callbacks()\n      }\n    }\n\n    function on_error(url) {\n      console.error(\"failed to load \" + url);\n    }\n\n    for (let i = 0; i < css_urls.length; i++) {\n      const url = css_urls[i];\n      const element = document.createElement(\"link\");\n      element.onload = on_load;\n      element.onerror = on_error.bind(null, url);\n      element.rel = \"stylesheet\";\n      element.type = \"text/css\";\n      element.href = url;\n      console.debug(\"Bokeh: injecting link tag for BokehJS stylesheet: \", url);\n      document.body.appendChild(element);\n    }\n\n    for (let i = 0; i < js_urls.length; i++) {\n      const url = js_urls[i];\n      const element = document.createElement('script');\n      element.onload = on_load;\n      element.onerror = on_error.bind(null, url);\n      element.async = false;\n      element.src = url;\n      console.debug(\"Bokeh: injecting script tag for BokehJS library: \", url);\n      document.head.appendChild(element);\n    }\n  };\n\n  function inject_raw_css(css) {\n    const element = document.createElement(\"style\");\n    element.appendChild(document.createTextNode(css));\n    document.body.appendChild(element);\n  }\n\n  const js_urls = [\"https://cdn.bokeh.org/bokeh/release/bokeh-2.4.3.min.js\", \"https://cdn.bokeh.org/bokeh/release/bokeh-gl-2.4.3.min.js\", \"https://cdn.bokeh.org/bokeh/release/bokeh-widgets-2.4.3.min.js\", \"https://cdn.bokeh.org/bokeh/release/bokeh-tables-2.4.3.min.js\", \"https://cdn.bokeh.org/bokeh/release/bokeh-mathjax-2.4.3.min.js\"];\n  const css_urls = [];\n\n  const inline_js = [    function(Bokeh) {\n      Bokeh.set_log_level(\"info\");\n    },\nfunction(Bokeh) {\n    }\n  ];\n\n  function run_inline_js() {\n    if (root.Bokeh !== undefined || force === true) {\n          for (let i = 0; i < inline_js.length; i++) {\n      inline_js[i].call(root, root.Bokeh);\n    }\n} else if (Date.now() < root._bokeh_timeout) {\n      setTimeout(run_inline_js, 100);\n    } else if (!root._bokeh_failed_load) {\n      console.log(\"Bokeh: BokehJS failed to load within specified timeout.\");\n      root._bokeh_failed_load = true;\n    } else if (force !== true) {\n      const cell = $(document.getElementById(null)).parents('.cell').data().cell;\n      cell.output_area.append_execute_result(NB_LOAD_WARNING)\n    }\n  }\n\n  if (root._bokeh_is_loading === 0) {\n    console.debug(\"Bokeh: BokehJS loaded, going straight to plotting\");\n    run_inline_js();\n  } else {\n    load_libs(css_urls, js_urls, function() {\n      console.debug(\"Bokeh: BokehJS plotting callback run at\", now());\n      run_inline_js();\n    });\n  }\n}(window));",
            "application/vnd.bokehjs_load.v0+json": ""
          },
          "metadata": {},
          "output_type": "display_data"
        },
        {
          "data": {
            "text/html": [
              "\n",
              "            <table class=\"malariagen-af1\">\n",
              "                <thead>\n",
              "                    <tr>\n",
              "                        <th style=\"text-align: left\" colspan=\"2\">MalariaGEN Af1 API client</th>\n",
              "                    </tr>\n",
              "                    <tr><td colspan=\"2\" style=\"text-align: left\">\n",
              "                        Please note that data are subject to terms of use,\n",
              "                        for more information see <a href=\"https://www.malariagen.net/data\">\n",
              "                        the MalariaGEN website</a> or contact data@malariagen.net.\n",
              "                    </td></tr>\n",
              "                </thead>\n",
              "                <tbody>\n",
              "                    <tr>\n",
              "                        <th style=\"text-align: left\">\n",
              "                            Storage URL\n",
              "                        </th>\n",
              "                        <td>gs://vo_afun_release/</td>\n",
              "                    </tr>\n",
              "                    <tr>\n",
              "                        <th style=\"text-align: left\">\n",
              "                            Data releases available\n",
              "                        </th>\n",
              "                        <td>1.0, 1.1, 1.2, 1.3</td>\n",
              "                    </tr>\n",
              "                    <tr>\n",
              "                        <th style=\"text-align: left\">\n",
              "                            Results cache\n",
              "                        </th>\n",
              "                        <td>/Users/dennistpw/Projects/kdr_funestus_report_2023/data</td>\n",
              "                    </tr>\n",
              "                    <tr>\n",
              "                        <th style=\"text-align: left\">\n",
              "                            Cohorts analysis\n",
              "                        </th>\n",
              "                        <td>20231122</td>\n",
              "                    </tr>\n",
              "                    <tr>\n",
              "                        <th style=\"text-align: left\">\n",
              "                            Site filters analysis\n",
              "                        </th>\n",
              "                        <td>dt_20200416</td>\n",
              "                    </tr>\n",
              "                    <tr>\n",
              "                        <th style=\"text-align: left\">\n",
              "                            Software version\n",
              "                        </th>\n",
              "                        <td>malariagen_data 7.5.0</td>\n",
              "                    </tr>\n",
              "                    <tr>\n",
              "                        <th style=\"text-align: left\">\n",
              "                            Client location\n",
              "                        </th>\n",
              "                        <td>unknown</td>\n",
              "                    </tr>\n",
              "                </tbody>\n",
              "            </table>\n",
              "        "
            ],
            "text/plain": [
              "<MalariaGEN Af1 API client>\n",
              "Storage URL             : gs://vo_afun_release/\n",
              "Data releases available : 1.0, 1.1, 1.2, 1.3\n",
              "Results cache           : /Users/dennistpw/Projects/kdr_funestus_report_2023/data\n",
              "Cohorts analysis        : 20231122\n",
              "Site filters analysis   : dt_20200416\n",
              "Software version        : malariagen_data 7.5.0\n",
              "Client location         : unknown\n",
              "---\n",
              "Please note that data are subject to terms of use,\n",
              "for more information see https://www.malariagen.net/data\n",
              "or contact data@malariagen.net."
            ]
          },
          "execution_count": 3,
          "metadata": {},
          "output_type": "execute_result"
        }
      ],
      "source": [
        "af1 = malariagen_data.Af1(pre=True,results_cache='~/Projects/kdr_funestus_report_2023/data')\n",
        "af1"
      ]
    },
    {
      "cell_type": "code",
      "execution_count": 5,
      "metadata": {
        "id": "gPZFMip1cAlJ"
      },
      "outputs": [
        {
          "data": {
            "application/vnd.jupyter.widget-view+json": {
              "model_id": "d00dc504497f4c42bed82f670ced8763",
              "version_major": 2,
              "version_minor": 0
            },
            "text/plain": [
              "Load sample metadata:   0%|          | 0/30 [00:00<?, ?it/s]"
            ]
          },
          "metadata": {},
          "output_type": "display_data"
        }
      ],
      "source": [
        "df_samples = af1.sample_metadata()"
      ]
    },
    {
      "cell_type": "code",
      "execution_count": 40,
      "metadata": {
        "colab": {
          "base_uri": "https://localhost:8080/",
          "height": 582
        },
        "id": "sGAKPX5qbnPE",
        "outputId": "a949e516-c587-4395-f243-0d5dbdb447f7"
      },
      "outputs": [],
      "source": [
        "df_samples_tz=df_samples.query(\"country =='Tanzania' and taxon=='funestus'\")"
      ]
    },
    {
      "cell_type": "code",
      "execution_count": 41,
      "metadata": {
        "colab": {
          "base_uri": "https://localhost:8080/"
        },
        "id": "gmNsSY3AcKlm",
        "outputId": "b143e9fb-1829-4014-9b8d-b0101831a020"
      },
      "outputs": [],
      "source": [
        "tz_cohorts = df_samples_tz.groupby([\"cohort_admin1_year\"]).size()\n",
        "_#load metadata for all sample sets\n",
        "sample_sets = ['1236-VO-TZ-OKUMU-VMF00252','1236-VO-TZ-OKUMU-VMF00248','1236-VO-TZ-OKUMU-VMF00261', '1236-VO-TZ-OKUMU-OKFR-TZ-2008', '1236-VO-TZ-OKUMU-VMF00090']\n",
        "df_samples = af1.sample_metadata(sample_sets=sample_sets)\n"
      ]
    },
    {
      "cell_type": "code",
      "execution_count": 36,
      "metadata": {},
      "outputs": [
        {
          "data": {
            "text/html": [
              "<div>\n",
              "<style scoped>\n",
              "    .dataframe tbody tr th:only-of-type {\n",
              "        vertical-align: middle;\n",
              "    }\n",
              "\n",
              "    .dataframe tbody tr th {\n",
              "        vertical-align: top;\n",
              "    }\n",
              "\n",
              "    .dataframe thead th {\n",
              "        text-align: right;\n",
              "    }\n",
              "</style>\n",
              "<table border=\"1\" class=\"dataframe\">\n",
              "  <thead>\n",
              "    <tr style=\"text-align: right;\">\n",
              "      <th></th>\n",
              "      <th>admin1_iso</th>\n",
              "      <th>admin1_name</th>\n",
              "    </tr>\n",
              "  </thead>\n",
              "  <tbody>\n",
              "    <tr>\n",
              "      <th>0</th>\n",
              "      <td>TZ-19</td>\n",
              "      <td>Pwani</td>\n",
              "    </tr>\n",
              "    <tr>\n",
              "      <th>1</th>\n",
              "      <td>TZ-19</td>\n",
              "      <td>Pwani</td>\n",
              "    </tr>\n",
              "    <tr>\n",
              "      <th>2</th>\n",
              "      <td>TZ-19</td>\n",
              "      <td>Pwani</td>\n",
              "    </tr>\n",
              "    <tr>\n",
              "      <th>3</th>\n",
              "      <td>TZ-19</td>\n",
              "      <td>Pwani</td>\n",
              "    </tr>\n",
              "    <tr>\n",
              "      <th>4</th>\n",
              "      <td>TZ-19</td>\n",
              "      <td>Pwani</td>\n",
              "    </tr>\n",
              "    <tr>\n",
              "      <th>...</th>\n",
              "      <td>...</td>\n",
              "      <td>...</td>\n",
              "    </tr>\n",
              "    <tr>\n",
              "      <th>329</th>\n",
              "      <td>TZ-18</td>\n",
              "      <td>Mwanza</td>\n",
              "    </tr>\n",
              "    <tr>\n",
              "      <th>330</th>\n",
              "      <td>TZ-18</td>\n",
              "      <td>Mwanza</td>\n",
              "    </tr>\n",
              "    <tr>\n",
              "      <th>331</th>\n",
              "      <td>TZ-18</td>\n",
              "      <td>Mwanza</td>\n",
              "    </tr>\n",
              "    <tr>\n",
              "      <th>332</th>\n",
              "      <td>TZ-18</td>\n",
              "      <td>Mwanza</td>\n",
              "    </tr>\n",
              "    <tr>\n",
              "      <th>333</th>\n",
              "      <td>TZ-18</td>\n",
              "      <td>Mwanza</td>\n",
              "    </tr>\n",
              "  </tbody>\n",
              "</table>\n",
              "<p>334 rows × 2 columns</p>\n",
              "</div>"
            ],
            "text/plain": [
              "    admin1_iso admin1_name\n",
              "0        TZ-19       Pwani\n",
              "1        TZ-19       Pwani\n",
              "2        TZ-19       Pwani\n",
              "3        TZ-19       Pwani\n",
              "4        TZ-19       Pwani\n",
              "..         ...         ...\n",
              "329      TZ-18      Mwanza\n",
              "330      TZ-18      Mwanza\n",
              "331      TZ-18      Mwanza\n",
              "332      TZ-18      Mwanza\n",
              "333      TZ-18      Mwanza\n",
              "\n",
              "[334 rows x 2 columns]"
            ]
          },
          "execution_count": 36,
          "metadata": {},
          "output_type": "execute_result"
        }
      ],
      "source": [
        "df_samples[['admin1_iso', 'admin1_name']]"
      ]
    },
    {
      "cell_type": "code",
      "execution_count": 16,
      "metadata": {
        "colab": {
          "base_uri": "https://localhost:8080/",
          "height": 762,
          "referenced_widgets": [
            "21a591a393f54d2ab16c9f57b46d9d01",
            "f2aea68221514f2daaa25b51d1b3a40f",
            "1fa74b8380164b68bfcee3f17e918c67",
            "03feedc83a3449c48d362407312ff94e",
            "b6b4a1e25c4849bfbca849bc2c1ea1a7",
            "1ebade60f5a047a7b3c32263b9fe2062",
            "a8d02b04fc2e46a5a1c1cd68850dc936",
            "a36a61a5fe0e4817aa7e5b78585a3451",
            "9e565c0497e742deb57ae2d0f54a532f",
            "7da56ba6d0e544a9818563115c91d3d6",
            "078540e07fbb44368ad26b5391dcb343",
            "b00a281049dc4f34836ede32a8dd13ea",
            "026e2d71cda741ff80bdf162ec94ef8f",
            "177c398c48b04fd0a5cb91ab0c34134c",
            "4c7edde96f42485492ad8739ee871071",
            "d3d10cddb5fa49d89fb27a05427429b7",
            "332ec6b6d56b4576a5e5d4c218b227d8",
            "f325284e4dc447ae9b4a132a1284ab0f",
            "b257325f8c7b4d3e8d2f36040dc54cff",
            "4d53cdeeb64f4c0dbedc499289eed198",
            "8d310b08d5b74d018dc2bcba1b1ceb71",
            "37911f4734574e1192fbada37f5b9e33",
            "4839843b408040ea96d50c194a8d1f3c",
            "68a842d34eaa4bc4b2be9a61b3601bb3",
            "4f35fd9debcb4ac1b93317d1bfd1fe0c",
            "96db0ab41f584ee6aa9d2accd42579fa",
            "ded7d8d20394493a8eae3e832e2bf8e6",
            "85f781b088a84f088ae0a52ed1aad27c",
            "34b9a74ace9447ec83247f9fec5137c8",
            "5de816b329df4d93a08364d77d5f1790",
            "51deddb21a364668829998b266c21bbf",
            "7644bb14fef64cf8ba3fd903bb9f3d02",
            "3c152bd789cb4c20b654852e6fd995ea"
          ]
        },
        "id": "2-O6PvWEAQfm",
        "outputId": "18d4ec01-f27b-46ab-ddb5-a584f1475e1e"
      },
      "outputs": [
        {
          "data": {
            "application/vnd.jupyter.widget-view+json": {
              "model_id": "cff0989df4ab441c9031f9dc299b3d8a",
              "version_major": 2,
              "version_minor": 0
            },
            "text/plain": [
              "Load SNP genotypes:   0%|          | 0/18 [00:00<?, ?it/s]"
            ]
          },
          "metadata": {},
          "output_type": "display_data"
        },
        {
          "data": {
            "application/vnd.jupyter.widget-view+json": {
              "model_id": "9eb312c769be44d4813d066b25cf793b",
              "version_major": 2,
              "version_minor": 0
            },
            "text/plain": [
              "Compute allele frequencies:   0%|          | 0/19 [00:00<?, ?it/s]"
            ]
          },
          "metadata": {},
          "output_type": "display_data"
        },
        {
          "data": {
            "application/vnd.jupyter.widget-view+json": {
              "model_id": "7dd24767718d41c28a2ab783ee57ad93",
              "version_major": 2,
              "version_minor": 0
            },
            "text/plain": [
              "Compute SNP effects:   0%|          | 0/6107 [00:00<?, ?it/s]"
            ]
          },
          "metadata": {},
          "output_type": "display_data"
        },
        {
          "data": {
            "text/html": [
              "<div>\n",
              "<style scoped>\n",
              "    .dataframe tbody tr th:only-of-type {\n",
              "        vertical-align: middle;\n",
              "    }\n",
              "\n",
              "    .dataframe tbody tr th {\n",
              "        vertical-align: top;\n",
              "    }\n",
              "\n",
              "    .dataframe thead th {\n",
              "        text-align: right;\n",
              "    }\n",
              "</style>\n",
              "<table border=\"1\" class=\"dataframe\">\n",
              "  <thead>\n",
              "    <tr style=\"text-align: right;\">\n",
              "      <th></th>\n",
              "      <th></th>\n",
              "      <th></th>\n",
              "      <th></th>\n",
              "      <th></th>\n",
              "      <th>pass_funestus</th>\n",
              "      <th>frq_TZ-03_fune_2022</th>\n",
              "      <th>frq_TZ-05_fune_2022</th>\n",
              "      <th>frq_TZ-12_fune_2022</th>\n",
              "      <th>frq_TZ-16_fune_2017</th>\n",
              "      <th>frq_TZ-16_fune_2019</th>\n",
              "      <th>frq_TZ-16_fune_2023</th>\n",
              "      <th>frq_TZ-17_fune_2022</th>\n",
              "      <th>frq_TZ-18_fune_2023</th>\n",
              "      <th>frq_TZ-19_fune_2019</th>\n",
              "      <th>...</th>\n",
              "      <th>max_af</th>\n",
              "      <th>transcript</th>\n",
              "      <th>effect</th>\n",
              "      <th>impact</th>\n",
              "      <th>ref_codon</th>\n",
              "      <th>alt_codon</th>\n",
              "      <th>aa_pos</th>\n",
              "      <th>ref_aa</th>\n",
              "      <th>alt_aa</th>\n",
              "      <th>label</th>\n",
              "    </tr>\n",
              "    <tr>\n",
              "      <th>contig</th>\n",
              "      <th>position</th>\n",
              "      <th>ref_allele</th>\n",
              "      <th>alt_allele</th>\n",
              "      <th>aa_change</th>\n",
              "      <th></th>\n",
              "      <th></th>\n",
              "      <th></th>\n",
              "      <th></th>\n",
              "      <th></th>\n",
              "      <th></th>\n",
              "      <th></th>\n",
              "      <th></th>\n",
              "      <th></th>\n",
              "      <th></th>\n",
              "      <th></th>\n",
              "      <th></th>\n",
              "      <th></th>\n",
              "      <th></th>\n",
              "      <th></th>\n",
              "      <th></th>\n",
              "      <th></th>\n",
              "      <th></th>\n",
              "      <th></th>\n",
              "      <th></th>\n",
              "      <th></th>\n",
              "    </tr>\n",
              "  </thead>\n",
              "  <tbody>\n",
              "    <tr>\n",
              "      <th rowspan=\"11\" valign=\"top\">3RL</th>\n",
              "      <th>44105666</th>\n",
              "      <th>A</th>\n",
              "      <th>C</th>\n",
              "      <th>NaN</th>\n",
              "      <td>True</td>\n",
              "      <td>0.0</td>\n",
              "      <td>0.000000</td>\n",
              "      <td>0.0</td>\n",
              "      <td>0.05</td>\n",
              "      <td>0.0</td>\n",
              "      <td>0.000000</td>\n",
              "      <td>0.0</td>\n",
              "      <td>0.000000</td>\n",
              "      <td>0.0</td>\n",
              "      <td>...</td>\n",
              "      <td>0.050000</td>\n",
              "      <td>LOC125769886_t4</td>\n",
              "      <td>THREE_PRIME_UTR</td>\n",
              "      <td>LOW</td>\n",
              "      <td>None</td>\n",
              "      <td>None</td>\n",
              "      <td>NaN</td>\n",
              "      <td>None</td>\n",
              "      <td>None</td>\n",
              "      <td>3RL:44,105,666 A&gt;C</td>\n",
              "    </tr>\n",
              "    <tr>\n",
              "      <th>44105678</th>\n",
              "      <th>A</th>\n",
              "      <th>G</th>\n",
              "      <th>NaN</th>\n",
              "      <td>False</td>\n",
              "      <td>0.0</td>\n",
              "      <td>0.000000</td>\n",
              "      <td>0.0</td>\n",
              "      <td>0.05</td>\n",
              "      <td>0.0</td>\n",
              "      <td>0.000000</td>\n",
              "      <td>0.0</td>\n",
              "      <td>0.000000</td>\n",
              "      <td>0.0</td>\n",
              "      <td>...</td>\n",
              "      <td>0.050000</td>\n",
              "      <td>LOC125769886_t4</td>\n",
              "      <td>THREE_PRIME_UTR</td>\n",
              "      <td>LOW</td>\n",
              "      <td>None</td>\n",
              "      <td>None</td>\n",
              "      <td>NaN</td>\n",
              "      <td>None</td>\n",
              "      <td>None</td>\n",
              "      <td>3RL:44,105,678 A&gt;G</td>\n",
              "    </tr>\n",
              "    <tr>\n",
              "      <th>44105726</th>\n",
              "      <th>A</th>\n",
              "      <th>T</th>\n",
              "      <th>NaN</th>\n",
              "      <td>False</td>\n",
              "      <td>0.0</td>\n",
              "      <td>0.015625</td>\n",
              "      <td>0.0</td>\n",
              "      <td>0.00</td>\n",
              "      <td>0.0</td>\n",
              "      <td>0.000000</td>\n",
              "      <td>0.0</td>\n",
              "      <td>0.000000</td>\n",
              "      <td>0.0</td>\n",
              "      <td>...</td>\n",
              "      <td>0.015625</td>\n",
              "      <td>LOC125769886_t4</td>\n",
              "      <td>THREE_PRIME_UTR</td>\n",
              "      <td>LOW</td>\n",
              "      <td>None</td>\n",
              "      <td>None</td>\n",
              "      <td>NaN</td>\n",
              "      <td>None</td>\n",
              "      <td>None</td>\n",
              "      <td>3RL:44,105,726 A&gt;T</td>\n",
              "    </tr>\n",
              "    <tr>\n",
              "      <th>44105729</th>\n",
              "      <th>G</th>\n",
              "      <th>T</th>\n",
              "      <th>NaN</th>\n",
              "      <td>False</td>\n",
              "      <td>0.0</td>\n",
              "      <td>0.000000</td>\n",
              "      <td>0.0</td>\n",
              "      <td>0.00</td>\n",
              "      <td>0.0</td>\n",
              "      <td>0.018519</td>\n",
              "      <td>0.0</td>\n",
              "      <td>0.000000</td>\n",
              "      <td>0.0</td>\n",
              "      <td>...</td>\n",
              "      <td>0.018519</td>\n",
              "      <td>LOC125769886_t4</td>\n",
              "      <td>THREE_PRIME_UTR</td>\n",
              "      <td>LOW</td>\n",
              "      <td>None</td>\n",
              "      <td>None</td>\n",
              "      <td>NaN</td>\n",
              "      <td>None</td>\n",
              "      <td>None</td>\n",
              "      <td>3RL:44,105,729 G&gt;T</td>\n",
              "    </tr>\n",
              "    <tr>\n",
              "      <th>44105753</th>\n",
              "      <th>G</th>\n",
              "      <th>C</th>\n",
              "      <th>NaN</th>\n",
              "      <td>False</td>\n",
              "      <td>0.0</td>\n",
              "      <td>0.015625</td>\n",
              "      <td>0.0</td>\n",
              "      <td>0.00</td>\n",
              "      <td>0.0</td>\n",
              "      <td>0.000000</td>\n",
              "      <td>0.0</td>\n",
              "      <td>0.000000</td>\n",
              "      <td>0.0</td>\n",
              "      <td>...</td>\n",
              "      <td>0.015625</td>\n",
              "      <td>LOC125769886_t4</td>\n",
              "      <td>THREE_PRIME_UTR</td>\n",
              "      <td>LOW</td>\n",
              "      <td>None</td>\n",
              "      <td>None</td>\n",
              "      <td>NaN</td>\n",
              "      <td>None</td>\n",
              "      <td>None</td>\n",
              "      <td>3RL:44,105,753 G&gt;C</td>\n",
              "    </tr>\n",
              "    <tr>\n",
              "      <th>...</th>\n",
              "      <th>...</th>\n",
              "      <th>...</th>\n",
              "      <th>...</th>\n",
              "      <td>...</td>\n",
              "      <td>...</td>\n",
              "      <td>...</td>\n",
              "      <td>...</td>\n",
              "      <td>...</td>\n",
              "      <td>...</td>\n",
              "      <td>...</td>\n",
              "      <td>...</td>\n",
              "      <td>...</td>\n",
              "      <td>...</td>\n",
              "      <td>...</td>\n",
              "      <td>...</td>\n",
              "      <td>...</td>\n",
              "      <td>...</td>\n",
              "      <td>...</td>\n",
              "      <td>...</td>\n",
              "      <td>...</td>\n",
              "      <td>...</td>\n",
              "      <td>...</td>\n",
              "      <td>...</td>\n",
              "      <td>...</td>\n",
              "    </tr>\n",
              "    <tr>\n",
              "      <th>44156542</th>\n",
              "      <th>C</th>\n",
              "      <th>T</th>\n",
              "      <th>NaN</th>\n",
              "      <td>True</td>\n",
              "      <td>0.0</td>\n",
              "      <td>0.000000</td>\n",
              "      <td>0.0</td>\n",
              "      <td>0.00</td>\n",
              "      <td>0.0</td>\n",
              "      <td>0.000000</td>\n",
              "      <td>0.0</td>\n",
              "      <td>0.000000</td>\n",
              "      <td>0.0</td>\n",
              "      <td>...</td>\n",
              "      <td>0.017857</td>\n",
              "      <td>LOC125769886_t4</td>\n",
              "      <td>FIVE_PRIME_UTR</td>\n",
              "      <td>LOW</td>\n",
              "      <td>None</td>\n",
              "      <td>None</td>\n",
              "      <td>NaN</td>\n",
              "      <td>None</td>\n",
              "      <td>None</td>\n",
              "      <td>3RL:44,156,542 C&gt;T</td>\n",
              "    </tr>\n",
              "    <tr>\n",
              "      <th>44156555</th>\n",
              "      <th>T</th>\n",
              "      <th>C</th>\n",
              "      <th>NaN</th>\n",
              "      <td>True</td>\n",
              "      <td>0.0</td>\n",
              "      <td>0.000000</td>\n",
              "      <td>0.0</td>\n",
              "      <td>0.00</td>\n",
              "      <td>0.0</td>\n",
              "      <td>0.000000</td>\n",
              "      <td>0.0</td>\n",
              "      <td>0.017857</td>\n",
              "      <td>0.0</td>\n",
              "      <td>...</td>\n",
              "      <td>0.017857</td>\n",
              "      <td>LOC125769886_t4</td>\n",
              "      <td>FIVE_PRIME_UTR</td>\n",
              "      <td>LOW</td>\n",
              "      <td>None</td>\n",
              "      <td>None</td>\n",
              "      <td>NaN</td>\n",
              "      <td>None</td>\n",
              "      <td>None</td>\n",
              "      <td>3RL:44,156,555 T&gt;C</td>\n",
              "    </tr>\n",
              "    <tr>\n",
              "      <th>44156615</th>\n",
              "      <th>A</th>\n",
              "      <th>T</th>\n",
              "      <th>NaN</th>\n",
              "      <td>True</td>\n",
              "      <td>0.0</td>\n",
              "      <td>0.015625</td>\n",
              "      <td>0.0</td>\n",
              "      <td>0.00</td>\n",
              "      <td>0.0</td>\n",
              "      <td>0.000000</td>\n",
              "      <td>0.0</td>\n",
              "      <td>0.000000</td>\n",
              "      <td>0.0</td>\n",
              "      <td>...</td>\n",
              "      <td>0.015625</td>\n",
              "      <td>LOC125769886_t4</td>\n",
              "      <td>FIVE_PRIME_UTR</td>\n",
              "      <td>LOW</td>\n",
              "      <td>None</td>\n",
              "      <td>None</td>\n",
              "      <td>NaN</td>\n",
              "      <td>None</td>\n",
              "      <td>None</td>\n",
              "      <td>3RL:44,156,615 A&gt;T</td>\n",
              "    </tr>\n",
              "    <tr>\n",
              "      <th>44156621</th>\n",
              "      <th>T</th>\n",
              "      <th>C</th>\n",
              "      <th>NaN</th>\n",
              "      <td>False</td>\n",
              "      <td>0.0</td>\n",
              "      <td>0.031250</td>\n",
              "      <td>0.0</td>\n",
              "      <td>0.00</td>\n",
              "      <td>0.0</td>\n",
              "      <td>0.018519</td>\n",
              "      <td>0.0</td>\n",
              "      <td>0.018519</td>\n",
              "      <td>0.0</td>\n",
              "      <td>...</td>\n",
              "      <td>0.031250</td>\n",
              "      <td>LOC125769886_t4</td>\n",
              "      <td>FIVE_PRIME_UTR</td>\n",
              "      <td>LOW</td>\n",
              "      <td>None</td>\n",
              "      <td>None</td>\n",
              "      <td>NaN</td>\n",
              "      <td>None</td>\n",
              "      <td>None</td>\n",
              "      <td>3RL:44,156,621 T&gt;C</td>\n",
              "    </tr>\n",
              "    <tr>\n",
              "      <th>44156622</th>\n",
              "      <th>A</th>\n",
              "      <th>C</th>\n",
              "      <th>NaN</th>\n",
              "      <td>False</td>\n",
              "      <td>0.0</td>\n",
              "      <td>0.000000</td>\n",
              "      <td>0.0</td>\n",
              "      <td>0.00</td>\n",
              "      <td>0.0</td>\n",
              "      <td>0.000000</td>\n",
              "      <td>0.0</td>\n",
              "      <td>0.018519</td>\n",
              "      <td>0.0</td>\n",
              "      <td>...</td>\n",
              "      <td>0.018519</td>\n",
              "      <td>LOC125769886_t4</td>\n",
              "      <td>FIVE_PRIME_UTR</td>\n",
              "      <td>LOW</td>\n",
              "      <td>None</td>\n",
              "      <td>None</td>\n",
              "      <td>NaN</td>\n",
              "      <td>None</td>\n",
              "      <td>None</td>\n",
              "      <td>3RL:44,156,622 A&gt;C</td>\n",
              "    </tr>\n",
              "  </tbody>\n",
              "</table>\n",
              "<p>6107 rows × 23 columns</p>\n",
              "</div>"
            ],
            "text/plain": [
              "                                                 pass_funestus  \\\n",
              "contig position ref_allele alt_allele aa_change                  \n",
              "3RL    44105666 A          C          NaN                 True   \n",
              "       44105678 A          G          NaN                False   \n",
              "       44105726 A          T          NaN                False   \n",
              "       44105729 G          T          NaN                False   \n",
              "       44105753 G          C          NaN                False   \n",
              "...                                                        ...   \n",
              "       44156542 C          T          NaN                 True   \n",
              "       44156555 T          C          NaN                 True   \n",
              "       44156615 A          T          NaN                 True   \n",
              "       44156621 T          C          NaN                False   \n",
              "       44156622 A          C          NaN                False   \n",
              "\n",
              "                                                 frq_TZ-03_fune_2022  \\\n",
              "contig position ref_allele alt_allele aa_change                        \n",
              "3RL    44105666 A          C          NaN                        0.0   \n",
              "       44105678 A          G          NaN                        0.0   \n",
              "       44105726 A          T          NaN                        0.0   \n",
              "       44105729 G          T          NaN                        0.0   \n",
              "       44105753 G          C          NaN                        0.0   \n",
              "...                                                              ...   \n",
              "       44156542 C          T          NaN                        0.0   \n",
              "       44156555 T          C          NaN                        0.0   \n",
              "       44156615 A          T          NaN                        0.0   \n",
              "       44156621 T          C          NaN                        0.0   \n",
              "       44156622 A          C          NaN                        0.0   \n",
              "\n",
              "                                                 frq_TZ-05_fune_2022  \\\n",
              "contig position ref_allele alt_allele aa_change                        \n",
              "3RL    44105666 A          C          NaN                   0.000000   \n",
              "       44105678 A          G          NaN                   0.000000   \n",
              "       44105726 A          T          NaN                   0.015625   \n",
              "       44105729 G          T          NaN                   0.000000   \n",
              "       44105753 G          C          NaN                   0.015625   \n",
              "...                                                              ...   \n",
              "       44156542 C          T          NaN                   0.000000   \n",
              "       44156555 T          C          NaN                   0.000000   \n",
              "       44156615 A          T          NaN                   0.015625   \n",
              "       44156621 T          C          NaN                   0.031250   \n",
              "       44156622 A          C          NaN                   0.000000   \n",
              "\n",
              "                                                 frq_TZ-12_fune_2022  \\\n",
              "contig position ref_allele alt_allele aa_change                        \n",
              "3RL    44105666 A          C          NaN                        0.0   \n",
              "       44105678 A          G          NaN                        0.0   \n",
              "       44105726 A          T          NaN                        0.0   \n",
              "       44105729 G          T          NaN                        0.0   \n",
              "       44105753 G          C          NaN                        0.0   \n",
              "...                                                              ...   \n",
              "       44156542 C          T          NaN                        0.0   \n",
              "       44156555 T          C          NaN                        0.0   \n",
              "       44156615 A          T          NaN                        0.0   \n",
              "       44156621 T          C          NaN                        0.0   \n",
              "       44156622 A          C          NaN                        0.0   \n",
              "\n",
              "                                                 frq_TZ-16_fune_2017  \\\n",
              "contig position ref_allele alt_allele aa_change                        \n",
              "3RL    44105666 A          C          NaN                       0.05   \n",
              "       44105678 A          G          NaN                       0.05   \n",
              "       44105726 A          T          NaN                       0.00   \n",
              "       44105729 G          T          NaN                       0.00   \n",
              "       44105753 G          C          NaN                       0.00   \n",
              "...                                                              ...   \n",
              "       44156542 C          T          NaN                       0.00   \n",
              "       44156555 T          C          NaN                       0.00   \n",
              "       44156615 A          T          NaN                       0.00   \n",
              "       44156621 T          C          NaN                       0.00   \n",
              "       44156622 A          C          NaN                       0.00   \n",
              "\n",
              "                                                 frq_TZ-16_fune_2019  \\\n",
              "contig position ref_allele alt_allele aa_change                        \n",
              "3RL    44105666 A          C          NaN                        0.0   \n",
              "       44105678 A          G          NaN                        0.0   \n",
              "       44105726 A          T          NaN                        0.0   \n",
              "       44105729 G          T          NaN                        0.0   \n",
              "       44105753 G          C          NaN                        0.0   \n",
              "...                                                              ...   \n",
              "       44156542 C          T          NaN                        0.0   \n",
              "       44156555 T          C          NaN                        0.0   \n",
              "       44156615 A          T          NaN                        0.0   \n",
              "       44156621 T          C          NaN                        0.0   \n",
              "       44156622 A          C          NaN                        0.0   \n",
              "\n",
              "                                                 frq_TZ-16_fune_2023  \\\n",
              "contig position ref_allele alt_allele aa_change                        \n",
              "3RL    44105666 A          C          NaN                   0.000000   \n",
              "       44105678 A          G          NaN                   0.000000   \n",
              "       44105726 A          T          NaN                   0.000000   \n",
              "       44105729 G          T          NaN                   0.018519   \n",
              "       44105753 G          C          NaN                   0.000000   \n",
              "...                                                              ...   \n",
              "       44156542 C          T          NaN                   0.000000   \n",
              "       44156555 T          C          NaN                   0.000000   \n",
              "       44156615 A          T          NaN                   0.000000   \n",
              "       44156621 T          C          NaN                   0.018519   \n",
              "       44156622 A          C          NaN                   0.000000   \n",
              "\n",
              "                                                 frq_TZ-17_fune_2022  \\\n",
              "contig position ref_allele alt_allele aa_change                        \n",
              "3RL    44105666 A          C          NaN                        0.0   \n",
              "       44105678 A          G          NaN                        0.0   \n",
              "       44105726 A          T          NaN                        0.0   \n",
              "       44105729 G          T          NaN                        0.0   \n",
              "       44105753 G          C          NaN                        0.0   \n",
              "...                                                              ...   \n",
              "       44156542 C          T          NaN                        0.0   \n",
              "       44156555 T          C          NaN                        0.0   \n",
              "       44156615 A          T          NaN                        0.0   \n",
              "       44156621 T          C          NaN                        0.0   \n",
              "       44156622 A          C          NaN                        0.0   \n",
              "\n",
              "                                                 frq_TZ-18_fune_2023  \\\n",
              "contig position ref_allele alt_allele aa_change                        \n",
              "3RL    44105666 A          C          NaN                   0.000000   \n",
              "       44105678 A          G          NaN                   0.000000   \n",
              "       44105726 A          T          NaN                   0.000000   \n",
              "       44105729 G          T          NaN                   0.000000   \n",
              "       44105753 G          C          NaN                   0.000000   \n",
              "...                                                              ...   \n",
              "       44156542 C          T          NaN                   0.000000   \n",
              "       44156555 T          C          NaN                   0.017857   \n",
              "       44156615 A          T          NaN                   0.000000   \n",
              "       44156621 T          C          NaN                   0.018519   \n",
              "       44156622 A          C          NaN                   0.018519   \n",
              "\n",
              "                                                 frq_TZ-19_fune_2019  ...  \\\n",
              "contig position ref_allele alt_allele aa_change                       ...   \n",
              "3RL    44105666 A          C          NaN                        0.0  ...   \n",
              "       44105678 A          G          NaN                        0.0  ...   \n",
              "       44105726 A          T          NaN                        0.0  ...   \n",
              "       44105729 G          T          NaN                        0.0  ...   \n",
              "       44105753 G          C          NaN                        0.0  ...   \n",
              "...                                                              ...  ...   \n",
              "       44156542 C          T          NaN                        0.0  ...   \n",
              "       44156555 T          C          NaN                        0.0  ...   \n",
              "       44156615 A          T          NaN                        0.0  ...   \n",
              "       44156621 T          C          NaN                        0.0  ...   \n",
              "       44156622 A          C          NaN                        0.0  ...   \n",
              "\n",
              "                                                   max_af       transcript  \\\n",
              "contig position ref_allele alt_allele aa_change                              \n",
              "3RL    44105666 A          C          NaN        0.050000  LOC125769886_t4   \n",
              "       44105678 A          G          NaN        0.050000  LOC125769886_t4   \n",
              "       44105726 A          T          NaN        0.015625  LOC125769886_t4   \n",
              "       44105729 G          T          NaN        0.018519  LOC125769886_t4   \n",
              "       44105753 G          C          NaN        0.015625  LOC125769886_t4   \n",
              "...                                                   ...              ...   \n",
              "       44156542 C          T          NaN        0.017857  LOC125769886_t4   \n",
              "       44156555 T          C          NaN        0.017857  LOC125769886_t4   \n",
              "       44156615 A          T          NaN        0.015625  LOC125769886_t4   \n",
              "       44156621 T          C          NaN        0.031250  LOC125769886_t4   \n",
              "       44156622 A          C          NaN        0.018519  LOC125769886_t4   \n",
              "\n",
              "                                                          effect  impact  \\\n",
              "contig position ref_allele alt_allele aa_change                            \n",
              "3RL    44105666 A          C          NaN        THREE_PRIME_UTR     LOW   \n",
              "       44105678 A          G          NaN        THREE_PRIME_UTR     LOW   \n",
              "       44105726 A          T          NaN        THREE_PRIME_UTR     LOW   \n",
              "       44105729 G          T          NaN        THREE_PRIME_UTR     LOW   \n",
              "       44105753 G          C          NaN        THREE_PRIME_UTR     LOW   \n",
              "...                                                          ...     ...   \n",
              "       44156542 C          T          NaN         FIVE_PRIME_UTR     LOW   \n",
              "       44156555 T          C          NaN         FIVE_PRIME_UTR     LOW   \n",
              "       44156615 A          T          NaN         FIVE_PRIME_UTR     LOW   \n",
              "       44156621 T          C          NaN         FIVE_PRIME_UTR     LOW   \n",
              "       44156622 A          C          NaN         FIVE_PRIME_UTR     LOW   \n",
              "\n",
              "                                                ref_codon alt_codon aa_pos  \\\n",
              "contig position ref_allele alt_allele aa_change                              \n",
              "3RL    44105666 A          C          NaN            None      None    NaN   \n",
              "       44105678 A          G          NaN            None      None    NaN   \n",
              "       44105726 A          T          NaN            None      None    NaN   \n",
              "       44105729 G          T          NaN            None      None    NaN   \n",
              "       44105753 G          C          NaN            None      None    NaN   \n",
              "...                                                   ...       ...    ...   \n",
              "       44156542 C          T          NaN            None      None    NaN   \n",
              "       44156555 T          C          NaN            None      None    NaN   \n",
              "       44156615 A          T          NaN            None      None    NaN   \n",
              "       44156621 T          C          NaN            None      None    NaN   \n",
              "       44156622 A          C          NaN            None      None    NaN   \n",
              "\n",
              "                                                ref_aa alt_aa  \\\n",
              "contig position ref_allele alt_allele aa_change                 \n",
              "3RL    44105666 A          C          NaN         None   None   \n",
              "       44105678 A          G          NaN         None   None   \n",
              "       44105726 A          T          NaN         None   None   \n",
              "       44105729 G          T          NaN         None   None   \n",
              "       44105753 G          C          NaN         None   None   \n",
              "...                                                ...    ...   \n",
              "       44156542 C          T          NaN         None   None   \n",
              "       44156555 T          C          NaN         None   None   \n",
              "       44156615 A          T          NaN         None   None   \n",
              "       44156621 T          C          NaN         None   None   \n",
              "       44156622 A          C          NaN         None   None   \n",
              "\n",
              "                                                              label  \n",
              "contig position ref_allele alt_allele aa_change                      \n",
              "3RL    44105666 A          C          NaN        3RL:44,105,666 A>C  \n",
              "       44105678 A          G          NaN        3RL:44,105,678 A>G  \n",
              "       44105726 A          T          NaN        3RL:44,105,726 A>T  \n",
              "       44105729 G          T          NaN        3RL:44,105,729 G>T  \n",
              "       44105753 G          C          NaN        3RL:44,105,753 G>C  \n",
              "...                                                             ...  \n",
              "       44156542 C          T          NaN        3RL:44,156,542 C>T  \n",
              "       44156555 T          C          NaN        3RL:44,156,555 T>C  \n",
              "       44156615 A          T          NaN        3RL:44,156,615 A>T  \n",
              "       44156621 T          C          NaN        3RL:44,156,621 T>C  \n",
              "       44156622 A          C          NaN        3RL:44,156,622 A>C  \n",
              "\n",
              "[6107 rows x 23 columns]"
            ]
          },
          "execution_count": 16,
          "metadata": {},
          "output_type": "execute_result"
        }
      ],
      "source": [
        "df_tz_vgsc = af1.snp_allele_frequencies(\n",
        "    transcript='LOC125769886_t4',\n",
        "    min_cohort_size= 10,\n",
        "    cohorts=\"cohort_admin1_year\",\n",
        "    sample_query=\"sample_set == ['1236-VO-TZ-OKUMU-VMF00252','1236-VO-TZ-OKUMU-VMF00248','1236-VO-TZ-OKUMU-VMF00261', '1236-VO-TZ-OKUMU-OKFR-TZ-2008', '1236-VO-TZ-OKUMU-VMF00090']\",\n",
        ")\n",
        "df_tz_vgsc"
      ]
    },
    {
      "cell_type": "code",
      "execution_count": 32,
      "metadata": {
        "colab": {
          "base_uri": "https://localhost:8080/",
          "height": 391
        },
        "id": "3Xt-0rPDBD3p",
        "outputId": "df7e7568-7172-4f76-d884-f180ece9b610"
      },
      "outputs": [
        {
          "data": {
            "text/html": [
              "<div>\n",
              "<style scoped>\n",
              "    .dataframe tbody tr th:only-of-type {\n",
              "        vertical-align: middle;\n",
              "    }\n",
              "\n",
              "    .dataframe tbody tr th {\n",
              "        vertical-align: top;\n",
              "    }\n",
              "\n",
              "    .dataframe thead th {\n",
              "        text-align: right;\n",
              "    }\n",
              "</style>\n",
              "<table border=\"1\" class=\"dataframe\">\n",
              "  <thead>\n",
              "    <tr style=\"text-align: right;\">\n",
              "      <th></th>\n",
              "      <th></th>\n",
              "      <th></th>\n",
              "      <th></th>\n",
              "      <th></th>\n",
              "      <th>pass_funestus</th>\n",
              "      <th>frq_TZ-03_fune_2022</th>\n",
              "      <th>frq_TZ-05_fune_2022</th>\n",
              "      <th>frq_TZ-12_fune_2022</th>\n",
              "      <th>frq_TZ-16_fune_2017</th>\n",
              "      <th>frq_TZ-16_fune_2019</th>\n",
              "      <th>frq_TZ-16_fune_2023</th>\n",
              "      <th>frq_TZ-17_fune_2022</th>\n",
              "      <th>frq_TZ-18_fune_2023</th>\n",
              "      <th>frq_TZ-19_fune_2019</th>\n",
              "      <th>...</th>\n",
              "      <th>max_af</th>\n",
              "      <th>transcript</th>\n",
              "      <th>effect</th>\n",
              "      <th>impact</th>\n",
              "      <th>ref_codon</th>\n",
              "      <th>alt_codon</th>\n",
              "      <th>aa_pos</th>\n",
              "      <th>ref_aa</th>\n",
              "      <th>alt_aa</th>\n",
              "      <th>label</th>\n",
              "    </tr>\n",
              "    <tr>\n",
              "      <th>contig</th>\n",
              "      <th>position</th>\n",
              "      <th>ref_allele</th>\n",
              "      <th>alt_allele</th>\n",
              "      <th>aa_change</th>\n",
              "      <th></th>\n",
              "      <th></th>\n",
              "      <th></th>\n",
              "      <th></th>\n",
              "      <th></th>\n",
              "      <th></th>\n",
              "      <th></th>\n",
              "      <th></th>\n",
              "      <th></th>\n",
              "      <th></th>\n",
              "      <th></th>\n",
              "      <th></th>\n",
              "      <th></th>\n",
              "      <th></th>\n",
              "      <th></th>\n",
              "      <th></th>\n",
              "      <th></th>\n",
              "      <th></th>\n",
              "      <th></th>\n",
              "      <th></th>\n",
              "      <th></th>\n",
              "    </tr>\n",
              "  </thead>\n",
              "  <tbody>\n",
              "    <tr>\n",
              "      <th rowspan=\"5\" valign=\"top\">3RL</th>\n",
              "      <th>44115768</th>\n",
              "      <th>C</th>\n",
              "      <th>A</th>\n",
              "      <th>G1962C</th>\n",
              "      <td>True</td>\n",
              "      <td>0.000000</td>\n",
              "      <td>0.0</td>\n",
              "      <td>0.0</td>\n",
              "      <td>0.00</td>\n",
              "      <td>0.000000</td>\n",
              "      <td>0.000000</td>\n",
              "      <td>0.048387</td>\n",
              "      <td>0.0</td>\n",
              "      <td>0.05</td>\n",
              "      <td>...</td>\n",
              "      <td>0.053571</td>\n",
              "      <td>LOC125769886_t4</td>\n",
              "      <td>NON_SYNONYMOUS_CODING</td>\n",
              "      <td>MODERATE</td>\n",
              "      <td>Ggt</td>\n",
              "      <td>Tgt</td>\n",
              "      <td>1962.0</td>\n",
              "      <td>G</td>\n",
              "      <td>C</td>\n",
              "      <td>3RL:44,115,768 C&gt;A (G1962C)</td>\n",
              "    </tr>\n",
              "    <tr>\n",
              "      <th>44116128</th>\n",
              "      <th>G</th>\n",
              "      <th>A</th>\n",
              "      <th>P1842S</th>\n",
              "      <td>True</td>\n",
              "      <td>0.035714</td>\n",
              "      <td>0.0</td>\n",
              "      <td>0.0</td>\n",
              "      <td>0.75</td>\n",
              "      <td>0.694444</td>\n",
              "      <td>0.481481</td>\n",
              "      <td>0.000000</td>\n",
              "      <td>0.0</td>\n",
              "      <td>0.10</td>\n",
              "      <td>...</td>\n",
              "      <td>0.750000</td>\n",
              "      <td>LOC125769886_t4</td>\n",
              "      <td>NON_SYNONYMOUS_CODING</td>\n",
              "      <td>MODERATE</td>\n",
              "      <td>Ccg</td>\n",
              "      <td>Tcg</td>\n",
              "      <td>1842.0</td>\n",
              "      <td>P</td>\n",
              "      <td>S</td>\n",
              "      <td>3RL:44,116,128 G&gt;A (P1842S)</td>\n",
              "    </tr>\n",
              "    <tr>\n",
              "      <th>44116923</th>\n",
              "      <th>A</th>\n",
              "      <th>T</th>\n",
              "      <th>F1638Y</th>\n",
              "      <td>True</td>\n",
              "      <td>0.000000</td>\n",
              "      <td>0.0</td>\n",
              "      <td>0.0</td>\n",
              "      <td>0.05</td>\n",
              "      <td>0.000000</td>\n",
              "      <td>0.037037</td>\n",
              "      <td>0.000000</td>\n",
              "      <td>0.0</td>\n",
              "      <td>0.15</td>\n",
              "      <td>...</td>\n",
              "      <td>0.150000</td>\n",
              "      <td>LOC125769886_t4</td>\n",
              "      <td>NON_SYNONYMOUS_CODING</td>\n",
              "      <td>MODERATE</td>\n",
              "      <td>tTc</td>\n",
              "      <td>tAc</td>\n",
              "      <td>1638.0</td>\n",
              "      <td>F</td>\n",
              "      <td>Y</td>\n",
              "      <td>3RL:44,116,923 A&gt;T (F1638Y)</td>\n",
              "    </tr>\n",
              "    <tr>\n",
              "      <th>44117167</th>\n",
              "      <th>A</th>\n",
              "      <th>T</th>\n",
              "      <th>W1557R</th>\n",
              "      <td>True</td>\n",
              "      <td>0.000000</td>\n",
              "      <td>0.0</td>\n",
              "      <td>0.0</td>\n",
              "      <td>0.10</td>\n",
              "      <td>0.138889</td>\n",
              "      <td>0.037037</td>\n",
              "      <td>0.000000</td>\n",
              "      <td>0.0</td>\n",
              "      <td>0.00</td>\n",
              "      <td>...</td>\n",
              "      <td>0.138889</td>\n",
              "      <td>LOC125769886_t4</td>\n",
              "      <td>NON_SYNONYMOUS_CODING</td>\n",
              "      <td>MODERATE</td>\n",
              "      <td>Tgg</td>\n",
              "      <td>Agg</td>\n",
              "      <td>1557.0</td>\n",
              "      <td>W</td>\n",
              "      <td>R</td>\n",
              "      <td>3RL:44,117,167 A&gt;T (W1557R)</td>\n",
              "    </tr>\n",
              "    <tr>\n",
              "      <th>44125475</th>\n",
              "      <th>T</th>\n",
              "      <th>A</th>\n",
              "      <th>L976F</th>\n",
              "      <td>True</td>\n",
              "      <td>0.035714</td>\n",
              "      <td>0.0</td>\n",
              "      <td>0.0</td>\n",
              "      <td>0.90</td>\n",
              "      <td>0.833333</td>\n",
              "      <td>0.555556</td>\n",
              "      <td>0.000000</td>\n",
              "      <td>0.0</td>\n",
              "      <td>0.25</td>\n",
              "      <td>...</td>\n",
              "      <td>0.900000</td>\n",
              "      <td>LOC125769886_t4</td>\n",
              "      <td>NON_SYNONYMOUS_CODING</td>\n",
              "      <td>MODERATE</td>\n",
              "      <td>ttA</td>\n",
              "      <td>ttT</td>\n",
              "      <td>976.0</td>\n",
              "      <td>L</td>\n",
              "      <td>F</td>\n",
              "      <td>3RL:44,125,475 T&gt;A (L976F)</td>\n",
              "    </tr>\n",
              "  </tbody>\n",
              "</table>\n",
              "<p>5 rows × 23 columns</p>\n",
              "</div>"
            ],
            "text/plain": [
              "                                                 pass_funestus  \\\n",
              "contig position ref_allele alt_allele aa_change                  \n",
              "3RL    44115768 C          A          G1962C              True   \n",
              "       44116128 G          A          P1842S              True   \n",
              "       44116923 A          T          F1638Y              True   \n",
              "       44117167 A          T          W1557R              True   \n",
              "       44125475 T          A          L976F               True   \n",
              "\n",
              "                                                 frq_TZ-03_fune_2022  \\\n",
              "contig position ref_allele alt_allele aa_change                        \n",
              "3RL    44115768 C          A          G1962C                0.000000   \n",
              "       44116128 G          A          P1842S                0.035714   \n",
              "       44116923 A          T          F1638Y                0.000000   \n",
              "       44117167 A          T          W1557R                0.000000   \n",
              "       44125475 T          A          L976F                 0.035714   \n",
              "\n",
              "                                                 frq_TZ-05_fune_2022  \\\n",
              "contig position ref_allele alt_allele aa_change                        \n",
              "3RL    44115768 C          A          G1962C                     0.0   \n",
              "       44116128 G          A          P1842S                     0.0   \n",
              "       44116923 A          T          F1638Y                     0.0   \n",
              "       44117167 A          T          W1557R                     0.0   \n",
              "       44125475 T          A          L976F                      0.0   \n",
              "\n",
              "                                                 frq_TZ-12_fune_2022  \\\n",
              "contig position ref_allele alt_allele aa_change                        \n",
              "3RL    44115768 C          A          G1962C                     0.0   \n",
              "       44116128 G          A          P1842S                     0.0   \n",
              "       44116923 A          T          F1638Y                     0.0   \n",
              "       44117167 A          T          W1557R                     0.0   \n",
              "       44125475 T          A          L976F                      0.0   \n",
              "\n",
              "                                                 frq_TZ-16_fune_2017  \\\n",
              "contig position ref_allele alt_allele aa_change                        \n",
              "3RL    44115768 C          A          G1962C                    0.00   \n",
              "       44116128 G          A          P1842S                    0.75   \n",
              "       44116923 A          T          F1638Y                    0.05   \n",
              "       44117167 A          T          W1557R                    0.10   \n",
              "       44125475 T          A          L976F                     0.90   \n",
              "\n",
              "                                                 frq_TZ-16_fune_2019  \\\n",
              "contig position ref_allele alt_allele aa_change                        \n",
              "3RL    44115768 C          A          G1962C                0.000000   \n",
              "       44116128 G          A          P1842S                0.694444   \n",
              "       44116923 A          T          F1638Y                0.000000   \n",
              "       44117167 A          T          W1557R                0.138889   \n",
              "       44125475 T          A          L976F                 0.833333   \n",
              "\n",
              "                                                 frq_TZ-16_fune_2023  \\\n",
              "contig position ref_allele alt_allele aa_change                        \n",
              "3RL    44115768 C          A          G1962C                0.000000   \n",
              "       44116128 G          A          P1842S                0.481481   \n",
              "       44116923 A          T          F1638Y                0.037037   \n",
              "       44117167 A          T          W1557R                0.037037   \n",
              "       44125475 T          A          L976F                 0.555556   \n",
              "\n",
              "                                                 frq_TZ-17_fune_2022  \\\n",
              "contig position ref_allele alt_allele aa_change                        \n",
              "3RL    44115768 C          A          G1962C                0.048387   \n",
              "       44116128 G          A          P1842S                0.000000   \n",
              "       44116923 A          T          F1638Y                0.000000   \n",
              "       44117167 A          T          W1557R                0.000000   \n",
              "       44125475 T          A          L976F                 0.000000   \n",
              "\n",
              "                                                 frq_TZ-18_fune_2023  \\\n",
              "contig position ref_allele alt_allele aa_change                        \n",
              "3RL    44115768 C          A          G1962C                     0.0   \n",
              "       44116128 G          A          P1842S                     0.0   \n",
              "       44116923 A          T          F1638Y                     0.0   \n",
              "       44117167 A          T          W1557R                     0.0   \n",
              "       44125475 T          A          L976F                      0.0   \n",
              "\n",
              "                                                 frq_TZ-19_fune_2019  ...  \\\n",
              "contig position ref_allele alt_allele aa_change                       ...   \n",
              "3RL    44115768 C          A          G1962C                    0.05  ...   \n",
              "       44116128 G          A          P1842S                    0.10  ...   \n",
              "       44116923 A          T          F1638Y                    0.15  ...   \n",
              "       44117167 A          T          W1557R                    0.00  ...   \n",
              "       44125475 T          A          L976F                     0.25  ...   \n",
              "\n",
              "                                                   max_af       transcript  \\\n",
              "contig position ref_allele alt_allele aa_change                              \n",
              "3RL    44115768 C          A          G1962C     0.053571  LOC125769886_t4   \n",
              "       44116128 G          A          P1842S     0.750000  LOC125769886_t4   \n",
              "       44116923 A          T          F1638Y     0.150000  LOC125769886_t4   \n",
              "       44117167 A          T          W1557R     0.138889  LOC125769886_t4   \n",
              "       44125475 T          A          L976F      0.900000  LOC125769886_t4   \n",
              "\n",
              "                                                                effect  \\\n",
              "contig position ref_allele alt_allele aa_change                          \n",
              "3RL    44115768 C          A          G1962C     NON_SYNONYMOUS_CODING   \n",
              "       44116128 G          A          P1842S     NON_SYNONYMOUS_CODING   \n",
              "       44116923 A          T          F1638Y     NON_SYNONYMOUS_CODING   \n",
              "       44117167 A          T          W1557R     NON_SYNONYMOUS_CODING   \n",
              "       44125475 T          A          L976F      NON_SYNONYMOUS_CODING   \n",
              "\n",
              "                                                   impact ref_codon alt_codon  \\\n",
              "contig position ref_allele alt_allele aa_change                                 \n",
              "3RL    44115768 C          A          G1962C     MODERATE       Ggt       Tgt   \n",
              "       44116128 G          A          P1842S     MODERATE       Ccg       Tcg   \n",
              "       44116923 A          T          F1638Y     MODERATE       tTc       tAc   \n",
              "       44117167 A          T          W1557R     MODERATE       Tgg       Agg   \n",
              "       44125475 T          A          L976F      MODERATE       ttA       ttT   \n",
              "\n",
              "                                                 aa_pos ref_aa alt_aa  \\\n",
              "contig position ref_allele alt_allele aa_change                         \n",
              "3RL    44115768 C          A          G1962C     1962.0      G      C   \n",
              "       44116128 G          A          P1842S     1842.0      P      S   \n",
              "       44116923 A          T          F1638Y     1638.0      F      Y   \n",
              "       44117167 A          T          W1557R     1557.0      W      R   \n",
              "       44125475 T          A          L976F       976.0      L      F   \n",
              "\n",
              "                                                                       label  \n",
              "contig position ref_allele alt_allele aa_change                               \n",
              "3RL    44115768 C          A          G1962C     3RL:44,115,768 C>A (G1962C)  \n",
              "       44116128 G          A          P1842S     3RL:44,116,128 G>A (P1842S)  \n",
              "       44116923 A          T          F1638Y     3RL:44,116,923 A>T (F1638Y)  \n",
              "       44117167 A          T          W1557R     3RL:44,117,167 A>T (W1557R)  \n",
              "       44125475 T          A          L976F       3RL:44,125,475 T>A (L976F)  \n",
              "\n",
              "[5 rows x 23 columns]"
            ]
          },
          "execution_count": 32,
          "metadata": {},
          "output_type": "execute_result"
        }
      ],
      "source": [
        "df_snps_filtered_vgsc = df_tz_vgsc.query(\"effect == 'NON_SYNONYMOUS_CODING' and max_af > 0.05\")\n",
        "df_snps_filtered_vgsc"
      ]
    },
    {
      "cell_type": "code",
      "execution_count": 33,
      "metadata": {
        "colab": {
          "base_uri": "https://localhost:8080/",
          "height": 357
        },
        "id": "6MXcMySHBUtY",
        "outputId": "da562465-8eff-452a-feea-4bacaa5354cb"
      },
      "outputs": [
        {
          "data": {
            "application/vnd.plotly.v1+json": {
              "config": {
                "plotlyServerURL": "https://plot.ly"
              },
              "data": [
                {
                  "coloraxis": "coloraxis",
                  "hovertemplate": "x: %{x}<br>label: %{y}<br>color: %{z}<extra></extra>",
                  "name": "0",
                  "texttemplate": "%{z:.0%}",
                  "type": "heatmap",
                  "x": [
                    "TZ-03_fune_2022",
                    "TZ-05_fune_2022",
                    "TZ-12_fune_2022",
                    "TZ-16_fune_2017",
                    "TZ-16_fune_2019",
                    "TZ-16_fune_2023",
                    "TZ-17_fune_2022",
                    "TZ-18_fune_2023",
                    "TZ-19_fune_2019",
                    "TZ-21_fune_2022",
                    "TZ-25_fune_2022",
                    "TZ-28_fune_2022"
                  ],
                  "xaxis": "x",
                  "y": [
                    "3RL:44,115,768 C>A (G1962C)",
                    "3RL:44,116,128 G>A (P1842S)",
                    "3RL:44,116,923 A>T (F1638Y)",
                    "3RL:44,117,167 A>T (W1557R)",
                    "3RL:44,125,475 T>A (L976F)"
                  ],
                  "yaxis": "y",
                  "z": [
                    [
                      0,
                      0,
                      0,
                      0,
                      0,
                      0,
                      0.04838709677419355,
                      0,
                      0.05,
                      0.05357142857142857,
                      0,
                      0
                    ],
                    [
                      0.03571428571428571,
                      0,
                      0,
                      0.75,
                      0.6944444444444444,
                      0.48148148148148145,
                      0,
                      0,
                      0.1,
                      0.10714285714285714,
                      0,
                      0
                    ],
                    [
                      0,
                      0,
                      0,
                      0.05,
                      0,
                      0.037037037037037035,
                      0,
                      0,
                      0.15,
                      0,
                      0,
                      0
                    ],
                    [
                      0,
                      0,
                      0,
                      0.1,
                      0.1388888888888889,
                      0.037037037037037035,
                      0,
                      0,
                      0,
                      0,
                      0,
                      0
                    ],
                    [
                      0.03571428571428571,
                      0,
                      0,
                      0.9,
                      0.8333333333333334,
                      0.5555555555555556,
                      0,
                      0,
                      0.25,
                      0.10714285714285714,
                      0,
                      0
                    ]
                  ]
                }
              ],
              "layout": {
                "coloraxis": {
                  "cmax": 1,
                  "cmin": 0,
                  "colorbar": {
                    "ticktext": [
                      "0%",
                      "20%",
                      "40%",
                      "60%",
                      "80%",
                      "100%"
                    ],
                    "tickvals": [
                      0,
                      0.2,
                      0.4,
                      0.6,
                      0.8,
                      1
                    ],
                    "title": {
                      "text": "Frequency"
                    }
                  },
                  "colorscale": [
                    [
                      0,
                      "rgb(255,245,240)"
                    ],
                    [
                      0.125,
                      "rgb(254,224,210)"
                    ],
                    [
                      0.25,
                      "rgb(252,187,161)"
                    ],
                    [
                      0.375,
                      "rgb(252,146,114)"
                    ],
                    [
                      0.5,
                      "rgb(251,106,74)"
                    ],
                    [
                      0.625,
                      "rgb(239,59,44)"
                    ],
                    [
                      0.75,
                      "rgb(203,24,29)"
                    ],
                    [
                      0.875,
                      "rgb(165,15,21)"
                    ],
                    [
                      1,
                      "rgb(103,0,13)"
                    ]
                  ]
                },
                "height": 340,
                "template": {
                  "data": {
                    "bar": [
                      {
                        "error_x": {
                          "color": "#2a3f5f"
                        },
                        "error_y": {
                          "color": "#2a3f5f"
                        },
                        "marker": {
                          "line": {
                            "color": "#E5ECF6",
                            "width": 0.5
                          },
                          "pattern": {
                            "fillmode": "overlay",
                            "size": 10,
                            "solidity": 0.2
                          }
                        },
                        "type": "bar"
                      }
                    ],
                    "barpolar": [
                      {
                        "marker": {
                          "line": {
                            "color": "#E5ECF6",
                            "width": 0.5
                          },
                          "pattern": {
                            "fillmode": "overlay",
                            "size": 10,
                            "solidity": 0.2
                          }
                        },
                        "type": "barpolar"
                      }
                    ],
                    "carpet": [
                      {
                        "aaxis": {
                          "endlinecolor": "#2a3f5f",
                          "gridcolor": "white",
                          "linecolor": "white",
                          "minorgridcolor": "white",
                          "startlinecolor": "#2a3f5f"
                        },
                        "baxis": {
                          "endlinecolor": "#2a3f5f",
                          "gridcolor": "white",
                          "linecolor": "white",
                          "minorgridcolor": "white",
                          "startlinecolor": "#2a3f5f"
                        },
                        "type": "carpet"
                      }
                    ],
                    "choropleth": [
                      {
                        "colorbar": {
                          "outlinewidth": 0,
                          "ticks": ""
                        },
                        "type": "choropleth"
                      }
                    ],
                    "contour": [
                      {
                        "colorbar": {
                          "outlinewidth": 0,
                          "ticks": ""
                        },
                        "colorscale": [
                          [
                            0,
                            "#0d0887"
                          ],
                          [
                            0.1111111111111111,
                            "#46039f"
                          ],
                          [
                            0.2222222222222222,
                            "#7201a8"
                          ],
                          [
                            0.3333333333333333,
                            "#9c179e"
                          ],
                          [
                            0.4444444444444444,
                            "#bd3786"
                          ],
                          [
                            0.5555555555555556,
                            "#d8576b"
                          ],
                          [
                            0.6666666666666666,
                            "#ed7953"
                          ],
                          [
                            0.7777777777777778,
                            "#fb9f3a"
                          ],
                          [
                            0.8888888888888888,
                            "#fdca26"
                          ],
                          [
                            1,
                            "#f0f921"
                          ]
                        ],
                        "type": "contour"
                      }
                    ],
                    "contourcarpet": [
                      {
                        "colorbar": {
                          "outlinewidth": 0,
                          "ticks": ""
                        },
                        "type": "contourcarpet"
                      }
                    ],
                    "heatmap": [
                      {
                        "colorbar": {
                          "outlinewidth": 0,
                          "ticks": ""
                        },
                        "colorscale": [
                          [
                            0,
                            "#0d0887"
                          ],
                          [
                            0.1111111111111111,
                            "#46039f"
                          ],
                          [
                            0.2222222222222222,
                            "#7201a8"
                          ],
                          [
                            0.3333333333333333,
                            "#9c179e"
                          ],
                          [
                            0.4444444444444444,
                            "#bd3786"
                          ],
                          [
                            0.5555555555555556,
                            "#d8576b"
                          ],
                          [
                            0.6666666666666666,
                            "#ed7953"
                          ],
                          [
                            0.7777777777777778,
                            "#fb9f3a"
                          ],
                          [
                            0.8888888888888888,
                            "#fdca26"
                          ],
                          [
                            1,
                            "#f0f921"
                          ]
                        ],
                        "type": "heatmap"
                      }
                    ],
                    "heatmapgl": [
                      {
                        "colorbar": {
                          "outlinewidth": 0,
                          "ticks": ""
                        },
                        "colorscale": [
                          [
                            0,
                            "#0d0887"
                          ],
                          [
                            0.1111111111111111,
                            "#46039f"
                          ],
                          [
                            0.2222222222222222,
                            "#7201a8"
                          ],
                          [
                            0.3333333333333333,
                            "#9c179e"
                          ],
                          [
                            0.4444444444444444,
                            "#bd3786"
                          ],
                          [
                            0.5555555555555556,
                            "#d8576b"
                          ],
                          [
                            0.6666666666666666,
                            "#ed7953"
                          ],
                          [
                            0.7777777777777778,
                            "#fb9f3a"
                          ],
                          [
                            0.8888888888888888,
                            "#fdca26"
                          ],
                          [
                            1,
                            "#f0f921"
                          ]
                        ],
                        "type": "heatmapgl"
                      }
                    ],
                    "histogram": [
                      {
                        "marker": {
                          "pattern": {
                            "fillmode": "overlay",
                            "size": 10,
                            "solidity": 0.2
                          }
                        },
                        "type": "histogram"
                      }
                    ],
                    "histogram2d": [
                      {
                        "colorbar": {
                          "outlinewidth": 0,
                          "ticks": ""
                        },
                        "colorscale": [
                          [
                            0,
                            "#0d0887"
                          ],
                          [
                            0.1111111111111111,
                            "#46039f"
                          ],
                          [
                            0.2222222222222222,
                            "#7201a8"
                          ],
                          [
                            0.3333333333333333,
                            "#9c179e"
                          ],
                          [
                            0.4444444444444444,
                            "#bd3786"
                          ],
                          [
                            0.5555555555555556,
                            "#d8576b"
                          ],
                          [
                            0.6666666666666666,
                            "#ed7953"
                          ],
                          [
                            0.7777777777777778,
                            "#fb9f3a"
                          ],
                          [
                            0.8888888888888888,
                            "#fdca26"
                          ],
                          [
                            1,
                            "#f0f921"
                          ]
                        ],
                        "type": "histogram2d"
                      }
                    ],
                    "histogram2dcontour": [
                      {
                        "colorbar": {
                          "outlinewidth": 0,
                          "ticks": ""
                        },
                        "colorscale": [
                          [
                            0,
                            "#0d0887"
                          ],
                          [
                            0.1111111111111111,
                            "#46039f"
                          ],
                          [
                            0.2222222222222222,
                            "#7201a8"
                          ],
                          [
                            0.3333333333333333,
                            "#9c179e"
                          ],
                          [
                            0.4444444444444444,
                            "#bd3786"
                          ],
                          [
                            0.5555555555555556,
                            "#d8576b"
                          ],
                          [
                            0.6666666666666666,
                            "#ed7953"
                          ],
                          [
                            0.7777777777777778,
                            "#fb9f3a"
                          ],
                          [
                            0.8888888888888888,
                            "#fdca26"
                          ],
                          [
                            1,
                            "#f0f921"
                          ]
                        ],
                        "type": "histogram2dcontour"
                      }
                    ],
                    "mesh3d": [
                      {
                        "colorbar": {
                          "outlinewidth": 0,
                          "ticks": ""
                        },
                        "type": "mesh3d"
                      }
                    ],
                    "parcoords": [
                      {
                        "line": {
                          "colorbar": {
                            "outlinewidth": 0,
                            "ticks": ""
                          }
                        },
                        "type": "parcoords"
                      }
                    ],
                    "pie": [
                      {
                        "automargin": true,
                        "type": "pie"
                      }
                    ],
                    "scatter": [
                      {
                        "fillpattern": {
                          "fillmode": "overlay",
                          "size": 10,
                          "solidity": 0.2
                        },
                        "type": "scatter"
                      }
                    ],
                    "scatter3d": [
                      {
                        "line": {
                          "colorbar": {
                            "outlinewidth": 0,
                            "ticks": ""
                          }
                        },
                        "marker": {
                          "colorbar": {
                            "outlinewidth": 0,
                            "ticks": ""
                          }
                        },
                        "type": "scatter3d"
                      }
                    ],
                    "scattercarpet": [
                      {
                        "marker": {
                          "colorbar": {
                            "outlinewidth": 0,
                            "ticks": ""
                          }
                        },
                        "type": "scattercarpet"
                      }
                    ],
                    "scattergeo": [
                      {
                        "marker": {
                          "colorbar": {
                            "outlinewidth": 0,
                            "ticks": ""
                          }
                        },
                        "type": "scattergeo"
                      }
                    ],
                    "scattergl": [
                      {
                        "marker": {
                          "colorbar": {
                            "outlinewidth": 0,
                            "ticks": ""
                          }
                        },
                        "type": "scattergl"
                      }
                    ],
                    "scattermapbox": [
                      {
                        "marker": {
                          "colorbar": {
                            "outlinewidth": 0,
                            "ticks": ""
                          }
                        },
                        "type": "scattermapbox"
                      }
                    ],
                    "scatterpolar": [
                      {
                        "marker": {
                          "colorbar": {
                            "outlinewidth": 0,
                            "ticks": ""
                          }
                        },
                        "type": "scatterpolar"
                      }
                    ],
                    "scatterpolargl": [
                      {
                        "marker": {
                          "colorbar": {
                            "outlinewidth": 0,
                            "ticks": ""
                          }
                        },
                        "type": "scatterpolargl"
                      }
                    ],
                    "scatterternary": [
                      {
                        "marker": {
                          "colorbar": {
                            "outlinewidth": 0,
                            "ticks": ""
                          }
                        },
                        "type": "scatterternary"
                      }
                    ],
                    "surface": [
                      {
                        "colorbar": {
                          "outlinewidth": 0,
                          "ticks": ""
                        },
                        "colorscale": [
                          [
                            0,
                            "#0d0887"
                          ],
                          [
                            0.1111111111111111,
                            "#46039f"
                          ],
                          [
                            0.2222222222222222,
                            "#7201a8"
                          ],
                          [
                            0.3333333333333333,
                            "#9c179e"
                          ],
                          [
                            0.4444444444444444,
                            "#bd3786"
                          ],
                          [
                            0.5555555555555556,
                            "#d8576b"
                          ],
                          [
                            0.6666666666666666,
                            "#ed7953"
                          ],
                          [
                            0.7777777777777778,
                            "#fb9f3a"
                          ],
                          [
                            0.8888888888888888,
                            "#fdca26"
                          ],
                          [
                            1,
                            "#f0f921"
                          ]
                        ],
                        "type": "surface"
                      }
                    ],
                    "table": [
                      {
                        "cells": {
                          "fill": {
                            "color": "#EBF0F8"
                          },
                          "line": {
                            "color": "white"
                          }
                        },
                        "header": {
                          "fill": {
                            "color": "#C8D4E3"
                          },
                          "line": {
                            "color": "white"
                          }
                        },
                        "type": "table"
                      }
                    ]
                  },
                  "layout": {
                    "annotationdefaults": {
                      "arrowcolor": "#2a3f5f",
                      "arrowhead": 0,
                      "arrowwidth": 1
                    },
                    "autotypenumbers": "strict",
                    "coloraxis": {
                      "colorbar": {
                        "outlinewidth": 0,
                        "ticks": ""
                      }
                    },
                    "colorscale": {
                      "diverging": [
                        [
                          0,
                          "#8e0152"
                        ],
                        [
                          0.1,
                          "#c51b7d"
                        ],
                        [
                          0.2,
                          "#de77ae"
                        ],
                        [
                          0.3,
                          "#f1b6da"
                        ],
                        [
                          0.4,
                          "#fde0ef"
                        ],
                        [
                          0.5,
                          "#f7f7f7"
                        ],
                        [
                          0.6,
                          "#e6f5d0"
                        ],
                        [
                          0.7,
                          "#b8e186"
                        ],
                        [
                          0.8,
                          "#7fbc41"
                        ],
                        [
                          0.9,
                          "#4d9221"
                        ],
                        [
                          1,
                          "#276419"
                        ]
                      ],
                      "sequential": [
                        [
                          0,
                          "#0d0887"
                        ],
                        [
                          0.1111111111111111,
                          "#46039f"
                        ],
                        [
                          0.2222222222222222,
                          "#7201a8"
                        ],
                        [
                          0.3333333333333333,
                          "#9c179e"
                        ],
                        [
                          0.4444444444444444,
                          "#bd3786"
                        ],
                        [
                          0.5555555555555556,
                          "#d8576b"
                        ],
                        [
                          0.6666666666666666,
                          "#ed7953"
                        ],
                        [
                          0.7777777777777778,
                          "#fb9f3a"
                        ],
                        [
                          0.8888888888888888,
                          "#fdca26"
                        ],
                        [
                          1,
                          "#f0f921"
                        ]
                      ],
                      "sequentialminus": [
                        [
                          0,
                          "#0d0887"
                        ],
                        [
                          0.1111111111111111,
                          "#46039f"
                        ],
                        [
                          0.2222222222222222,
                          "#7201a8"
                        ],
                        [
                          0.3333333333333333,
                          "#9c179e"
                        ],
                        [
                          0.4444444444444444,
                          "#bd3786"
                        ],
                        [
                          0.5555555555555556,
                          "#d8576b"
                        ],
                        [
                          0.6666666666666666,
                          "#ed7953"
                        ],
                        [
                          0.7777777777777778,
                          "#fb9f3a"
                        ],
                        [
                          0.8888888888888888,
                          "#fdca26"
                        ],
                        [
                          1,
                          "#f0f921"
                        ]
                      ]
                    },
                    "colorway": [
                      "#636efa",
                      "#EF553B",
                      "#00cc96",
                      "#ab63fa",
                      "#FFA15A",
                      "#19d3f3",
                      "#FF6692",
                      "#B6E880",
                      "#FF97FF",
                      "#FECB52"
                    ],
                    "font": {
                      "color": "#2a3f5f"
                    },
                    "geo": {
                      "bgcolor": "white",
                      "lakecolor": "white",
                      "landcolor": "#E5ECF6",
                      "showlakes": true,
                      "showland": true,
                      "subunitcolor": "white"
                    },
                    "hoverlabel": {
                      "align": "left"
                    },
                    "hovermode": "closest",
                    "mapbox": {
                      "style": "light"
                    },
                    "paper_bgcolor": "white",
                    "plot_bgcolor": "#E5ECF6",
                    "polar": {
                      "angularaxis": {
                        "gridcolor": "white",
                        "linecolor": "white",
                        "ticks": ""
                      },
                      "bgcolor": "#E5ECF6",
                      "radialaxis": {
                        "gridcolor": "white",
                        "linecolor": "white",
                        "ticks": ""
                      }
                    },
                    "scene": {
                      "xaxis": {
                        "backgroundcolor": "#E5ECF6",
                        "gridcolor": "white",
                        "gridwidth": 2,
                        "linecolor": "white",
                        "showbackground": true,
                        "ticks": "",
                        "zerolinecolor": "white"
                      },
                      "yaxis": {
                        "backgroundcolor": "#E5ECF6",
                        "gridcolor": "white",
                        "gridwidth": 2,
                        "linecolor": "white",
                        "showbackground": true,
                        "ticks": "",
                        "zerolinecolor": "white"
                      },
                      "zaxis": {
                        "backgroundcolor": "#E5ECF6",
                        "gridcolor": "white",
                        "gridwidth": 2,
                        "linecolor": "white",
                        "showbackground": true,
                        "ticks": "",
                        "zerolinecolor": "white"
                      }
                    },
                    "shapedefaults": {
                      "line": {
                        "color": "#2a3f5f"
                      }
                    },
                    "ternary": {
                      "aaxis": {
                        "gridcolor": "white",
                        "linecolor": "white",
                        "ticks": ""
                      },
                      "baxis": {
                        "gridcolor": "white",
                        "linecolor": "white",
                        "ticks": ""
                      },
                      "bgcolor": "#E5ECF6",
                      "caxis": {
                        "gridcolor": "white",
                        "linecolor": "white",
                        "ticks": ""
                      }
                    },
                    "title": {
                      "x": 0.05
                    },
                    "xaxis": {
                      "automargin": true,
                      "gridcolor": "white",
                      "linecolor": "white",
                      "ticks": "",
                      "title": {
                        "standoff": 15
                      },
                      "zerolinecolor": "white",
                      "zerolinewidth": 2
                    },
                    "yaxis": {
                      "automargin": true,
                      "gridcolor": "white",
                      "linecolor": "white",
                      "ticks": "",
                      "title": {
                        "standoff": 15
                      },
                      "zerolinecolor": "white",
                      "zerolinewidth": 2
                    }
                  }
                },
                "title": {
                  "text": "Knockdown resistance (kdr) in Tanzania"
                },
                "width": 920,
                "xaxis": {
                  "anchor": "y",
                  "domain": [
                    0,
                    1
                  ],
                  "side": "bottom",
                  "tickangle": 30,
                  "title": {
                    "text": "Cohorts"
                  }
                },
                "yaxis": {
                  "anchor": "x",
                  "autorange": "reversed",
                  "domain": [
                    0,
                    1
                  ],
                  "title": {
                    "text": "Variants"
                  }
                }
              }
            }
          },
          "metadata": {},
          "output_type": "display_data"
        }
      ],
      "source": [
        "af1.plot_frequencies_heatmap(df_snps_filtered_vgsc, title= \"Knockdown resistance (kdr) in Tanzania\")"
      ]
    },
    {
      "cell_type": "code",
      "execution_count": 7,
      "metadata": {
        "colab": {
          "base_uri": "https://localhost:8080/",
          "height": 299,
          "referenced_widgets": [
            "de794a0b95dd49af8f81cd146e55d93f",
            "27a57a063c684fb5be531746e27f3e69",
            "350a07afdc964a77a35b9dcc3ac0119c",
            "2e2213d0c4a1485ea72e533cf6c4fc02",
            "69f810aa0e5d4a29af771cd873053999",
            "0ba4c22ae32d499d90fd77eb2df71de6",
            "0f4d8646e6fb4b5d9095b8bdb9849485",
            "d6ebb05e28a747c4ad0776151be4cdcd",
            "312641f768494244a822fc9ea6d0a1c1",
            "60f13d71694740b38d82249a12219d94",
            "c4a3c08a299f4d4f94cc007c7d3853fe",
            "60e774540f91400eada0b190523e0d9c",
            "fa3e89747ca741b3abd880ca98140389",
            "71923c7bae1d40eda0c2f571f127bf4b",
            "cd2d2611c39d46799142f3608b365566",
            "97b2e86d1ab242fcbffe88e65aaef88a",
            "54da831916284f2a8cf91a3779363eff",
            "f84d5265a4ca4bf3971059fcb021c6ba",
            "0a11b6ddffa841c9973d3c22ae715859",
            "8ffa7fd2305d4602a0891748a24e6beb",
            "e3325bf082b148698272a514ddc582a5",
            "d2f3fe41b28b4d5badbf9999a6e1a656",
            "1b836d9790fd4b4d9cdcb29e456d632d",
            "d90affaab7d34092b15579835f954b9d",
            "909205d1e3754531ad84902cb4bda4f6",
            "032b912c5f0849b887a0bf67d17f7224",
            "620152b2d20247bc9a39db9eb7393708",
            "c65636e120fd48ebaa658c909fd10d66",
            "c47ad404be0b4c278f182482e56a4597",
            "b55554a775c0426c8c0b440b795cdf42",
            "6d7148e48d13448985cf8e774ad73093",
            "85ca6de6818343bcb4cc9d1931743a58",
            "fa3c7f8e0ccf4f1d955f04f782936201"
          ]
        },
        "id": "pTaCzbmKBKe4",
        "outputId": "c6117bec-ec53-449d-fcdc-300245496d0e"
      },
      "outputs": [
        {
          "data": {
            "application/vnd.jupyter.widget-view+json": {
              "model_id": "fc009d59c42b4924888b4daadac437ce",
              "version_major": 2,
              "version_minor": 0
            },
            "text/plain": [
              "Load SNP genotypes:   0%|          | 0/18 [00:00<?, ?it/s]"
            ]
          },
          "metadata": {},
          "output_type": "display_data"
        },
        {
          "data": {
            "application/vnd.jupyter.widget-view+json": {
              "model_id": "af9033e54eb746558acf6ff280269677",
              "version_major": 2,
              "version_minor": 0
            },
            "text/plain": [
              "Compute allele frequencies:   0%|          | 0/19 [00:00<?, ?it/s]"
            ]
          },
          "metadata": {},
          "output_type": "display_data"
        },
        {
          "data": {
            "application/vnd.jupyter.widget-view+json": {
              "model_id": "da4f605461f24fa285d5c78b0c80ad96",
              "version_major": 2,
              "version_minor": 0
            },
            "text/plain": [
              "Compute SNP effects:   0%|          | 0/6177 [00:00<?, ?it/s]"
            ]
          },
          "metadata": {},
          "output_type": "display_data"
        }
      ],
      "source": [
        "ds_snps_tz = af1.aa_allele_frequencies(\n",
        "    transcript='LOC125769886_t4',\n",
        "    sample_query=\"sample_set == ['1236-VO-TZ-OKUMU-VMF00252','1236-VO-TZ-OKUMU-VMF00248','1236-VO-TZ-OKUMU-VMF00261', '1236-VO-TZ-OKUMU-OKFR-TZ-2008', '1236-VO-TZ-OKUMU-VMF00090']\",\n",
        "    min_cohort_size= 9,\n",
        "    cohorts='cohort_admin1_year',\n",
        ")"
      ]
    },
    {
      "cell_type": "code",
      "execution_count": 39,
      "metadata": {
        "colab": {
          "base_uri": "https://localhost:8080/",
          "height": 717
        },
        "id": "DumXJuEPB6bj",
        "outputId": "e9cc66e9-d352-429e-a80c-f0ca9670f2f7"
      },
      "outputs": [],
      "source": [
        "#output alleles > 0.05, nonsynonymous, for plotting in R\n",
        "df_snps_filtered_vgsc = ds_snps_tz.query(\"effect == 'NON_SYNONYMOUS_CODING' and max_af > 0.05\")\n",
        "df_snps_filtered_vgsc.to_csv('/Users/dennistpw/Projects/kdr_funestus_report_2023/kdr_vgsc_aa_freqs.csv')\n"
      ]
    },
    {
      "cell_type": "code",
      "execution_count": 38,
      "metadata": {},
      "outputs": [
        {
          "data": {
            "application/vnd.plotly.v1+json": {
              "config": {
                "plotlyServerURL": "https://plot.ly"
              },
              "data": [
                {
                  "coloraxis": "coloraxis",
                  "hovertemplate": "x: %{x}<br>label: %{y}<br>color: %{z}<extra></extra>",
                  "name": "0",
                  "texttemplate": "%{z:.0%}",
                  "type": "heatmap",
                  "x": [
                    "TZ-03_fune_2022",
                    "TZ-05_fune_2022",
                    "TZ-12_fune_2022",
                    "TZ-16_fune_2017",
                    "TZ-16_fune_2019",
                    "TZ-16_fune_2021",
                    "TZ-16_fune_2023",
                    "TZ-17_fune_2022",
                    "TZ-18_fune_2023",
                    "TZ-19_fune_2019",
                    "TZ-21_fune_2019",
                    "TZ-21_fune_2022",
                    "TZ-25_fune_2022",
                    "TZ-28_fune_2022"
                  ],
                  "xaxis": "x",
                  "y": [
                    "I2030V (3RL:44,115,564 T>C)",
                    "G1962C (3RL:44,115,768 C>A)",
                    "P1842S (3RL:44,116,128 G>A)",
                    "N1773S (3RL:44,116,334 T>C)",
                    "F1638Y (3RL:44,116,923 A>T)",
                    "W1557R (3RL:44,117,167 A>T)",
                    "G1144C (3RL:44,122,391 C>A)",
                    "L976F (3RL:44,125,475 T>A)"
                  ],
                  "yaxis": "y",
                  "z": [
                    [
                      0,
                      0.046875,
                      0,
                      0,
                      0,
                      0.05555555555555555,
                      0.018518518518518517,
                      0,
                      0,
                      0,
                      0,
                      0.017857142857142856,
                      0,
                      0.045454545454545456
                    ],
                    [
                      0,
                      0,
                      0,
                      0,
                      0,
                      0,
                      0,
                      0.04838709677419355,
                      0,
                      0.05,
                      0.05555555555555555,
                      0.05357142857142857,
                      0,
                      0
                    ],
                    [
                      0.03571428571428571,
                      0,
                      0,
                      0.75,
                      0.6944444444444444,
                      0.6666666666666666,
                      0.48148148148148145,
                      0,
                      0,
                      0.1,
                      0.1111111111111111,
                      0.10714285714285714,
                      0,
                      0
                    ],
                    [
                      0,
                      0,
                      0,
                      0,
                      0,
                      0.05555555555555555,
                      0,
                      0,
                      0,
                      0,
                      0,
                      0,
                      0,
                      0
                    ],
                    [
                      0,
                      0,
                      0,
                      0.05,
                      0,
                      0,
                      0.037037037037037035,
                      0,
                      0,
                      0.15,
                      0,
                      0,
                      0,
                      0
                    ],
                    [
                      0,
                      0,
                      0,
                      0.1,
                      0.1388888888888889,
                      0,
                      0.037037037037037035,
                      0,
                      0,
                      0,
                      0,
                      0,
                      0,
                      0
                    ],
                    [
                      0,
                      0.015625,
                      0,
                      0,
                      0,
                      0.05555555555555555,
                      0,
                      0,
                      0,
                      0,
                      0,
                      0,
                      0,
                      0
                    ],
                    [
                      0.03571428571428571,
                      0,
                      0,
                      0.9,
                      0.8333333333333334,
                      0.6666666666666666,
                      0.5555555555555556,
                      0,
                      0,
                      0.25,
                      0.1111111111111111,
                      0.10714285714285714,
                      0,
                      0
                    ]
                  ]
                }
              ],
              "layout": {
                "coloraxis": {
                  "cmax": 1,
                  "cmin": 0,
                  "colorbar": {
                    "ticktext": [
                      "0%",
                      "20%",
                      "40%",
                      "60%",
                      "80%",
                      "100%"
                    ],
                    "tickvals": [
                      0,
                      0.2,
                      0.4,
                      0.6,
                      0.8,
                      1
                    ],
                    "title": {
                      "text": "Frequency"
                    }
                  },
                  "colorscale": [
                    [
                      0,
                      "rgb(255,245,240)"
                    ],
                    [
                      0.125,
                      "rgb(254,224,210)"
                    ],
                    [
                      0.25,
                      "rgb(252,187,161)"
                    ],
                    [
                      0.375,
                      "rgb(252,146,114)"
                    ],
                    [
                      0.5,
                      "rgb(251,106,74)"
                    ],
                    [
                      0.625,
                      "rgb(239,59,44)"
                    ],
                    [
                      0.75,
                      "rgb(203,24,29)"
                    ],
                    [
                      0.875,
                      "rgb(165,15,21)"
                    ],
                    [
                      1,
                      "rgb(103,0,13)"
                    ]
                  ]
                },
                "height": 400,
                "template": {
                  "data": {
                    "bar": [
                      {
                        "error_x": {
                          "color": "#2a3f5f"
                        },
                        "error_y": {
                          "color": "#2a3f5f"
                        },
                        "marker": {
                          "line": {
                            "color": "#E5ECF6",
                            "width": 0.5
                          },
                          "pattern": {
                            "fillmode": "overlay",
                            "size": 10,
                            "solidity": 0.2
                          }
                        },
                        "type": "bar"
                      }
                    ],
                    "barpolar": [
                      {
                        "marker": {
                          "line": {
                            "color": "#E5ECF6",
                            "width": 0.5
                          },
                          "pattern": {
                            "fillmode": "overlay",
                            "size": 10,
                            "solidity": 0.2
                          }
                        },
                        "type": "barpolar"
                      }
                    ],
                    "carpet": [
                      {
                        "aaxis": {
                          "endlinecolor": "#2a3f5f",
                          "gridcolor": "white",
                          "linecolor": "white",
                          "minorgridcolor": "white",
                          "startlinecolor": "#2a3f5f"
                        },
                        "baxis": {
                          "endlinecolor": "#2a3f5f",
                          "gridcolor": "white",
                          "linecolor": "white",
                          "minorgridcolor": "white",
                          "startlinecolor": "#2a3f5f"
                        },
                        "type": "carpet"
                      }
                    ],
                    "choropleth": [
                      {
                        "colorbar": {
                          "outlinewidth": 0,
                          "ticks": ""
                        },
                        "type": "choropleth"
                      }
                    ],
                    "contour": [
                      {
                        "colorbar": {
                          "outlinewidth": 0,
                          "ticks": ""
                        },
                        "colorscale": [
                          [
                            0,
                            "#0d0887"
                          ],
                          [
                            0.1111111111111111,
                            "#46039f"
                          ],
                          [
                            0.2222222222222222,
                            "#7201a8"
                          ],
                          [
                            0.3333333333333333,
                            "#9c179e"
                          ],
                          [
                            0.4444444444444444,
                            "#bd3786"
                          ],
                          [
                            0.5555555555555556,
                            "#d8576b"
                          ],
                          [
                            0.6666666666666666,
                            "#ed7953"
                          ],
                          [
                            0.7777777777777778,
                            "#fb9f3a"
                          ],
                          [
                            0.8888888888888888,
                            "#fdca26"
                          ],
                          [
                            1,
                            "#f0f921"
                          ]
                        ],
                        "type": "contour"
                      }
                    ],
                    "contourcarpet": [
                      {
                        "colorbar": {
                          "outlinewidth": 0,
                          "ticks": ""
                        },
                        "type": "contourcarpet"
                      }
                    ],
                    "heatmap": [
                      {
                        "colorbar": {
                          "outlinewidth": 0,
                          "ticks": ""
                        },
                        "colorscale": [
                          [
                            0,
                            "#0d0887"
                          ],
                          [
                            0.1111111111111111,
                            "#46039f"
                          ],
                          [
                            0.2222222222222222,
                            "#7201a8"
                          ],
                          [
                            0.3333333333333333,
                            "#9c179e"
                          ],
                          [
                            0.4444444444444444,
                            "#bd3786"
                          ],
                          [
                            0.5555555555555556,
                            "#d8576b"
                          ],
                          [
                            0.6666666666666666,
                            "#ed7953"
                          ],
                          [
                            0.7777777777777778,
                            "#fb9f3a"
                          ],
                          [
                            0.8888888888888888,
                            "#fdca26"
                          ],
                          [
                            1,
                            "#f0f921"
                          ]
                        ],
                        "type": "heatmap"
                      }
                    ],
                    "heatmapgl": [
                      {
                        "colorbar": {
                          "outlinewidth": 0,
                          "ticks": ""
                        },
                        "colorscale": [
                          [
                            0,
                            "#0d0887"
                          ],
                          [
                            0.1111111111111111,
                            "#46039f"
                          ],
                          [
                            0.2222222222222222,
                            "#7201a8"
                          ],
                          [
                            0.3333333333333333,
                            "#9c179e"
                          ],
                          [
                            0.4444444444444444,
                            "#bd3786"
                          ],
                          [
                            0.5555555555555556,
                            "#d8576b"
                          ],
                          [
                            0.6666666666666666,
                            "#ed7953"
                          ],
                          [
                            0.7777777777777778,
                            "#fb9f3a"
                          ],
                          [
                            0.8888888888888888,
                            "#fdca26"
                          ],
                          [
                            1,
                            "#f0f921"
                          ]
                        ],
                        "type": "heatmapgl"
                      }
                    ],
                    "histogram": [
                      {
                        "marker": {
                          "pattern": {
                            "fillmode": "overlay",
                            "size": 10,
                            "solidity": 0.2
                          }
                        },
                        "type": "histogram"
                      }
                    ],
                    "histogram2d": [
                      {
                        "colorbar": {
                          "outlinewidth": 0,
                          "ticks": ""
                        },
                        "colorscale": [
                          [
                            0,
                            "#0d0887"
                          ],
                          [
                            0.1111111111111111,
                            "#46039f"
                          ],
                          [
                            0.2222222222222222,
                            "#7201a8"
                          ],
                          [
                            0.3333333333333333,
                            "#9c179e"
                          ],
                          [
                            0.4444444444444444,
                            "#bd3786"
                          ],
                          [
                            0.5555555555555556,
                            "#d8576b"
                          ],
                          [
                            0.6666666666666666,
                            "#ed7953"
                          ],
                          [
                            0.7777777777777778,
                            "#fb9f3a"
                          ],
                          [
                            0.8888888888888888,
                            "#fdca26"
                          ],
                          [
                            1,
                            "#f0f921"
                          ]
                        ],
                        "type": "histogram2d"
                      }
                    ],
                    "histogram2dcontour": [
                      {
                        "colorbar": {
                          "outlinewidth": 0,
                          "ticks": ""
                        },
                        "colorscale": [
                          [
                            0,
                            "#0d0887"
                          ],
                          [
                            0.1111111111111111,
                            "#46039f"
                          ],
                          [
                            0.2222222222222222,
                            "#7201a8"
                          ],
                          [
                            0.3333333333333333,
                            "#9c179e"
                          ],
                          [
                            0.4444444444444444,
                            "#bd3786"
                          ],
                          [
                            0.5555555555555556,
                            "#d8576b"
                          ],
                          [
                            0.6666666666666666,
                            "#ed7953"
                          ],
                          [
                            0.7777777777777778,
                            "#fb9f3a"
                          ],
                          [
                            0.8888888888888888,
                            "#fdca26"
                          ],
                          [
                            1,
                            "#f0f921"
                          ]
                        ],
                        "type": "histogram2dcontour"
                      }
                    ],
                    "mesh3d": [
                      {
                        "colorbar": {
                          "outlinewidth": 0,
                          "ticks": ""
                        },
                        "type": "mesh3d"
                      }
                    ],
                    "parcoords": [
                      {
                        "line": {
                          "colorbar": {
                            "outlinewidth": 0,
                            "ticks": ""
                          }
                        },
                        "type": "parcoords"
                      }
                    ],
                    "pie": [
                      {
                        "automargin": true,
                        "type": "pie"
                      }
                    ],
                    "scatter": [
                      {
                        "fillpattern": {
                          "fillmode": "overlay",
                          "size": 10,
                          "solidity": 0.2
                        },
                        "type": "scatter"
                      }
                    ],
                    "scatter3d": [
                      {
                        "line": {
                          "colorbar": {
                            "outlinewidth": 0,
                            "ticks": ""
                          }
                        },
                        "marker": {
                          "colorbar": {
                            "outlinewidth": 0,
                            "ticks": ""
                          }
                        },
                        "type": "scatter3d"
                      }
                    ],
                    "scattercarpet": [
                      {
                        "marker": {
                          "colorbar": {
                            "outlinewidth": 0,
                            "ticks": ""
                          }
                        },
                        "type": "scattercarpet"
                      }
                    ],
                    "scattergeo": [
                      {
                        "marker": {
                          "colorbar": {
                            "outlinewidth": 0,
                            "ticks": ""
                          }
                        },
                        "type": "scattergeo"
                      }
                    ],
                    "scattergl": [
                      {
                        "marker": {
                          "colorbar": {
                            "outlinewidth": 0,
                            "ticks": ""
                          }
                        },
                        "type": "scattergl"
                      }
                    ],
                    "scattermapbox": [
                      {
                        "marker": {
                          "colorbar": {
                            "outlinewidth": 0,
                            "ticks": ""
                          }
                        },
                        "type": "scattermapbox"
                      }
                    ],
                    "scatterpolar": [
                      {
                        "marker": {
                          "colorbar": {
                            "outlinewidth": 0,
                            "ticks": ""
                          }
                        },
                        "type": "scatterpolar"
                      }
                    ],
                    "scatterpolargl": [
                      {
                        "marker": {
                          "colorbar": {
                            "outlinewidth": 0,
                            "ticks": ""
                          }
                        },
                        "type": "scatterpolargl"
                      }
                    ],
                    "scatterternary": [
                      {
                        "marker": {
                          "colorbar": {
                            "outlinewidth": 0,
                            "ticks": ""
                          }
                        },
                        "type": "scatterternary"
                      }
                    ],
                    "surface": [
                      {
                        "colorbar": {
                          "outlinewidth": 0,
                          "ticks": ""
                        },
                        "colorscale": [
                          [
                            0,
                            "#0d0887"
                          ],
                          [
                            0.1111111111111111,
                            "#46039f"
                          ],
                          [
                            0.2222222222222222,
                            "#7201a8"
                          ],
                          [
                            0.3333333333333333,
                            "#9c179e"
                          ],
                          [
                            0.4444444444444444,
                            "#bd3786"
                          ],
                          [
                            0.5555555555555556,
                            "#d8576b"
                          ],
                          [
                            0.6666666666666666,
                            "#ed7953"
                          ],
                          [
                            0.7777777777777778,
                            "#fb9f3a"
                          ],
                          [
                            0.8888888888888888,
                            "#fdca26"
                          ],
                          [
                            1,
                            "#f0f921"
                          ]
                        ],
                        "type": "surface"
                      }
                    ],
                    "table": [
                      {
                        "cells": {
                          "fill": {
                            "color": "#EBF0F8"
                          },
                          "line": {
                            "color": "white"
                          }
                        },
                        "header": {
                          "fill": {
                            "color": "#C8D4E3"
                          },
                          "line": {
                            "color": "white"
                          }
                        },
                        "type": "table"
                      }
                    ]
                  },
                  "layout": {
                    "annotationdefaults": {
                      "arrowcolor": "#2a3f5f",
                      "arrowhead": 0,
                      "arrowwidth": 1
                    },
                    "autotypenumbers": "strict",
                    "coloraxis": {
                      "colorbar": {
                        "outlinewidth": 0,
                        "ticks": ""
                      }
                    },
                    "colorscale": {
                      "diverging": [
                        [
                          0,
                          "#8e0152"
                        ],
                        [
                          0.1,
                          "#c51b7d"
                        ],
                        [
                          0.2,
                          "#de77ae"
                        ],
                        [
                          0.3,
                          "#f1b6da"
                        ],
                        [
                          0.4,
                          "#fde0ef"
                        ],
                        [
                          0.5,
                          "#f7f7f7"
                        ],
                        [
                          0.6,
                          "#e6f5d0"
                        ],
                        [
                          0.7,
                          "#b8e186"
                        ],
                        [
                          0.8,
                          "#7fbc41"
                        ],
                        [
                          0.9,
                          "#4d9221"
                        ],
                        [
                          1,
                          "#276419"
                        ]
                      ],
                      "sequential": [
                        [
                          0,
                          "#0d0887"
                        ],
                        [
                          0.1111111111111111,
                          "#46039f"
                        ],
                        [
                          0.2222222222222222,
                          "#7201a8"
                        ],
                        [
                          0.3333333333333333,
                          "#9c179e"
                        ],
                        [
                          0.4444444444444444,
                          "#bd3786"
                        ],
                        [
                          0.5555555555555556,
                          "#d8576b"
                        ],
                        [
                          0.6666666666666666,
                          "#ed7953"
                        ],
                        [
                          0.7777777777777778,
                          "#fb9f3a"
                        ],
                        [
                          0.8888888888888888,
                          "#fdca26"
                        ],
                        [
                          1,
                          "#f0f921"
                        ]
                      ],
                      "sequentialminus": [
                        [
                          0,
                          "#0d0887"
                        ],
                        [
                          0.1111111111111111,
                          "#46039f"
                        ],
                        [
                          0.2222222222222222,
                          "#7201a8"
                        ],
                        [
                          0.3333333333333333,
                          "#9c179e"
                        ],
                        [
                          0.4444444444444444,
                          "#bd3786"
                        ],
                        [
                          0.5555555555555556,
                          "#d8576b"
                        ],
                        [
                          0.6666666666666666,
                          "#ed7953"
                        ],
                        [
                          0.7777777777777778,
                          "#fb9f3a"
                        ],
                        [
                          0.8888888888888888,
                          "#fdca26"
                        ],
                        [
                          1,
                          "#f0f921"
                        ]
                      ]
                    },
                    "colorway": [
                      "#636efa",
                      "#EF553B",
                      "#00cc96",
                      "#ab63fa",
                      "#FFA15A",
                      "#19d3f3",
                      "#FF6692",
                      "#B6E880",
                      "#FF97FF",
                      "#FECB52"
                    ],
                    "font": {
                      "color": "#2a3f5f"
                    },
                    "geo": {
                      "bgcolor": "white",
                      "lakecolor": "white",
                      "landcolor": "#E5ECF6",
                      "showlakes": true,
                      "showland": true,
                      "subunitcolor": "white"
                    },
                    "hoverlabel": {
                      "align": "left"
                    },
                    "hovermode": "closest",
                    "mapbox": {
                      "style": "light"
                    },
                    "paper_bgcolor": "white",
                    "plot_bgcolor": "#E5ECF6",
                    "polar": {
                      "angularaxis": {
                        "gridcolor": "white",
                        "linecolor": "white",
                        "ticks": ""
                      },
                      "bgcolor": "#E5ECF6",
                      "radialaxis": {
                        "gridcolor": "white",
                        "linecolor": "white",
                        "ticks": ""
                      }
                    },
                    "scene": {
                      "xaxis": {
                        "backgroundcolor": "#E5ECF6",
                        "gridcolor": "white",
                        "gridwidth": 2,
                        "linecolor": "white",
                        "showbackground": true,
                        "ticks": "",
                        "zerolinecolor": "white"
                      },
                      "yaxis": {
                        "backgroundcolor": "#E5ECF6",
                        "gridcolor": "white",
                        "gridwidth": 2,
                        "linecolor": "white",
                        "showbackground": true,
                        "ticks": "",
                        "zerolinecolor": "white"
                      },
                      "zaxis": {
                        "backgroundcolor": "#E5ECF6",
                        "gridcolor": "white",
                        "gridwidth": 2,
                        "linecolor": "white",
                        "showbackground": true,
                        "ticks": "",
                        "zerolinecolor": "white"
                      }
                    },
                    "shapedefaults": {
                      "line": {
                        "color": "#2a3f5f"
                      }
                    },
                    "ternary": {
                      "aaxis": {
                        "gridcolor": "white",
                        "linecolor": "white",
                        "ticks": ""
                      },
                      "baxis": {
                        "gridcolor": "white",
                        "linecolor": "white",
                        "ticks": ""
                      },
                      "bgcolor": "#E5ECF6",
                      "caxis": {
                        "gridcolor": "white",
                        "linecolor": "white",
                        "ticks": ""
                      }
                    },
                    "title": {
                      "x": 0.05
                    },
                    "xaxis": {
                      "automargin": true,
                      "gridcolor": "white",
                      "linecolor": "white",
                      "ticks": "",
                      "title": {
                        "standoff": 15
                      },
                      "zerolinecolor": "white",
                      "zerolinewidth": 2
                    },
                    "yaxis": {
                      "automargin": true,
                      "gridcolor": "white",
                      "linecolor": "white",
                      "ticks": "",
                      "title": {
                        "standoff": 15
                      },
                      "zerolinecolor": "white",
                      "zerolinewidth": 2
                    }
                  }
                },
                "title": {
                  "text": "Knockdown resistance (kdr) in Tanzania"
                },
                "width": 1000,
                "xaxis": {
                  "anchor": "y",
                  "domain": [
                    0,
                    1
                  ],
                  "side": "bottom",
                  "tickangle": 30,
                  "title": {
                    "text": "Cohorts"
                  }
                },
                "yaxis": {
                  "anchor": "x",
                  "autorange": "reversed",
                  "domain": [
                    0,
                    1
                  ],
                  "title": {
                    "text": "Variants"
                  }
                }
              }
            }
          },
          "metadata": {},
          "output_type": "display_data"
        }
      ],
      "source": [
        "af1.plot_frequencies_heatmap(df_snps_filtered_vgsc, title= \"Knockdown resistance (kdr) in Tanzania\")"
      ]
    }
  ],
  "metadata": {
    "colab": {
      "provenance": []
    },
    "kernelspec": {
      "display_name": "Python 3",
      "name": "python3"
    },
    "language_info": {
      "codemirror_mode": {
        "name": "ipython",
        "version": 3
      },
      "file_extension": ".py",
      "mimetype": "text/x-python",
      "name": "python",
      "nbconvert_exporter": "python",
      "pygments_lexer": "ipython3",
      "version": "3.10.10"
    },
    "widgets": {
      "application/vnd.jupyter.widget-state+json": {
        "026e2d71cda741ff80bdf162ec94ef8f": {
          "model_module": "@jupyter-widgets/controls",
          "model_module_version": "1.5.0",
          "model_name": "ProgressStyleModel",
          "state": {
            "_model_module": "@jupyter-widgets/controls",
            "_model_module_version": "1.5.0",
            "_model_name": "ProgressStyleModel",
            "_view_count": null,
            "_view_module": "@jupyter-widgets/base",
            "_view_module_version": "1.2.0",
            "_view_name": "StyleView",
            "bar_color": null,
            "description_width": ""
          }
        },
        "032b912c5f0849b887a0bf67d17f7224": {
          "model_module": "@jupyter-widgets/controls",
          "model_module_version": "1.5.0",
          "model_name": "DescriptionStyleModel",
          "state": {
            "_model_module": "@jupyter-widgets/controls",
            "_model_module_version": "1.5.0",
            "_model_name": "DescriptionStyleModel",
            "_view_count": null,
            "_view_module": "@jupyter-widgets/base",
            "_view_module_version": "1.2.0",
            "_view_name": "StyleView",
            "description_width": ""
          }
        },
        "03feedc83a3449c48d362407312ff94e": {
          "model_module": "@jupyter-widgets/controls",
          "model_module_version": "1.5.0",
          "model_name": "HTMLModel",
          "state": {
            "_dom_classes": [],
            "_model_module": "@jupyter-widgets/controls",
            "_model_module_version": "1.5.0",
            "_model_name": "HTMLModel",
            "_view_count": null,
            "_view_module": "@jupyter-widgets/controls",
            "_view_module_version": "1.5.0",
            "_view_name": "HTMLView",
            "description": "",
            "description_tooltip": null,
            "layout": "IPY_MODEL_7da56ba6d0e544a9818563115c91d3d6",
            "placeholder": "​",
            "style": "IPY_MODEL_078540e07fbb44368ad26b5391dcb343",
            "value": " 18/18 [00:00&lt;00:00, 37.13it/s]"
          }
        },
        "078540e07fbb44368ad26b5391dcb343": {
          "model_module": "@jupyter-widgets/controls",
          "model_module_version": "1.5.0",
          "model_name": "DescriptionStyleModel",
          "state": {
            "_model_module": "@jupyter-widgets/controls",
            "_model_module_version": "1.5.0",
            "_model_name": "DescriptionStyleModel",
            "_view_count": null,
            "_view_module": "@jupyter-widgets/base",
            "_view_module_version": "1.2.0",
            "_view_name": "StyleView",
            "description_width": ""
          }
        },
        "0a11b6ddffa841c9973d3c22ae715859": {
          "model_module": "@jupyter-widgets/controls",
          "model_module_version": "1.5.0",
          "model_name": "FloatProgressModel",
          "state": {
            "_dom_classes": [],
            "_model_module": "@jupyter-widgets/controls",
            "_model_module_version": "1.5.0",
            "_model_name": "FloatProgressModel",
            "_view_count": null,
            "_view_module": "@jupyter-widgets/controls",
            "_view_module_version": "1.5.0",
            "_view_name": "ProgressView",
            "bar_style": "success",
            "description": "",
            "description_tooltip": null,
            "layout": "IPY_MODEL_60e774540f91400eada0b190523e0d9c",
            "max": 13,
            "min": 0,
            "orientation": "horizontal",
            "style": "IPY_MODEL_fa3e89747ca741b3abd880ca98140389",
            "value": 13
          }
        },
        "0ba4c22ae32d499d90fd77eb2df71de6": {
          "model_module": "@jupyter-widgets/base",
          "model_module_version": "1.2.0",
          "model_name": "LayoutModel",
          "state": {
            "_model_module": "@jupyter-widgets/base",
            "_model_module_version": "1.2.0",
            "_model_name": "LayoutModel",
            "_view_count": null,
            "_view_module": "@jupyter-widgets/base",
            "_view_module_version": "1.2.0",
            "_view_name": "LayoutView",
            "align_content": null,
            "align_items": null,
            "align_self": null,
            "border": null,
            "bottom": null,
            "display": null,
            "flex": null,
            "flex_flow": null,
            "grid_area": null,
            "grid_auto_columns": null,
            "grid_auto_flow": null,
            "grid_auto_rows": null,
            "grid_column": null,
            "grid_gap": null,
            "grid_row": null,
            "grid_template_areas": null,
            "grid_template_columns": null,
            "grid_template_rows": null,
            "height": null,
            "justify_content": null,
            "justify_items": null,
            "left": null,
            "margin": null,
            "max_height": null,
            "max_width": null,
            "min_height": null,
            "min_width": null,
            "object_fit": null,
            "object_position": null,
            "order": null,
            "overflow": null,
            "overflow_x": null,
            "overflow_y": null,
            "padding": null,
            "right": null,
            "top": null,
            "visibility": null,
            "width": null
          }
        },
        "0f4d8646e6fb4b5d9095b8bdb9849485": {
          "model_module": "@jupyter-widgets/controls",
          "model_module_version": "1.5.0",
          "model_name": "DescriptionStyleModel",
          "state": {
            "_model_module": "@jupyter-widgets/controls",
            "_model_module_version": "1.5.0",
            "_model_name": "DescriptionStyleModel",
            "_view_count": null,
            "_view_module": "@jupyter-widgets/base",
            "_view_module_version": "1.2.0",
            "_view_name": "StyleView",
            "description_width": ""
          }
        },
        "177c398c48b04fd0a5cb91ab0c34134c": {
          "model_module": "@jupyter-widgets/base",
          "model_module_version": "1.2.0",
          "model_name": "LayoutModel",
          "state": {
            "_model_module": "@jupyter-widgets/base",
            "_model_module_version": "1.2.0",
            "_model_name": "LayoutModel",
            "_view_count": null,
            "_view_module": "@jupyter-widgets/base",
            "_view_module_version": "1.2.0",
            "_view_name": "LayoutView",
            "align_content": null,
            "align_items": null,
            "align_self": null,
            "border": null,
            "bottom": null,
            "display": null,
            "flex": null,
            "flex_flow": null,
            "grid_area": null,
            "grid_auto_columns": null,
            "grid_auto_flow": null,
            "grid_auto_rows": null,
            "grid_column": null,
            "grid_gap": null,
            "grid_row": null,
            "grid_template_areas": null,
            "grid_template_columns": null,
            "grid_template_rows": null,
            "height": null,
            "justify_content": null,
            "justify_items": null,
            "left": null,
            "margin": null,
            "max_height": null,
            "max_width": null,
            "min_height": null,
            "min_width": null,
            "object_fit": null,
            "object_position": null,
            "order": null,
            "overflow": null,
            "overflow_x": null,
            "overflow_y": null,
            "padding": null,
            "right": null,
            "top": null,
            "visibility": null,
            "width": null
          }
        },
        "1b836d9790fd4b4d9cdcb29e456d632d": {
          "model_module": "@jupyter-widgets/base",
          "model_module_version": "1.2.0",
          "model_name": "LayoutModel",
          "state": {
            "_model_module": "@jupyter-widgets/base",
            "_model_module_version": "1.2.0",
            "_model_name": "LayoutModel",
            "_view_count": null,
            "_view_module": "@jupyter-widgets/base",
            "_view_module_version": "1.2.0",
            "_view_name": "LayoutView",
            "align_content": null,
            "align_items": null,
            "align_self": null,
            "border": null,
            "bottom": null,
            "display": null,
            "flex": null,
            "flex_flow": null,
            "grid_area": null,
            "grid_auto_columns": null,
            "grid_auto_flow": null,
            "grid_auto_rows": null,
            "grid_column": null,
            "grid_gap": null,
            "grid_row": null,
            "grid_template_areas": null,
            "grid_template_columns": null,
            "grid_template_rows": null,
            "height": null,
            "justify_content": null,
            "justify_items": null,
            "left": null,
            "margin": null,
            "max_height": null,
            "max_width": null,
            "min_height": null,
            "min_width": null,
            "object_fit": null,
            "object_position": null,
            "order": null,
            "overflow": null,
            "overflow_x": null,
            "overflow_y": null,
            "padding": null,
            "right": null,
            "top": null,
            "visibility": null,
            "width": null
          }
        },
        "1ebade60f5a047a7b3c32263b9fe2062": {
          "model_module": "@jupyter-widgets/base",
          "model_module_version": "1.2.0",
          "model_name": "LayoutModel",
          "state": {
            "_model_module": "@jupyter-widgets/base",
            "_model_module_version": "1.2.0",
            "_model_name": "LayoutModel",
            "_view_count": null,
            "_view_module": "@jupyter-widgets/base",
            "_view_module_version": "1.2.0",
            "_view_name": "LayoutView",
            "align_content": null,
            "align_items": null,
            "align_self": null,
            "border": null,
            "bottom": null,
            "display": null,
            "flex": null,
            "flex_flow": null,
            "grid_area": null,
            "grid_auto_columns": null,
            "grid_auto_flow": null,
            "grid_auto_rows": null,
            "grid_column": null,
            "grid_gap": null,
            "grid_row": null,
            "grid_template_areas": null,
            "grid_template_columns": null,
            "grid_template_rows": null,
            "height": null,
            "justify_content": null,
            "justify_items": null,
            "left": null,
            "margin": null,
            "max_height": null,
            "max_width": null,
            "min_height": null,
            "min_width": null,
            "object_fit": null,
            "object_position": null,
            "order": null,
            "overflow": null,
            "overflow_x": null,
            "overflow_y": null,
            "padding": null,
            "right": null,
            "top": null,
            "visibility": null,
            "width": null
          }
        },
        "1fa74b8380164b68bfcee3f17e918c67": {
          "model_module": "@jupyter-widgets/controls",
          "model_module_version": "1.5.0",
          "model_name": "FloatProgressModel",
          "state": {
            "_dom_classes": [],
            "_model_module": "@jupyter-widgets/controls",
            "_model_module_version": "1.5.0",
            "_model_name": "FloatProgressModel",
            "_view_count": null,
            "_view_module": "@jupyter-widgets/controls",
            "_view_module_version": "1.5.0",
            "_view_name": "ProgressView",
            "bar_style": "success",
            "description": "",
            "description_tooltip": null,
            "layout": "IPY_MODEL_a36a61a5fe0e4817aa7e5b78585a3451",
            "max": 18,
            "min": 0,
            "orientation": "horizontal",
            "style": "IPY_MODEL_9e565c0497e742deb57ae2d0f54a532f",
            "value": 18
          }
        },
        "21a591a393f54d2ab16c9f57b46d9d01": {
          "model_module": "@jupyter-widgets/controls",
          "model_module_version": "1.5.0",
          "model_name": "HBoxModel",
          "state": {
            "_dom_classes": [],
            "_model_module": "@jupyter-widgets/controls",
            "_model_module_version": "1.5.0",
            "_model_name": "HBoxModel",
            "_view_count": null,
            "_view_module": "@jupyter-widgets/controls",
            "_view_module_version": "1.5.0",
            "_view_name": "HBoxView",
            "box_style": "",
            "children": [
              "IPY_MODEL_f2aea68221514f2daaa25b51d1b3a40f",
              "IPY_MODEL_1fa74b8380164b68bfcee3f17e918c67",
              "IPY_MODEL_03feedc83a3449c48d362407312ff94e"
            ],
            "layout": "IPY_MODEL_b6b4a1e25c4849bfbca849bc2c1ea1a7"
          }
        },
        "27a57a063c684fb5be531746e27f3e69": {
          "model_module": "@jupyter-widgets/controls",
          "model_module_version": "1.5.0",
          "model_name": "HTMLModel",
          "state": {
            "_dom_classes": [],
            "_model_module": "@jupyter-widgets/controls",
            "_model_module_version": "1.5.0",
            "_model_name": "HTMLModel",
            "_view_count": null,
            "_view_module": "@jupyter-widgets/controls",
            "_view_module_version": "1.5.0",
            "_view_name": "HTMLView",
            "description": "",
            "description_tooltip": null,
            "layout": "IPY_MODEL_0ba4c22ae32d499d90fd77eb2df71de6",
            "placeholder": "​",
            "style": "IPY_MODEL_0f4d8646e6fb4b5d9095b8bdb9849485",
            "value": "Load SNP genotypes: 100%"
          }
        },
        "2e2213d0c4a1485ea72e533cf6c4fc02": {
          "model_module": "@jupyter-widgets/controls",
          "model_module_version": "1.5.0",
          "model_name": "HTMLModel",
          "state": {
            "_dom_classes": [],
            "_model_module": "@jupyter-widgets/controls",
            "_model_module_version": "1.5.0",
            "_model_name": "HTMLModel",
            "_view_count": null,
            "_view_module": "@jupyter-widgets/controls",
            "_view_module_version": "1.5.0",
            "_view_name": "HTMLView",
            "description": "",
            "description_tooltip": null,
            "layout": "IPY_MODEL_60f13d71694740b38d82249a12219d94",
            "placeholder": "​",
            "style": "IPY_MODEL_c4a3c08a299f4d4f94cc007c7d3853fe",
            "value": " 18/18 [00:00&lt;00:00, 36.61it/s]"
          }
        },
        "312641f768494244a822fc9ea6d0a1c1": {
          "model_module": "@jupyter-widgets/controls",
          "model_module_version": "1.5.0",
          "model_name": "ProgressStyleModel",
          "state": {
            "_model_module": "@jupyter-widgets/controls",
            "_model_module_version": "1.5.0",
            "_model_name": "ProgressStyleModel",
            "_view_count": null,
            "_view_module": "@jupyter-widgets/base",
            "_view_module_version": "1.2.0",
            "_view_name": "StyleView",
            "bar_color": null,
            "description_width": ""
          }
        },
        "332ec6b6d56b4576a5e5d4c218b227d8": {
          "model_module": "@jupyter-widgets/controls",
          "model_module_version": "1.5.0",
          "model_name": "DescriptionStyleModel",
          "state": {
            "_model_module": "@jupyter-widgets/controls",
            "_model_module_version": "1.5.0",
            "_model_name": "DescriptionStyleModel",
            "_view_count": null,
            "_view_module": "@jupyter-widgets/base",
            "_view_module_version": "1.2.0",
            "_view_name": "StyleView",
            "description_width": ""
          }
        },
        "34b9a74ace9447ec83247f9fec5137c8": {
          "model_module": "@jupyter-widgets/controls",
          "model_module_version": "1.5.0",
          "model_name": "HTMLModel",
          "state": {
            "_dom_classes": [],
            "_model_module": "@jupyter-widgets/controls",
            "_model_module_version": "1.5.0",
            "_model_name": "HTMLModel",
            "_view_count": null,
            "_view_module": "@jupyter-widgets/controls",
            "_view_module_version": "1.5.0",
            "_view_name": "HTMLView",
            "description": "",
            "description_tooltip": null,
            "layout": "IPY_MODEL_4f35fd9debcb4ac1b93317d1bfd1fe0c",
            "placeholder": "​",
            "style": "IPY_MODEL_96db0ab41f584ee6aa9d2accd42579fa",
            "value": "Compute SNP effects: 100%"
          }
        },
        "350a07afdc964a77a35b9dcc3ac0119c": {
          "model_module": "@jupyter-widgets/controls",
          "model_module_version": "1.5.0",
          "model_name": "FloatProgressModel",
          "state": {
            "_dom_classes": [],
            "_model_module": "@jupyter-widgets/controls",
            "_model_module_version": "1.5.0",
            "_model_name": "FloatProgressModel",
            "_view_count": null,
            "_view_module": "@jupyter-widgets/controls",
            "_view_module_version": "1.5.0",
            "_view_name": "ProgressView",
            "bar_style": "success",
            "description": "",
            "description_tooltip": null,
            "layout": "IPY_MODEL_d6ebb05e28a747c4ad0776151be4cdcd",
            "max": 18,
            "min": 0,
            "orientation": "horizontal",
            "style": "IPY_MODEL_312641f768494244a822fc9ea6d0a1c1",
            "value": 18
          }
        },
        "37911f4734574e1192fbada37f5b9e33": {
          "model_module": "@jupyter-widgets/controls",
          "model_module_version": "1.5.0",
          "model_name": "HBoxModel",
          "state": {
            "_dom_classes": [],
            "_model_module": "@jupyter-widgets/controls",
            "_model_module_version": "1.5.0",
            "_model_name": "HBoxModel",
            "_view_count": null,
            "_view_module": "@jupyter-widgets/controls",
            "_view_module_version": "1.5.0",
            "_view_name": "HBoxView",
            "box_style": "",
            "children": [
              "IPY_MODEL_f325284e4dc447ae9b4a132a1284ab0f",
              "IPY_MODEL_b257325f8c7b4d3e8d2f36040dc54cff",
              "IPY_MODEL_4d53cdeeb64f4c0dbedc499289eed198"
            ],
            "layout": "IPY_MODEL_8d310b08d5b74d018dc2bcba1b1ceb71"
          }
        },
        "3c152bd789cb4c20b654852e6fd995ea": {
          "model_module": "@jupyter-widgets/controls",
          "model_module_version": "1.5.0",
          "model_name": "HBoxModel",
          "state": {
            "_dom_classes": [],
            "_model_module": "@jupyter-widgets/controls",
            "_model_module_version": "1.5.0",
            "_model_name": "HBoxModel",
            "_view_count": null,
            "_view_module": "@jupyter-widgets/controls",
            "_view_module_version": "1.5.0",
            "_view_name": "HBoxView",
            "box_style": "",
            "children": [
              "IPY_MODEL_34b9a74ace9447ec83247f9fec5137c8",
              "IPY_MODEL_5de816b329df4d93a08364d77d5f1790",
              "IPY_MODEL_51deddb21a364668829998b266c21bbf"
            ],
            "layout": "IPY_MODEL_7644bb14fef64cf8ba3fd903bb9f3d02"
          }
        },
        "4839843b408040ea96d50c194a8d1f3c": {
          "model_module": "@jupyter-widgets/base",
          "model_module_version": "1.2.0",
          "model_name": "LayoutModel",
          "state": {
            "_model_module": "@jupyter-widgets/base",
            "_model_module_version": "1.2.0",
            "_model_name": "LayoutModel",
            "_view_count": null,
            "_view_module": "@jupyter-widgets/base",
            "_view_module_version": "1.2.0",
            "_view_name": "LayoutView",
            "align_content": null,
            "align_items": null,
            "align_self": null,
            "border": null,
            "bottom": null,
            "display": null,
            "flex": null,
            "flex_flow": null,
            "grid_area": null,
            "grid_auto_columns": null,
            "grid_auto_flow": null,
            "grid_auto_rows": null,
            "grid_column": null,
            "grid_gap": null,
            "grid_row": null,
            "grid_template_areas": null,
            "grid_template_columns": null,
            "grid_template_rows": null,
            "height": null,
            "justify_content": null,
            "justify_items": null,
            "left": null,
            "margin": null,
            "max_height": null,
            "max_width": null,
            "min_height": null,
            "min_width": null,
            "object_fit": null,
            "object_position": null,
            "order": null,
            "overflow": null,
            "overflow_x": null,
            "overflow_y": null,
            "padding": null,
            "right": null,
            "top": null,
            "visibility": null,
            "width": null
          }
        },
        "4c7edde96f42485492ad8739ee871071": {
          "model_module": "@jupyter-widgets/controls",
          "model_module_version": "1.5.0",
          "model_name": "DescriptionStyleModel",
          "state": {
            "_model_module": "@jupyter-widgets/controls",
            "_model_module_version": "1.5.0",
            "_model_name": "DescriptionStyleModel",
            "_view_count": null,
            "_view_module": "@jupyter-widgets/base",
            "_view_module_version": "1.2.0",
            "_view_name": "StyleView",
            "description_width": ""
          }
        },
        "4d53cdeeb64f4c0dbedc499289eed198": {
          "model_module": "@jupyter-widgets/controls",
          "model_module_version": "1.5.0",
          "model_name": "HTMLModel",
          "state": {
            "_dom_classes": [],
            "_model_module": "@jupyter-widgets/controls",
            "_model_module_version": "1.5.0",
            "_model_name": "HTMLModel",
            "_view_count": null,
            "_view_module": "@jupyter-widgets/controls",
            "_view_module_version": "1.5.0",
            "_view_name": "HTMLView",
            "description": "",
            "description_tooltip": null,
            "layout": "IPY_MODEL_d3d10cddb5fa49d89fb27a05427429b7",
            "placeholder": "​",
            "style": "IPY_MODEL_332ec6b6d56b4576a5e5d4c218b227d8",
            "value": " 13/13 [00:00&lt;00:00, 55.19it/s]"
          }
        },
        "4f35fd9debcb4ac1b93317d1bfd1fe0c": {
          "model_module": "@jupyter-widgets/base",
          "model_module_version": "1.2.0",
          "model_name": "LayoutModel",
          "state": {
            "_model_module": "@jupyter-widgets/base",
            "_model_module_version": "1.2.0",
            "_model_name": "LayoutModel",
            "_view_count": null,
            "_view_module": "@jupyter-widgets/base",
            "_view_module_version": "1.2.0",
            "_view_name": "LayoutView",
            "align_content": null,
            "align_items": null,
            "align_self": null,
            "border": null,
            "bottom": null,
            "display": null,
            "flex": null,
            "flex_flow": null,
            "grid_area": null,
            "grid_auto_columns": null,
            "grid_auto_flow": null,
            "grid_auto_rows": null,
            "grid_column": null,
            "grid_gap": null,
            "grid_row": null,
            "grid_template_areas": null,
            "grid_template_columns": null,
            "grid_template_rows": null,
            "height": null,
            "justify_content": null,
            "justify_items": null,
            "left": null,
            "margin": null,
            "max_height": null,
            "max_width": null,
            "min_height": null,
            "min_width": null,
            "object_fit": null,
            "object_position": null,
            "order": null,
            "overflow": null,
            "overflow_x": null,
            "overflow_y": null,
            "padding": null,
            "right": null,
            "top": null,
            "visibility": null,
            "width": null
          }
        },
        "51deddb21a364668829998b266c21bbf": {
          "model_module": "@jupyter-widgets/controls",
          "model_module_version": "1.5.0",
          "model_name": "HTMLModel",
          "state": {
            "_dom_classes": [],
            "_model_module": "@jupyter-widgets/controls",
            "_model_module_version": "1.5.0",
            "_model_name": "HTMLModel",
            "_view_count": null,
            "_view_module": "@jupyter-widgets/controls",
            "_view_module_version": "1.5.0",
            "_view_name": "HTMLView",
            "description": "",
            "description_tooltip": null,
            "layout": "IPY_MODEL_ded7d8d20394493a8eae3e832e2bf8e6",
            "placeholder": "​",
            "style": "IPY_MODEL_85f781b088a84f088ae0a52ed1aad27c",
            "value": " 6107/6107 [00:00&lt;00:00, 37413.97it/s]"
          }
        },
        "54da831916284f2a8cf91a3779363eff": {
          "model_module": "@jupyter-widgets/controls",
          "model_module_version": "1.5.0",
          "model_name": "DescriptionStyleModel",
          "state": {
            "_model_module": "@jupyter-widgets/controls",
            "_model_module_version": "1.5.0",
            "_model_name": "DescriptionStyleModel",
            "_view_count": null,
            "_view_module": "@jupyter-widgets/base",
            "_view_module_version": "1.2.0",
            "_view_name": "StyleView",
            "description_width": ""
          }
        },
        "5de816b329df4d93a08364d77d5f1790": {
          "model_module": "@jupyter-widgets/controls",
          "model_module_version": "1.5.0",
          "model_name": "FloatProgressModel",
          "state": {
            "_dom_classes": [],
            "_model_module": "@jupyter-widgets/controls",
            "_model_module_version": "1.5.0",
            "_model_name": "FloatProgressModel",
            "_view_count": null,
            "_view_module": "@jupyter-widgets/controls",
            "_view_module_version": "1.5.0",
            "_view_name": "ProgressView",
            "bar_style": "success",
            "description": "",
            "description_tooltip": null,
            "layout": "IPY_MODEL_4839843b408040ea96d50c194a8d1f3c",
            "max": 6107,
            "min": 0,
            "orientation": "horizontal",
            "style": "IPY_MODEL_68a842d34eaa4bc4b2be9a61b3601bb3",
            "value": 6107
          }
        },
        "60e774540f91400eada0b190523e0d9c": {
          "model_module": "@jupyter-widgets/base",
          "model_module_version": "1.2.0",
          "model_name": "LayoutModel",
          "state": {
            "_model_module": "@jupyter-widgets/base",
            "_model_module_version": "1.2.0",
            "_model_name": "LayoutModel",
            "_view_count": null,
            "_view_module": "@jupyter-widgets/base",
            "_view_module_version": "1.2.0",
            "_view_name": "LayoutView",
            "align_content": null,
            "align_items": null,
            "align_self": null,
            "border": null,
            "bottom": null,
            "display": null,
            "flex": null,
            "flex_flow": null,
            "grid_area": null,
            "grid_auto_columns": null,
            "grid_auto_flow": null,
            "grid_auto_rows": null,
            "grid_column": null,
            "grid_gap": null,
            "grid_row": null,
            "grid_template_areas": null,
            "grid_template_columns": null,
            "grid_template_rows": null,
            "height": null,
            "justify_content": null,
            "justify_items": null,
            "left": null,
            "margin": null,
            "max_height": null,
            "max_width": null,
            "min_height": null,
            "min_width": null,
            "object_fit": null,
            "object_position": null,
            "order": null,
            "overflow": null,
            "overflow_x": null,
            "overflow_y": null,
            "padding": null,
            "right": null,
            "top": null,
            "visibility": null,
            "width": null
          }
        },
        "60f13d71694740b38d82249a12219d94": {
          "model_module": "@jupyter-widgets/base",
          "model_module_version": "1.2.0",
          "model_name": "LayoutModel",
          "state": {
            "_model_module": "@jupyter-widgets/base",
            "_model_module_version": "1.2.0",
            "_model_name": "LayoutModel",
            "_view_count": null,
            "_view_module": "@jupyter-widgets/base",
            "_view_module_version": "1.2.0",
            "_view_name": "LayoutView",
            "align_content": null,
            "align_items": null,
            "align_self": null,
            "border": null,
            "bottom": null,
            "display": null,
            "flex": null,
            "flex_flow": null,
            "grid_area": null,
            "grid_auto_columns": null,
            "grid_auto_flow": null,
            "grid_auto_rows": null,
            "grid_column": null,
            "grid_gap": null,
            "grid_row": null,
            "grid_template_areas": null,
            "grid_template_columns": null,
            "grid_template_rows": null,
            "height": null,
            "justify_content": null,
            "justify_items": null,
            "left": null,
            "margin": null,
            "max_height": null,
            "max_width": null,
            "min_height": null,
            "min_width": null,
            "object_fit": null,
            "object_position": null,
            "order": null,
            "overflow": null,
            "overflow_x": null,
            "overflow_y": null,
            "padding": null,
            "right": null,
            "top": null,
            "visibility": null,
            "width": null
          }
        },
        "620152b2d20247bc9a39db9eb7393708": {
          "model_module": "@jupyter-widgets/base",
          "model_module_version": "1.2.0",
          "model_name": "LayoutModel",
          "state": {
            "_model_module": "@jupyter-widgets/base",
            "_model_module_version": "1.2.0",
            "_model_name": "LayoutModel",
            "_view_count": null,
            "_view_module": "@jupyter-widgets/base",
            "_view_module_version": "1.2.0",
            "_view_name": "LayoutView",
            "align_content": null,
            "align_items": null,
            "align_self": null,
            "border": null,
            "bottom": null,
            "display": null,
            "flex": null,
            "flex_flow": null,
            "grid_area": null,
            "grid_auto_columns": null,
            "grid_auto_flow": null,
            "grid_auto_rows": null,
            "grid_column": null,
            "grid_gap": null,
            "grid_row": null,
            "grid_template_areas": null,
            "grid_template_columns": null,
            "grid_template_rows": null,
            "height": null,
            "justify_content": null,
            "justify_items": null,
            "left": null,
            "margin": null,
            "max_height": null,
            "max_width": null,
            "min_height": null,
            "min_width": null,
            "object_fit": null,
            "object_position": null,
            "order": null,
            "overflow": null,
            "overflow_x": null,
            "overflow_y": null,
            "padding": null,
            "right": null,
            "top": null,
            "visibility": null,
            "width": null
          }
        },
        "68a842d34eaa4bc4b2be9a61b3601bb3": {
          "model_module": "@jupyter-widgets/controls",
          "model_module_version": "1.5.0",
          "model_name": "ProgressStyleModel",
          "state": {
            "_model_module": "@jupyter-widgets/controls",
            "_model_module_version": "1.5.0",
            "_model_name": "ProgressStyleModel",
            "_view_count": null,
            "_view_module": "@jupyter-widgets/base",
            "_view_module_version": "1.2.0",
            "_view_name": "StyleView",
            "bar_color": null,
            "description_width": ""
          }
        },
        "69f810aa0e5d4a29af771cd873053999": {
          "model_module": "@jupyter-widgets/base",
          "model_module_version": "1.2.0",
          "model_name": "LayoutModel",
          "state": {
            "_model_module": "@jupyter-widgets/base",
            "_model_module_version": "1.2.0",
            "_model_name": "LayoutModel",
            "_view_count": null,
            "_view_module": "@jupyter-widgets/base",
            "_view_module_version": "1.2.0",
            "_view_name": "LayoutView",
            "align_content": null,
            "align_items": null,
            "align_self": null,
            "border": null,
            "bottom": null,
            "display": null,
            "flex": null,
            "flex_flow": null,
            "grid_area": null,
            "grid_auto_columns": null,
            "grid_auto_flow": null,
            "grid_auto_rows": null,
            "grid_column": null,
            "grid_gap": null,
            "grid_row": null,
            "grid_template_areas": null,
            "grid_template_columns": null,
            "grid_template_rows": null,
            "height": null,
            "justify_content": null,
            "justify_items": null,
            "left": null,
            "margin": null,
            "max_height": null,
            "max_width": null,
            "min_height": null,
            "min_width": null,
            "object_fit": null,
            "object_position": null,
            "order": null,
            "overflow": null,
            "overflow_x": null,
            "overflow_y": null,
            "padding": null,
            "right": null,
            "top": null,
            "visibility": null,
            "width": null
          }
        },
        "6d7148e48d13448985cf8e774ad73093": {
          "model_module": "@jupyter-widgets/controls",
          "model_module_version": "1.5.0",
          "model_name": "HTMLModel",
          "state": {
            "_dom_classes": [],
            "_model_module": "@jupyter-widgets/controls",
            "_model_module_version": "1.5.0",
            "_model_name": "HTMLModel",
            "_view_count": null,
            "_view_module": "@jupyter-widgets/controls",
            "_view_module_version": "1.5.0",
            "_view_name": "HTMLView",
            "description": "",
            "description_tooltip": null,
            "layout": "IPY_MODEL_620152b2d20247bc9a39db9eb7393708",
            "placeholder": "​",
            "style": "IPY_MODEL_c65636e120fd48ebaa658c909fd10d66",
            "value": " 6146/6146 [00:00&lt;00:00, 45375.07it/s]"
          }
        },
        "71923c7bae1d40eda0c2f571f127bf4b": {
          "model_module": "@jupyter-widgets/base",
          "model_module_version": "1.2.0",
          "model_name": "LayoutModel",
          "state": {
            "_model_module": "@jupyter-widgets/base",
            "_model_module_version": "1.2.0",
            "_model_name": "LayoutModel",
            "_view_count": null,
            "_view_module": "@jupyter-widgets/base",
            "_view_module_version": "1.2.0",
            "_view_name": "LayoutView",
            "align_content": null,
            "align_items": null,
            "align_self": null,
            "border": null,
            "bottom": null,
            "display": null,
            "flex": null,
            "flex_flow": null,
            "grid_area": null,
            "grid_auto_columns": null,
            "grid_auto_flow": null,
            "grid_auto_rows": null,
            "grid_column": null,
            "grid_gap": null,
            "grid_row": null,
            "grid_template_areas": null,
            "grid_template_columns": null,
            "grid_template_rows": null,
            "height": null,
            "justify_content": null,
            "justify_items": null,
            "left": null,
            "margin": null,
            "max_height": null,
            "max_width": null,
            "min_height": null,
            "min_width": null,
            "object_fit": null,
            "object_position": null,
            "order": null,
            "overflow": null,
            "overflow_x": null,
            "overflow_y": null,
            "padding": null,
            "right": null,
            "top": null,
            "visibility": null,
            "width": null
          }
        },
        "7644bb14fef64cf8ba3fd903bb9f3d02": {
          "model_module": "@jupyter-widgets/base",
          "model_module_version": "1.2.0",
          "model_name": "LayoutModel",
          "state": {
            "_model_module": "@jupyter-widgets/base",
            "_model_module_version": "1.2.0",
            "_model_name": "LayoutModel",
            "_view_count": null,
            "_view_module": "@jupyter-widgets/base",
            "_view_module_version": "1.2.0",
            "_view_name": "LayoutView",
            "align_content": null,
            "align_items": null,
            "align_self": null,
            "border": null,
            "bottom": null,
            "display": null,
            "flex": null,
            "flex_flow": null,
            "grid_area": null,
            "grid_auto_columns": null,
            "grid_auto_flow": null,
            "grid_auto_rows": null,
            "grid_column": null,
            "grid_gap": null,
            "grid_row": null,
            "grid_template_areas": null,
            "grid_template_columns": null,
            "grid_template_rows": null,
            "height": null,
            "justify_content": null,
            "justify_items": null,
            "left": null,
            "margin": null,
            "max_height": null,
            "max_width": null,
            "min_height": null,
            "min_width": null,
            "object_fit": null,
            "object_position": null,
            "order": null,
            "overflow": null,
            "overflow_x": null,
            "overflow_y": null,
            "padding": null,
            "right": null,
            "top": null,
            "visibility": null,
            "width": null
          }
        },
        "7da56ba6d0e544a9818563115c91d3d6": {
          "model_module": "@jupyter-widgets/base",
          "model_module_version": "1.2.0",
          "model_name": "LayoutModel",
          "state": {
            "_model_module": "@jupyter-widgets/base",
            "_model_module_version": "1.2.0",
            "_model_name": "LayoutModel",
            "_view_count": null,
            "_view_module": "@jupyter-widgets/base",
            "_view_module_version": "1.2.0",
            "_view_name": "LayoutView",
            "align_content": null,
            "align_items": null,
            "align_self": null,
            "border": null,
            "bottom": null,
            "display": null,
            "flex": null,
            "flex_flow": null,
            "grid_area": null,
            "grid_auto_columns": null,
            "grid_auto_flow": null,
            "grid_auto_rows": null,
            "grid_column": null,
            "grid_gap": null,
            "grid_row": null,
            "grid_template_areas": null,
            "grid_template_columns": null,
            "grid_template_rows": null,
            "height": null,
            "justify_content": null,
            "justify_items": null,
            "left": null,
            "margin": null,
            "max_height": null,
            "max_width": null,
            "min_height": null,
            "min_width": null,
            "object_fit": null,
            "object_position": null,
            "order": null,
            "overflow": null,
            "overflow_x": null,
            "overflow_y": null,
            "padding": null,
            "right": null,
            "top": null,
            "visibility": null,
            "width": null
          }
        },
        "85ca6de6818343bcb4cc9d1931743a58": {
          "model_module": "@jupyter-widgets/base",
          "model_module_version": "1.2.0",
          "model_name": "LayoutModel",
          "state": {
            "_model_module": "@jupyter-widgets/base",
            "_model_module_version": "1.2.0",
            "_model_name": "LayoutModel",
            "_view_count": null,
            "_view_module": "@jupyter-widgets/base",
            "_view_module_version": "1.2.0",
            "_view_name": "LayoutView",
            "align_content": null,
            "align_items": null,
            "align_self": null,
            "border": null,
            "bottom": null,
            "display": null,
            "flex": null,
            "flex_flow": null,
            "grid_area": null,
            "grid_auto_columns": null,
            "grid_auto_flow": null,
            "grid_auto_rows": null,
            "grid_column": null,
            "grid_gap": null,
            "grid_row": null,
            "grid_template_areas": null,
            "grid_template_columns": null,
            "grid_template_rows": null,
            "height": null,
            "justify_content": null,
            "justify_items": null,
            "left": null,
            "margin": null,
            "max_height": null,
            "max_width": null,
            "min_height": null,
            "min_width": null,
            "object_fit": null,
            "object_position": null,
            "order": null,
            "overflow": null,
            "overflow_x": null,
            "overflow_y": null,
            "padding": null,
            "right": null,
            "top": null,
            "visibility": null,
            "width": null
          }
        },
        "85f781b088a84f088ae0a52ed1aad27c": {
          "model_module": "@jupyter-widgets/controls",
          "model_module_version": "1.5.0",
          "model_name": "DescriptionStyleModel",
          "state": {
            "_model_module": "@jupyter-widgets/controls",
            "_model_module_version": "1.5.0",
            "_model_name": "DescriptionStyleModel",
            "_view_count": null,
            "_view_module": "@jupyter-widgets/base",
            "_view_module_version": "1.2.0",
            "_view_name": "StyleView",
            "description_width": ""
          }
        },
        "8d310b08d5b74d018dc2bcba1b1ceb71": {
          "model_module": "@jupyter-widgets/base",
          "model_module_version": "1.2.0",
          "model_name": "LayoutModel",
          "state": {
            "_model_module": "@jupyter-widgets/base",
            "_model_module_version": "1.2.0",
            "_model_name": "LayoutModel",
            "_view_count": null,
            "_view_module": "@jupyter-widgets/base",
            "_view_module_version": "1.2.0",
            "_view_name": "LayoutView",
            "align_content": null,
            "align_items": null,
            "align_self": null,
            "border": null,
            "bottom": null,
            "display": null,
            "flex": null,
            "flex_flow": null,
            "grid_area": null,
            "grid_auto_columns": null,
            "grid_auto_flow": null,
            "grid_auto_rows": null,
            "grid_column": null,
            "grid_gap": null,
            "grid_row": null,
            "grid_template_areas": null,
            "grid_template_columns": null,
            "grid_template_rows": null,
            "height": null,
            "justify_content": null,
            "justify_items": null,
            "left": null,
            "margin": null,
            "max_height": null,
            "max_width": null,
            "min_height": null,
            "min_width": null,
            "object_fit": null,
            "object_position": null,
            "order": null,
            "overflow": null,
            "overflow_x": null,
            "overflow_y": null,
            "padding": null,
            "right": null,
            "top": null,
            "visibility": null,
            "width": null
          }
        },
        "8ffa7fd2305d4602a0891748a24e6beb": {
          "model_module": "@jupyter-widgets/controls",
          "model_module_version": "1.5.0",
          "model_name": "HTMLModel",
          "state": {
            "_dom_classes": [],
            "_model_module": "@jupyter-widgets/controls",
            "_model_module_version": "1.5.0",
            "_model_name": "HTMLModel",
            "_view_count": null,
            "_view_module": "@jupyter-widgets/controls",
            "_view_module_version": "1.5.0",
            "_view_name": "HTMLView",
            "description": "",
            "description_tooltip": null,
            "layout": "IPY_MODEL_97b2e86d1ab242fcbffe88e65aaef88a",
            "placeholder": "​",
            "style": "IPY_MODEL_54da831916284f2a8cf91a3779363eff",
            "value": " 13/13 [00:00&lt;00:00, 34.59it/s]"
          }
        },
        "909205d1e3754531ad84902cb4bda4f6": {
          "model_module": "@jupyter-widgets/base",
          "model_module_version": "1.2.0",
          "model_name": "LayoutModel",
          "state": {
            "_model_module": "@jupyter-widgets/base",
            "_model_module_version": "1.2.0",
            "_model_name": "LayoutModel",
            "_view_count": null,
            "_view_module": "@jupyter-widgets/base",
            "_view_module_version": "1.2.0",
            "_view_name": "LayoutView",
            "align_content": null,
            "align_items": null,
            "align_self": null,
            "border": null,
            "bottom": null,
            "display": null,
            "flex": null,
            "flex_flow": null,
            "grid_area": null,
            "grid_auto_columns": null,
            "grid_auto_flow": null,
            "grid_auto_rows": null,
            "grid_column": null,
            "grid_gap": null,
            "grid_row": null,
            "grid_template_areas": null,
            "grid_template_columns": null,
            "grid_template_rows": null,
            "height": null,
            "justify_content": null,
            "justify_items": null,
            "left": null,
            "margin": null,
            "max_height": null,
            "max_width": null,
            "min_height": null,
            "min_width": null,
            "object_fit": null,
            "object_position": null,
            "order": null,
            "overflow": null,
            "overflow_x": null,
            "overflow_y": null,
            "padding": null,
            "right": null,
            "top": null,
            "visibility": null,
            "width": null
          }
        },
        "96db0ab41f584ee6aa9d2accd42579fa": {
          "model_module": "@jupyter-widgets/controls",
          "model_module_version": "1.5.0",
          "model_name": "DescriptionStyleModel",
          "state": {
            "_model_module": "@jupyter-widgets/controls",
            "_model_module_version": "1.5.0",
            "_model_name": "DescriptionStyleModel",
            "_view_count": null,
            "_view_module": "@jupyter-widgets/base",
            "_view_module_version": "1.2.0",
            "_view_name": "StyleView",
            "description_width": ""
          }
        },
        "97b2e86d1ab242fcbffe88e65aaef88a": {
          "model_module": "@jupyter-widgets/base",
          "model_module_version": "1.2.0",
          "model_name": "LayoutModel",
          "state": {
            "_model_module": "@jupyter-widgets/base",
            "_model_module_version": "1.2.0",
            "_model_name": "LayoutModel",
            "_view_count": null,
            "_view_module": "@jupyter-widgets/base",
            "_view_module_version": "1.2.0",
            "_view_name": "LayoutView",
            "align_content": null,
            "align_items": null,
            "align_self": null,
            "border": null,
            "bottom": null,
            "display": null,
            "flex": null,
            "flex_flow": null,
            "grid_area": null,
            "grid_auto_columns": null,
            "grid_auto_flow": null,
            "grid_auto_rows": null,
            "grid_column": null,
            "grid_gap": null,
            "grid_row": null,
            "grid_template_areas": null,
            "grid_template_columns": null,
            "grid_template_rows": null,
            "height": null,
            "justify_content": null,
            "justify_items": null,
            "left": null,
            "margin": null,
            "max_height": null,
            "max_width": null,
            "min_height": null,
            "min_width": null,
            "object_fit": null,
            "object_position": null,
            "order": null,
            "overflow": null,
            "overflow_x": null,
            "overflow_y": null,
            "padding": null,
            "right": null,
            "top": null,
            "visibility": null,
            "width": null
          }
        },
        "9e565c0497e742deb57ae2d0f54a532f": {
          "model_module": "@jupyter-widgets/controls",
          "model_module_version": "1.5.0",
          "model_name": "ProgressStyleModel",
          "state": {
            "_model_module": "@jupyter-widgets/controls",
            "_model_module_version": "1.5.0",
            "_model_name": "ProgressStyleModel",
            "_view_count": null,
            "_view_module": "@jupyter-widgets/base",
            "_view_module_version": "1.2.0",
            "_view_name": "StyleView",
            "bar_color": null,
            "description_width": ""
          }
        },
        "a36a61a5fe0e4817aa7e5b78585a3451": {
          "model_module": "@jupyter-widgets/base",
          "model_module_version": "1.2.0",
          "model_name": "LayoutModel",
          "state": {
            "_model_module": "@jupyter-widgets/base",
            "_model_module_version": "1.2.0",
            "_model_name": "LayoutModel",
            "_view_count": null,
            "_view_module": "@jupyter-widgets/base",
            "_view_module_version": "1.2.0",
            "_view_name": "LayoutView",
            "align_content": null,
            "align_items": null,
            "align_self": null,
            "border": null,
            "bottom": null,
            "display": null,
            "flex": null,
            "flex_flow": null,
            "grid_area": null,
            "grid_auto_columns": null,
            "grid_auto_flow": null,
            "grid_auto_rows": null,
            "grid_column": null,
            "grid_gap": null,
            "grid_row": null,
            "grid_template_areas": null,
            "grid_template_columns": null,
            "grid_template_rows": null,
            "height": null,
            "justify_content": null,
            "justify_items": null,
            "left": null,
            "margin": null,
            "max_height": null,
            "max_width": null,
            "min_height": null,
            "min_width": null,
            "object_fit": null,
            "object_position": null,
            "order": null,
            "overflow": null,
            "overflow_x": null,
            "overflow_y": null,
            "padding": null,
            "right": null,
            "top": null,
            "visibility": null,
            "width": null
          }
        },
        "a8d02b04fc2e46a5a1c1cd68850dc936": {
          "model_module": "@jupyter-widgets/controls",
          "model_module_version": "1.5.0",
          "model_name": "DescriptionStyleModel",
          "state": {
            "_model_module": "@jupyter-widgets/controls",
            "_model_module_version": "1.5.0",
            "_model_name": "DescriptionStyleModel",
            "_view_count": null,
            "_view_module": "@jupyter-widgets/base",
            "_view_module_version": "1.2.0",
            "_view_name": "StyleView",
            "description_width": ""
          }
        },
        "b00a281049dc4f34836ede32a8dd13ea": {
          "model_module": "@jupyter-widgets/base",
          "model_module_version": "1.2.0",
          "model_name": "LayoutModel",
          "state": {
            "_model_module": "@jupyter-widgets/base",
            "_model_module_version": "1.2.0",
            "_model_name": "LayoutModel",
            "_view_count": null,
            "_view_module": "@jupyter-widgets/base",
            "_view_module_version": "1.2.0",
            "_view_name": "LayoutView",
            "align_content": null,
            "align_items": null,
            "align_self": null,
            "border": null,
            "bottom": null,
            "display": null,
            "flex": null,
            "flex_flow": null,
            "grid_area": null,
            "grid_auto_columns": null,
            "grid_auto_flow": null,
            "grid_auto_rows": null,
            "grid_column": null,
            "grid_gap": null,
            "grid_row": null,
            "grid_template_areas": null,
            "grid_template_columns": null,
            "grid_template_rows": null,
            "height": null,
            "justify_content": null,
            "justify_items": null,
            "left": null,
            "margin": null,
            "max_height": null,
            "max_width": null,
            "min_height": null,
            "min_width": null,
            "object_fit": null,
            "object_position": null,
            "order": null,
            "overflow": null,
            "overflow_x": null,
            "overflow_y": null,
            "padding": null,
            "right": null,
            "top": null,
            "visibility": null,
            "width": null
          }
        },
        "b257325f8c7b4d3e8d2f36040dc54cff": {
          "model_module": "@jupyter-widgets/controls",
          "model_module_version": "1.5.0",
          "model_name": "FloatProgressModel",
          "state": {
            "_dom_classes": [],
            "_model_module": "@jupyter-widgets/controls",
            "_model_module_version": "1.5.0",
            "_model_name": "FloatProgressModel",
            "_view_count": null,
            "_view_module": "@jupyter-widgets/controls",
            "_view_module_version": "1.5.0",
            "_view_name": "ProgressView",
            "bar_style": "success",
            "description": "",
            "description_tooltip": null,
            "layout": "IPY_MODEL_b00a281049dc4f34836ede32a8dd13ea",
            "max": 13,
            "min": 0,
            "orientation": "horizontal",
            "style": "IPY_MODEL_026e2d71cda741ff80bdf162ec94ef8f",
            "value": 13
          }
        },
        "b55554a775c0426c8c0b440b795cdf42": {
          "model_module": "@jupyter-widgets/controls",
          "model_module_version": "1.5.0",
          "model_name": "FloatProgressModel",
          "state": {
            "_dom_classes": [],
            "_model_module": "@jupyter-widgets/controls",
            "_model_module_version": "1.5.0",
            "_model_name": "FloatProgressModel",
            "_view_count": null,
            "_view_module": "@jupyter-widgets/controls",
            "_view_module_version": "1.5.0",
            "_view_name": "ProgressView",
            "bar_style": "success",
            "description": "",
            "description_tooltip": null,
            "layout": "IPY_MODEL_1b836d9790fd4b4d9cdcb29e456d632d",
            "max": 6146,
            "min": 0,
            "orientation": "horizontal",
            "style": "IPY_MODEL_d90affaab7d34092b15579835f954b9d",
            "value": 6146
          }
        },
        "b6b4a1e25c4849bfbca849bc2c1ea1a7": {
          "model_module": "@jupyter-widgets/base",
          "model_module_version": "1.2.0",
          "model_name": "LayoutModel",
          "state": {
            "_model_module": "@jupyter-widgets/base",
            "_model_module_version": "1.2.0",
            "_model_name": "LayoutModel",
            "_view_count": null,
            "_view_module": "@jupyter-widgets/base",
            "_view_module_version": "1.2.0",
            "_view_name": "LayoutView",
            "align_content": null,
            "align_items": null,
            "align_self": null,
            "border": null,
            "bottom": null,
            "display": null,
            "flex": null,
            "flex_flow": null,
            "grid_area": null,
            "grid_auto_columns": null,
            "grid_auto_flow": null,
            "grid_auto_rows": null,
            "grid_column": null,
            "grid_gap": null,
            "grid_row": null,
            "grid_template_areas": null,
            "grid_template_columns": null,
            "grid_template_rows": null,
            "height": null,
            "justify_content": null,
            "justify_items": null,
            "left": null,
            "margin": null,
            "max_height": null,
            "max_width": null,
            "min_height": null,
            "min_width": null,
            "object_fit": null,
            "object_position": null,
            "order": null,
            "overflow": null,
            "overflow_x": null,
            "overflow_y": null,
            "padding": null,
            "right": null,
            "top": null,
            "visibility": null,
            "width": null
          }
        },
        "c47ad404be0b4c278f182482e56a4597": {
          "model_module": "@jupyter-widgets/controls",
          "model_module_version": "1.5.0",
          "model_name": "HTMLModel",
          "state": {
            "_dom_classes": [],
            "_model_module": "@jupyter-widgets/controls",
            "_model_module_version": "1.5.0",
            "_model_name": "HTMLModel",
            "_view_count": null,
            "_view_module": "@jupyter-widgets/controls",
            "_view_module_version": "1.5.0",
            "_view_name": "HTMLView",
            "description": "",
            "description_tooltip": null,
            "layout": "IPY_MODEL_909205d1e3754531ad84902cb4bda4f6",
            "placeholder": "​",
            "style": "IPY_MODEL_032b912c5f0849b887a0bf67d17f7224",
            "value": "Compute SNP effects: 100%"
          }
        },
        "c4a3c08a299f4d4f94cc007c7d3853fe": {
          "model_module": "@jupyter-widgets/controls",
          "model_module_version": "1.5.0",
          "model_name": "DescriptionStyleModel",
          "state": {
            "_model_module": "@jupyter-widgets/controls",
            "_model_module_version": "1.5.0",
            "_model_name": "DescriptionStyleModel",
            "_view_count": null,
            "_view_module": "@jupyter-widgets/base",
            "_view_module_version": "1.2.0",
            "_view_name": "StyleView",
            "description_width": ""
          }
        },
        "c65636e120fd48ebaa658c909fd10d66": {
          "model_module": "@jupyter-widgets/controls",
          "model_module_version": "1.5.0",
          "model_name": "DescriptionStyleModel",
          "state": {
            "_model_module": "@jupyter-widgets/controls",
            "_model_module_version": "1.5.0",
            "_model_name": "DescriptionStyleModel",
            "_view_count": null,
            "_view_module": "@jupyter-widgets/base",
            "_view_module_version": "1.2.0",
            "_view_name": "StyleView",
            "description_width": ""
          }
        },
        "cd2d2611c39d46799142f3608b365566": {
          "model_module": "@jupyter-widgets/controls",
          "model_module_version": "1.5.0",
          "model_name": "DescriptionStyleModel",
          "state": {
            "_model_module": "@jupyter-widgets/controls",
            "_model_module_version": "1.5.0",
            "_model_name": "DescriptionStyleModel",
            "_view_count": null,
            "_view_module": "@jupyter-widgets/base",
            "_view_module_version": "1.2.0",
            "_view_name": "StyleView",
            "description_width": ""
          }
        },
        "d2f3fe41b28b4d5badbf9999a6e1a656": {
          "model_module": "@jupyter-widgets/controls",
          "model_module_version": "1.5.0",
          "model_name": "HBoxModel",
          "state": {
            "_dom_classes": [],
            "_model_module": "@jupyter-widgets/controls",
            "_model_module_version": "1.5.0",
            "_model_name": "HBoxModel",
            "_view_count": null,
            "_view_module": "@jupyter-widgets/controls",
            "_view_module_version": "1.5.0",
            "_view_name": "HBoxView",
            "box_style": "",
            "children": [
              "IPY_MODEL_f84d5265a4ca4bf3971059fcb021c6ba",
              "IPY_MODEL_0a11b6ddffa841c9973d3c22ae715859",
              "IPY_MODEL_8ffa7fd2305d4602a0891748a24e6beb"
            ],
            "layout": "IPY_MODEL_e3325bf082b148698272a514ddc582a5"
          }
        },
        "d3d10cddb5fa49d89fb27a05427429b7": {
          "model_module": "@jupyter-widgets/base",
          "model_module_version": "1.2.0",
          "model_name": "LayoutModel",
          "state": {
            "_model_module": "@jupyter-widgets/base",
            "_model_module_version": "1.2.0",
            "_model_name": "LayoutModel",
            "_view_count": null,
            "_view_module": "@jupyter-widgets/base",
            "_view_module_version": "1.2.0",
            "_view_name": "LayoutView",
            "align_content": null,
            "align_items": null,
            "align_self": null,
            "border": null,
            "bottom": null,
            "display": null,
            "flex": null,
            "flex_flow": null,
            "grid_area": null,
            "grid_auto_columns": null,
            "grid_auto_flow": null,
            "grid_auto_rows": null,
            "grid_column": null,
            "grid_gap": null,
            "grid_row": null,
            "grid_template_areas": null,
            "grid_template_columns": null,
            "grid_template_rows": null,
            "height": null,
            "justify_content": null,
            "justify_items": null,
            "left": null,
            "margin": null,
            "max_height": null,
            "max_width": null,
            "min_height": null,
            "min_width": null,
            "object_fit": null,
            "object_position": null,
            "order": null,
            "overflow": null,
            "overflow_x": null,
            "overflow_y": null,
            "padding": null,
            "right": null,
            "top": null,
            "visibility": null,
            "width": null
          }
        },
        "d6ebb05e28a747c4ad0776151be4cdcd": {
          "model_module": "@jupyter-widgets/base",
          "model_module_version": "1.2.0",
          "model_name": "LayoutModel",
          "state": {
            "_model_module": "@jupyter-widgets/base",
            "_model_module_version": "1.2.0",
            "_model_name": "LayoutModel",
            "_view_count": null,
            "_view_module": "@jupyter-widgets/base",
            "_view_module_version": "1.2.0",
            "_view_name": "LayoutView",
            "align_content": null,
            "align_items": null,
            "align_self": null,
            "border": null,
            "bottom": null,
            "display": null,
            "flex": null,
            "flex_flow": null,
            "grid_area": null,
            "grid_auto_columns": null,
            "grid_auto_flow": null,
            "grid_auto_rows": null,
            "grid_column": null,
            "grid_gap": null,
            "grid_row": null,
            "grid_template_areas": null,
            "grid_template_columns": null,
            "grid_template_rows": null,
            "height": null,
            "justify_content": null,
            "justify_items": null,
            "left": null,
            "margin": null,
            "max_height": null,
            "max_width": null,
            "min_height": null,
            "min_width": null,
            "object_fit": null,
            "object_position": null,
            "order": null,
            "overflow": null,
            "overflow_x": null,
            "overflow_y": null,
            "padding": null,
            "right": null,
            "top": null,
            "visibility": null,
            "width": null
          }
        },
        "d90affaab7d34092b15579835f954b9d": {
          "model_module": "@jupyter-widgets/controls",
          "model_module_version": "1.5.0",
          "model_name": "ProgressStyleModel",
          "state": {
            "_model_module": "@jupyter-widgets/controls",
            "_model_module_version": "1.5.0",
            "_model_name": "ProgressStyleModel",
            "_view_count": null,
            "_view_module": "@jupyter-widgets/base",
            "_view_module_version": "1.2.0",
            "_view_name": "StyleView",
            "bar_color": null,
            "description_width": ""
          }
        },
        "de794a0b95dd49af8f81cd146e55d93f": {
          "model_module": "@jupyter-widgets/controls",
          "model_module_version": "1.5.0",
          "model_name": "HBoxModel",
          "state": {
            "_dom_classes": [],
            "_model_module": "@jupyter-widgets/controls",
            "_model_module_version": "1.5.0",
            "_model_name": "HBoxModel",
            "_view_count": null,
            "_view_module": "@jupyter-widgets/controls",
            "_view_module_version": "1.5.0",
            "_view_name": "HBoxView",
            "box_style": "",
            "children": [
              "IPY_MODEL_27a57a063c684fb5be531746e27f3e69",
              "IPY_MODEL_350a07afdc964a77a35b9dcc3ac0119c",
              "IPY_MODEL_2e2213d0c4a1485ea72e533cf6c4fc02"
            ],
            "layout": "IPY_MODEL_69f810aa0e5d4a29af771cd873053999"
          }
        },
        "ded7d8d20394493a8eae3e832e2bf8e6": {
          "model_module": "@jupyter-widgets/base",
          "model_module_version": "1.2.0",
          "model_name": "LayoutModel",
          "state": {
            "_model_module": "@jupyter-widgets/base",
            "_model_module_version": "1.2.0",
            "_model_name": "LayoutModel",
            "_view_count": null,
            "_view_module": "@jupyter-widgets/base",
            "_view_module_version": "1.2.0",
            "_view_name": "LayoutView",
            "align_content": null,
            "align_items": null,
            "align_self": null,
            "border": null,
            "bottom": null,
            "display": null,
            "flex": null,
            "flex_flow": null,
            "grid_area": null,
            "grid_auto_columns": null,
            "grid_auto_flow": null,
            "grid_auto_rows": null,
            "grid_column": null,
            "grid_gap": null,
            "grid_row": null,
            "grid_template_areas": null,
            "grid_template_columns": null,
            "grid_template_rows": null,
            "height": null,
            "justify_content": null,
            "justify_items": null,
            "left": null,
            "margin": null,
            "max_height": null,
            "max_width": null,
            "min_height": null,
            "min_width": null,
            "object_fit": null,
            "object_position": null,
            "order": null,
            "overflow": null,
            "overflow_x": null,
            "overflow_y": null,
            "padding": null,
            "right": null,
            "top": null,
            "visibility": null,
            "width": null
          }
        },
        "e3325bf082b148698272a514ddc582a5": {
          "model_module": "@jupyter-widgets/base",
          "model_module_version": "1.2.0",
          "model_name": "LayoutModel",
          "state": {
            "_model_module": "@jupyter-widgets/base",
            "_model_module_version": "1.2.0",
            "_model_name": "LayoutModel",
            "_view_count": null,
            "_view_module": "@jupyter-widgets/base",
            "_view_module_version": "1.2.0",
            "_view_name": "LayoutView",
            "align_content": null,
            "align_items": null,
            "align_self": null,
            "border": null,
            "bottom": null,
            "display": null,
            "flex": null,
            "flex_flow": null,
            "grid_area": null,
            "grid_auto_columns": null,
            "grid_auto_flow": null,
            "grid_auto_rows": null,
            "grid_column": null,
            "grid_gap": null,
            "grid_row": null,
            "grid_template_areas": null,
            "grid_template_columns": null,
            "grid_template_rows": null,
            "height": null,
            "justify_content": null,
            "justify_items": null,
            "left": null,
            "margin": null,
            "max_height": null,
            "max_width": null,
            "min_height": null,
            "min_width": null,
            "object_fit": null,
            "object_position": null,
            "order": null,
            "overflow": null,
            "overflow_x": null,
            "overflow_y": null,
            "padding": null,
            "right": null,
            "top": null,
            "visibility": null,
            "width": null
          }
        },
        "f2aea68221514f2daaa25b51d1b3a40f": {
          "model_module": "@jupyter-widgets/controls",
          "model_module_version": "1.5.0",
          "model_name": "HTMLModel",
          "state": {
            "_dom_classes": [],
            "_model_module": "@jupyter-widgets/controls",
            "_model_module_version": "1.5.0",
            "_model_name": "HTMLModel",
            "_view_count": null,
            "_view_module": "@jupyter-widgets/controls",
            "_view_module_version": "1.5.0",
            "_view_name": "HTMLView",
            "description": "",
            "description_tooltip": null,
            "layout": "IPY_MODEL_1ebade60f5a047a7b3c32263b9fe2062",
            "placeholder": "​",
            "style": "IPY_MODEL_a8d02b04fc2e46a5a1c1cd68850dc936",
            "value": "Load SNP genotypes: 100%"
          }
        },
        "f325284e4dc447ae9b4a132a1284ab0f": {
          "model_module": "@jupyter-widgets/controls",
          "model_module_version": "1.5.0",
          "model_name": "HTMLModel",
          "state": {
            "_dom_classes": [],
            "_model_module": "@jupyter-widgets/controls",
            "_model_module_version": "1.5.0",
            "_model_name": "HTMLModel",
            "_view_count": null,
            "_view_module": "@jupyter-widgets/controls",
            "_view_module_version": "1.5.0",
            "_view_name": "HTMLView",
            "description": "",
            "description_tooltip": null,
            "layout": "IPY_MODEL_177c398c48b04fd0a5cb91ab0c34134c",
            "placeholder": "​",
            "style": "IPY_MODEL_4c7edde96f42485492ad8739ee871071",
            "value": "Compute allele frequencies: 100%"
          }
        },
        "f84d5265a4ca4bf3971059fcb021c6ba": {
          "model_module": "@jupyter-widgets/controls",
          "model_module_version": "1.5.0",
          "model_name": "HTMLModel",
          "state": {
            "_dom_classes": [],
            "_model_module": "@jupyter-widgets/controls",
            "_model_module_version": "1.5.0",
            "_model_name": "HTMLModel",
            "_view_count": null,
            "_view_module": "@jupyter-widgets/controls",
            "_view_module_version": "1.5.0",
            "_view_name": "HTMLView",
            "description": "",
            "description_tooltip": null,
            "layout": "IPY_MODEL_71923c7bae1d40eda0c2f571f127bf4b",
            "placeholder": "​",
            "style": "IPY_MODEL_cd2d2611c39d46799142f3608b365566",
            "value": "Compute SNP allele frequencies: 100%"
          }
        },
        "fa3c7f8e0ccf4f1d955f04f782936201": {
          "model_module": "@jupyter-widgets/controls",
          "model_module_version": "1.5.0",
          "model_name": "HBoxModel",
          "state": {
            "_dom_classes": [],
            "_model_module": "@jupyter-widgets/controls",
            "_model_module_version": "1.5.0",
            "_model_name": "HBoxModel",
            "_view_count": null,
            "_view_module": "@jupyter-widgets/controls",
            "_view_module_version": "1.5.0",
            "_view_name": "HBoxView",
            "box_style": "",
            "children": [
              "IPY_MODEL_c47ad404be0b4c278f182482e56a4597",
              "IPY_MODEL_b55554a775c0426c8c0b440b795cdf42",
              "IPY_MODEL_6d7148e48d13448985cf8e774ad73093"
            ],
            "layout": "IPY_MODEL_85ca6de6818343bcb4cc9d1931743a58"
          }
        },
        "fa3e89747ca741b3abd880ca98140389": {
          "model_module": "@jupyter-widgets/controls",
          "model_module_version": "1.5.0",
          "model_name": "ProgressStyleModel",
          "state": {
            "_model_module": "@jupyter-widgets/controls",
            "_model_module_version": "1.5.0",
            "_model_name": "ProgressStyleModel",
            "_view_count": null,
            "_view_module": "@jupyter-widgets/base",
            "_view_module_version": "1.2.0",
            "_view_name": "StyleView",
            "bar_color": null,
            "description_width": ""
          }
        }
      }
    }
  },
  "nbformat": 4,
  "nbformat_minor": 0
}
